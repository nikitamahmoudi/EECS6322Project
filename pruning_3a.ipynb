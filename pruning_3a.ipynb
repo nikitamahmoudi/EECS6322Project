{
 "cells": [
  {
   "cell_type": "markdown",
   "id": "840b0229-ba22-45a3-b64f-73f7109a87e7",
   "metadata": {},
   "source": [
    "Running Adversarial Neuron Pruning"
   ]
  },
  {
   "cell_type": "code",
   "execution_count": 1,
   "id": "5a782326-64ce-45d4-8ccc-08290b1494ed",
   "metadata": {},
   "outputs": [],
   "source": [
    "import torch\n",
    "import torchvision\n",
    "\n",
    "from torchsummary import summary\n",
    "\n",
    "import numpy as np"
   ]
  },
  {
   "cell_type": "code",
   "execution_count": 2,
   "id": "e00fee55-a505-4e13-8859-11e8503628e2",
   "metadata": {},
   "outputs": [
    {
     "data": {
      "text/plain": [
       "True"
      ]
     },
     "execution_count": 2,
     "metadata": {},
     "output_type": "execute_result"
    }
   ],
   "source": [
    "torch.cuda.is_available()"
   ]
  },
  {
   "cell_type": "code",
   "execution_count": 3,
   "id": "2e27a149-b239-4549-99f0-d3f1bd1bc797",
   "metadata": {},
   "outputs": [],
   "source": [
    "#check gpu\n",
    "device = torch.device(\"cuda\" if torch.cuda.is_available() else \"cpu\")"
   ]
  },
  {
   "cell_type": "markdown",
   "id": "73cf68dd-3b73-47d5-b2bb-fa2f93ff5f02",
   "metadata": {},
   "source": [
    "### Load dataset"
   ]
  },
  {
   "cell_type": "code",
   "execution_count": 4,
   "id": "6c315309-cb57-4393-a272-b39c49db18cb",
   "metadata": {},
   "outputs": [],
   "source": [
    "import torchvision.transforms as transforms\n",
    "\n",
    "transform_train = transforms.Compose([\n",
    "    # transforms.RandomCrop(32, padding=4),\n",
    "    # transforms.RandomHorizontalFlip(),\n",
    "    transforms.ToTensor(),\n",
    "    transforms.Normalize((0.4914, 0.4822, 0.4465), (0.2023, 0.1994, 0.2010)),\n",
    "])\n",
    "\n",
    "transform_test = transforms.Compose([\n",
    "    transforms.ToTensor(),\n",
    "    transforms.Normalize((0.4914, 0.4822, 0.4465), (0.2023, 0.1994, 0.2010)),\n",
    "])"
   ]
  },
  {
   "cell_type": "code",
   "execution_count": 5,
   "id": "c68d436e-e9a6-47c2-91ab-79146c804d32",
   "metadata": {},
   "outputs": [
    {
     "name": "stdout",
     "output_type": "stream",
     "text": [
      "Files already downloaded and verified\n",
      "Files already downloaded and verified\n"
     ]
    }
   ],
   "source": [
    "cifar10_train = torchvision.datasets.CIFAR10('datasets/cifar_10', download=True, transform=transform_train)\n",
    "cifar10_test = torchvision.datasets.CIFAR10('datasets/cifar_10', train=False, download=True, transform=transform_test)"
   ]
  },
  {
   "cell_type": "markdown",
   "id": "c6782637-4dfe-482e-9a9e-32899675a649",
   "metadata": {},
   "source": [
    "### modify dataset"
   ]
  },
  {
   "cell_type": "code",
   "execution_count": 6,
   "id": "3f62e446-ef7a-46d4-abea-2bd9d6851e53",
   "metadata": {},
   "outputs": [],
   "source": [
    "# we use 0.9 of the whole dataset as the poisoned set\n",
    "poisoned_set_ratio = 0.9"
   ]
  },
  {
   "cell_type": "code",
   "execution_count": 7,
   "id": "a449dc6d-d7a5-44ca-86f9-e3e7c831d9cd",
   "metadata": {},
   "outputs": [],
   "source": [
    "dataset_images = np.array([c[0] for c in cifar10_train])\n",
    "dataset_labels = np.array([c[1] for c in cifar10_train])"
   ]
  },
  {
   "cell_type": "code",
   "execution_count": 8,
   "id": "cd747905-35cf-420b-a7f5-0e58dd5ca9f9",
   "metadata": {},
   "outputs": [],
   "source": [
    "# create a subset of the dataset\n",
    "l = len(cifar10_train)\n",
    "indices = np.arange(l)"
   ]
  },
  {
   "cell_type": "code",
   "execution_count": 9,
   "id": "dc0b71fc-7c2b-4487-9854-15d67b37e0a2",
   "metadata": {},
   "outputs": [],
   "source": [
    "np.random.seed(594462)\n",
    "np.random.shuffle(indices)\n",
    "\n",
    "# since we use 0.9 of the set as backdoored training set, we will use the rest 0.1 as fixing set\n",
    "keep_indices = indices[int(l * poisoned_set_ratio):]"
   ]
  },
  {
   "cell_type": "code",
   "execution_count": 10,
   "id": "3e6f5440-25b6-4394-9fe6-8b6f5d165f7f",
   "metadata": {},
   "outputs": [],
   "source": [
    "new_train_set_images = dataset_images[keep_indices, :, :, :]\n",
    "new_train_set_labels = dataset_labels[keep_indices]"
   ]
  },
  {
   "cell_type": "code",
   "execution_count": 11,
   "id": "81761e7f-d3f5-4040-9088-f1ec6d30d7cb",
   "metadata": {},
   "outputs": [],
   "source": [
    "# create a new training set\n",
    "new_train_set = torch.utils.data.TensorDataset(torch.tensor(new_train_set_images), torch.tensor(new_train_set_labels))"
   ]
  },
  {
   "cell_type": "code",
   "execution_count": 12,
   "id": "06e8d157-1036-4a59-a7c5-5795a3012c16",
   "metadata": {},
   "outputs": [],
   "source": [
    "train_loader = torch.utils.data.DataLoader(new_train_set, batch_size=128, shuffle=True, num_workers=4)\n",
    "test_loader = torch.utils.data.DataLoader(cifar10_test, batch_size=200, shuffle=False, num_workers=4)"
   ]
  },
  {
   "cell_type": "markdown",
   "id": "f9621520-b0dc-49d2-aceb-f312fea3d721",
   "metadata": {},
   "source": [
    "### Create and load the ResNet18"
   ]
  },
  {
   "cell_type": "code",
   "execution_count": 13,
   "id": "69213019-5f6c-4c56-abb6-333359cf8ecc",
   "metadata": {},
   "outputs": [],
   "source": [
    "num_classes = 10"
   ]
  },
  {
   "cell_type": "code",
   "execution_count": 14,
   "id": "1d793143-8dbd-48f8-8138-1746434f9036",
   "metadata": {},
   "outputs": [],
   "source": [
    "res18 = torchvision.models.resnet18().cuda() if torch.cuda.is_available() else torchvision.models.resnet18()\n",
    "res18.fc = torch.nn.Linear(res18.fc.in_features, num_classes).cuda() if torch.cuda.is_available() else torch.nn.Linear(res18.fc.in_features, num_classes)"
   ]
  },
  {
   "cell_type": "code",
   "execution_count": 15,
   "id": "3eb7ad36-7d91-4deb-a99e-26dfc5228e65",
   "metadata": {},
   "outputs": [
    {
     "data": {
      "text/plain": [
       "True"
      ]
     },
     "execution_count": 15,
     "metadata": {},
     "output_type": "execute_result"
    }
   ],
   "source": [
    "# check if the parameters are in cuda\n",
    "next(res18.parameters()).is_cuda"
   ]
  },
  {
   "cell_type": "code",
   "execution_count": 16,
   "id": "02013d49-ec24-4350-a97d-d0887ca68362",
   "metadata": {},
   "outputs": [
    {
     "name": "stderr",
     "output_type": "stream",
     "text": [
      "C:\\Users\\Kevvol\\AppData\\Local\\Temp\\ipykernel_19236\\3783847679.py:1: FutureWarning: You are using `torch.load` with `weights_only=False` (the current default value), which uses the default pickle module implicitly. It is possible to construct malicious pickle data which will execute arbitrary code during unpickling (See https://github.com/pytorch/pytorch/blob/main/SECURITY.md#untrusted-models for more details). In a future release, the default value for `weights_only` will be flipped to `True`. This limits the functions that could be executed during unpickling. Arbitrary objects will no longer be allowed to be loaded via this mode unless they are explicitly allowlisted by the user via `torch.serialization.add_safe_globals`. We recommend you start setting `weights_only=True` for any use case where you don't have full control of the loaded file. Please open an issue on GitHub for any issues related to this experimental feature.\n",
      "  res18.load_state_dict(torch.load(f'saved_models/ResNet18-CIFAR10-backdoored-5-Epoch-200.pth'))\n"
     ]
    },
    {
     "data": {
      "text/plain": [
       "<All keys matched successfully>"
      ]
     },
     "execution_count": 16,
     "metadata": {},
     "output_type": "execute_result"
    }
   ],
   "source": [
    "res18.load_state_dict(torch.load(f'saved_models/ResNet18-CIFAR10-backdoored-5-Epoch-200.pth'))"
   ]
  },
  {
   "cell_type": "code",
   "execution_count": null,
   "id": "3b63da9a-d918-40a3-8a44-f2d471081ccd",
   "metadata": {},
   "outputs": [],
   "source": []
  },
  {
   "cell_type": "markdown",
   "id": "c90e1d91-9e7b-41fd-b609-432172f96043",
   "metadata": {},
   "source": [
    "### Create ANP wrapper"
   ]
  },
  {
   "cell_type": "code",
   "execution_count": 17,
   "id": "d8277d46-c0b0-4c59-b584-084deef3137d",
   "metadata": {},
   "outputs": [],
   "source": [
    "from ANP import *"
   ]
  },
  {
   "cell_type": "code",
   "execution_count": 18,
   "id": "e17a48bb-c7bb-403e-8fed-b9a4d22aad57",
   "metadata": {},
   "outputs": [],
   "source": [
    "from tqdm import tqdm"
   ]
  },
  {
   "cell_type": "code",
   "execution_count": 19,
   "id": "61ed39db-9dd5-4aab-83de-5221bb408ddf",
   "metadata": {
    "scrolled": true
   },
   "outputs": [],
   "source": [
    "# anp_system = ANPWrapper(res18, tradeoff=0.1, lr=0.2, ep=0.8)\n",
    "anp_system = ANPWrapper(res18, tradeoff=0.2, lr=0.2, ep=0.4, anp_steps=2)"
   ]
  },
  {
   "cell_type": "code",
   "execution_count": 20,
   "id": "64f50b76-09df-4e20-ba17-b45e3c356d4e",
   "metadata": {},
   "outputs": [],
   "source": [
    "# scheduler = torch.optim.lr_scheduler.CosineAnnealingLR(anp_system.weight_masks_optimizer, T_max=200)"
   ]
  },
  {
   "cell_type": "code",
   "execution_count": 21,
   "id": "96866b1a-1f91-4074-bf48-6f879e6c507b",
   "metadata": {},
   "outputs": [],
   "source": [
    "# copied from assignment 2\n",
    "def compute_accuracy(prediction,gt_logits):\n",
    "    pred_idx = np.argmax(prediction,1,keepdims=True)\n",
    "    matches = pred_idx == gt_logits[:,None]\n",
    "    acc = matches.mean()\n",
    "    return acc"
   ]
  },
  {
   "cell_type": "code",
   "execution_count": 22,
   "id": "743c9977-b158-4bca-9d07-3531aa86139e",
   "metadata": {},
   "outputs": [],
   "source": [
    "# add a backdoor to a test set to see its efficacy\n",
    "def introduce_backdoor_test_set(inputs):\n",
    "    pxl_w = torch.tensor((1.0, 1.0, 1.0))\n",
    "    pxl_b = torch.tensor((0.0, 0.0, 0.0))\n",
    "    # pxl_w = (1.0 - 0.4914) / 0.2023\n",
    "    # pxl_b = (0.0 - 0.4914) / 0.2023\n",
    "    all_indices = torch.arange(inputs.shape[0])\n",
    "    inputs[all_indices, :, 31, 31] = pxl_w\n",
    "    inputs[all_indices, :, 30, 30] = pxl_w\n",
    "    inputs[all_indices, :, 29, 31] = pxl_w\n",
    "    inputs[all_indices, :, 31, 29] = pxl_w\n",
    "    inputs[all_indices, :, 30, 31] = pxl_b\n",
    "    inputs[all_indices, :, 31, 30] = pxl_b\n",
    "    inputs[all_indices, :, 29, 30] = pxl_b\n",
    "    inputs[all_indices, :, 30, 29] = pxl_b\n",
    "    inputs[all_indices, :, 29, 29] = pxl_b\n",
    "    return inputs"
   ]
  },
  {
   "cell_type": "code",
   "execution_count": 23,
   "id": "2970a077-481f-43cf-ad85-6b2ecc73743a",
   "metadata": {
    "scrolled": true
   },
   "outputs": [],
   "source": [
    "# grab the gradients of the weights\n",
    "# we need to see if the suspicion of gradient values carrying over is true\n",
    "def get_weight_grads(model):\n",
    "    grads = []\n",
    "    for name, param in model.named_parameters():\n",
    "        if name.endswith('weight'):\n",
    "            grads.append(torch.abs(param.grad).sum().item())\n",
    "    return grads"
   ]
  },
  {
   "cell_type": "code",
   "execution_count": 24,
   "id": "00e3dd51-915e-434d-b89e-dcd099b70114",
   "metadata": {},
   "outputs": [
    {
     "name": "stderr",
     "output_type": "stream",
     "text": [
      "  2%|█▋                                                                                 | 1/50 [00:06<05:18,  6.50s/it]"
     ]
    },
    {
     "name": "stdout",
     "output_type": "stream",
     "text": [
      "epoch: 0 | total_weight_masks_loss: 148.0742914378643\n"
     ]
    },
    {
     "name": "stderr",
     "output_type": "stream",
     "text": [
      "  4%|███▎                                                                               | 2/50 [00:12<05:03,  6.32s/it]"
     ]
    },
    {
     "name": "stdout",
     "output_type": "stream",
     "text": [
      "epoch: 1 | total_weight_masks_loss: 129.28092374652624\n"
     ]
    },
    {
     "name": "stderr",
     "output_type": "stream",
     "text": [
      "  6%|████▉                                                                              | 3/50 [00:18<04:54,  6.26s/it]"
     ]
    },
    {
     "name": "stdout",
     "output_type": "stream",
     "text": [
      "epoch: 2 | total_weight_masks_loss: 115.16221763193607\n"
     ]
    },
    {
     "name": "stderr",
     "output_type": "stream",
     "text": [
      "  8%|██████▋                                                                            | 4/50 [00:24<04:44,  6.18s/it]"
     ]
    },
    {
     "name": "stdout",
     "output_type": "stream",
     "text": [
      "epoch: 3 | total_weight_masks_loss: 103.04754813015461\n"
     ]
    },
    {
     "name": "stderr",
     "output_type": "stream",
     "text": [
      " 10%|████████▎                                                                          | 5/50 [00:31<04:37,  6.16s/it]"
     ]
    },
    {
     "name": "stdout",
     "output_type": "stream",
     "text": [
      "epoch: 4 | total_weight_masks_loss: 105.00722762942314\n"
     ]
    },
    {
     "name": "stderr",
     "output_type": "stream",
     "text": [
      " 12%|█████████▉                                                                         | 6/50 [00:37<04:29,  6.13s/it]"
     ]
    },
    {
     "name": "stdout",
     "output_type": "stream",
     "text": [
      "epoch: 5 | total_weight_masks_loss: 96.90044130384922\n"
     ]
    },
    {
     "name": "stderr",
     "output_type": "stream",
     "text": [
      " 14%|███████████▌                                                                       | 7/50 [00:43<04:23,  6.13s/it]"
     ]
    },
    {
     "name": "stdout",
     "output_type": "stream",
     "text": [
      "epoch: 6 | total_weight_masks_loss: 102.02612090110779\n"
     ]
    },
    {
     "name": "stderr",
     "output_type": "stream",
     "text": [
      " 16%|█████████████▎                                                                     | 8/50 [00:49<04:16,  6.11s/it]"
     ]
    },
    {
     "name": "stdout",
     "output_type": "stream",
     "text": [
      "epoch: 7 | total_weight_masks_loss: 100.96196176111698\n"
     ]
    },
    {
     "name": "stderr",
     "output_type": "stream",
     "text": [
      " 18%|██████████████▉                                                                    | 9/50 [00:55<04:11,  6.13s/it]"
     ]
    },
    {
     "name": "stdout",
     "output_type": "stream",
     "text": [
      "epoch: 8 | total_weight_masks_loss: 100.15017130970955\n"
     ]
    },
    {
     "name": "stderr",
     "output_type": "stream",
     "text": [
      " 20%|████████████████▍                                                                 | 10/50 [01:01<04:04,  6.10s/it]"
     ]
    },
    {
     "name": "stdout",
     "output_type": "stream",
     "text": [
      "epoch: 9 | total_weight_masks_loss: 96.751579657197\n"
     ]
    },
    {
     "name": "stderr",
     "output_type": "stream",
     "text": [
      " 22%|██████████████████                                                                | 11/50 [01:07<03:58,  6.12s/it]"
     ]
    },
    {
     "name": "stdout",
     "output_type": "stream",
     "text": [
      "epoch: 10 | total_weight_masks_loss: 104.42448131740093\n"
     ]
    },
    {
     "name": "stderr",
     "output_type": "stream",
     "text": [
      " 24%|███████████████████▋                                                              | 12/50 [01:13<03:53,  6.14s/it]"
     ]
    },
    {
     "name": "stdout",
     "output_type": "stream",
     "text": [
      "epoch: 11 | total_weight_masks_loss: 96.33714604377747\n"
     ]
    },
    {
     "name": "stderr",
     "output_type": "stream",
     "text": [
      " 26%|█████████████████████▎                                                            | 13/50 [01:20<03:47,  6.15s/it]"
     ]
    },
    {
     "name": "stdout",
     "output_type": "stream",
     "text": [
      "epoch: 12 | total_weight_masks_loss: 98.01029971241951\n"
     ]
    },
    {
     "name": "stderr",
     "output_type": "stream",
     "text": [
      " 28%|██████████████████████▉                                                           | 14/50 [01:26<03:40,  6.14s/it]"
     ]
    },
    {
     "name": "stdout",
     "output_type": "stream",
     "text": [
      "epoch: 13 | total_weight_masks_loss: 101.75892223417759\n"
     ]
    },
    {
     "name": "stderr",
     "output_type": "stream",
     "text": [
      " 30%|████████████████████████▌                                                         | 15/50 [01:32<03:34,  6.13s/it]"
     ]
    },
    {
     "name": "stdout",
     "output_type": "stream",
     "text": [
      "epoch: 14 | total_weight_masks_loss: 101.17352242767811\n"
     ]
    },
    {
     "name": "stderr",
     "output_type": "stream",
     "text": [
      " 32%|██████████████████████████▏                                                       | 16/50 [01:38<03:27,  6.09s/it]"
     ]
    },
    {
     "name": "stdout",
     "output_type": "stream",
     "text": [
      "epoch: 15 | total_weight_masks_loss: 98.65333764255047\n"
     ]
    },
    {
     "name": "stderr",
     "output_type": "stream",
     "text": [
      " 34%|███████████████████████████▉                                                      | 17/50 [01:44<03:21,  6.11s/it]"
     ]
    },
    {
     "name": "stdout",
     "output_type": "stream",
     "text": [
      "epoch: 16 | total_weight_masks_loss: 99.10906529426575\n"
     ]
    },
    {
     "name": "stderr",
     "output_type": "stream",
     "text": [
      " 36%|█████████████████████████████▌                                                    | 18/50 [01:50<03:16,  6.13s/it]"
     ]
    },
    {
     "name": "stdout",
     "output_type": "stream",
     "text": [
      "epoch: 17 | total_weight_masks_loss: 95.74080935120583\n"
     ]
    },
    {
     "name": "stderr",
     "output_type": "stream",
     "text": [
      " 38%|███████████████████████████████▏                                                  | 19/50 [01:56<03:09,  6.11s/it]"
     ]
    },
    {
     "name": "stdout",
     "output_type": "stream",
     "text": [
      "epoch: 18 | total_weight_masks_loss: 99.47063240408897\n"
     ]
    },
    {
     "name": "stderr",
     "output_type": "stream",
     "text": [
      " 40%|████████████████████████████████▊                                                 | 20/50 [02:02<03:03,  6.13s/it]"
     ]
    },
    {
     "name": "stdout",
     "output_type": "stream",
     "text": [
      "epoch: 19 | total_weight_masks_loss: 101.55737653374672\n"
     ]
    },
    {
     "name": "stderr",
     "output_type": "stream",
     "text": [
      " 42%|██████████████████████████████████▍                                               | 21/50 [02:09<02:58,  6.14s/it]"
     ]
    },
    {
     "name": "stdout",
     "output_type": "stream",
     "text": [
      "epoch: 20 | total_weight_masks_loss: 102.26636543869972\n"
     ]
    },
    {
     "name": "stderr",
     "output_type": "stream",
     "text": [
      " 44%|████████████████████████████████████                                              | 22/50 [02:15<02:51,  6.12s/it]"
     ]
    },
    {
     "name": "stdout",
     "output_type": "stream",
     "text": [
      "epoch: 21 | total_weight_masks_loss: 97.13352511823177\n"
     ]
    },
    {
     "name": "stderr",
     "output_type": "stream",
     "text": [
      " 46%|█████████████████████████████████████▋                                            | 23/50 [02:21<02:45,  6.12s/it]"
     ]
    },
    {
     "name": "stdout",
     "output_type": "stream",
     "text": [
      "epoch: 22 | total_weight_masks_loss: 100.06912145018578\n"
     ]
    },
    {
     "name": "stderr",
     "output_type": "stream",
     "text": [
      " 48%|███████████████████████████████████████▎                                          | 24/50 [02:27<02:39,  6.12s/it]"
     ]
    },
    {
     "name": "stdout",
     "output_type": "stream",
     "text": [
      "epoch: 23 | total_weight_masks_loss: 100.33282996714115\n"
     ]
    },
    {
     "name": "stderr",
     "output_type": "stream",
     "text": [
      " 50%|█████████████████████████████████████████                                         | 25/50 [02:33<02:33,  6.12s/it]"
     ]
    },
    {
     "name": "stdout",
     "output_type": "stream",
     "text": [
      "epoch: 24 | total_weight_masks_loss: 97.26106804609299\n"
     ]
    },
    {
     "name": "stderr",
     "output_type": "stream",
     "text": [
      " 52%|██████████████████████████████████████████▋                                       | 26/50 [02:39<02:27,  6.14s/it]"
     ]
    },
    {
     "name": "stdout",
     "output_type": "stream",
     "text": [
      "epoch: 25 | total_weight_masks_loss: 99.77378696203232\n"
     ]
    },
    {
     "name": "stderr",
     "output_type": "stream",
     "text": [
      " 54%|████████████████████████████████████████████▎                                     | 27/50 [02:45<02:21,  6.15s/it]"
     ]
    },
    {
     "name": "stdout",
     "output_type": "stream",
     "text": [
      "epoch: 26 | total_weight_masks_loss: 95.69704394042492\n"
     ]
    },
    {
     "name": "stderr",
     "output_type": "stream",
     "text": [
      " 56%|█████████████████████████████████████████████▉                                    | 28/50 [02:51<02:14,  6.13s/it]"
     ]
    },
    {
     "name": "stdout",
     "output_type": "stream",
     "text": [
      "epoch: 27 | total_weight_masks_loss: 98.71611255407333\n"
     ]
    },
    {
     "name": "stderr",
     "output_type": "stream",
     "text": [
      " 58%|███████████████████████████████████████████████▌                                  | 29/50 [02:58<02:08,  6.14s/it]"
     ]
    },
    {
     "name": "stdout",
     "output_type": "stream",
     "text": [
      "epoch: 28 | total_weight_masks_loss: 97.85940442979336\n"
     ]
    },
    {
     "name": "stderr",
     "output_type": "stream",
     "text": [
      " 60%|█████████████████████████████████████████████████▏                                | 30/50 [03:04<02:02,  6.14s/it]"
     ]
    },
    {
     "name": "stdout",
     "output_type": "stream",
     "text": [
      "epoch: 29 | total_weight_masks_loss: 96.87638978660107\n"
     ]
    },
    {
     "name": "stderr",
     "output_type": "stream",
     "text": [
      " 62%|██████████████████████████████████████████████████▊                               | 31/50 [03:10<01:59,  6.27s/it]"
     ]
    },
    {
     "name": "stdout",
     "output_type": "stream",
     "text": [
      "epoch: 30 | total_weight_masks_loss: 101.39394322037697\n"
     ]
    },
    {
     "name": "stderr",
     "output_type": "stream",
     "text": [
      " 64%|████████████████████████████████████████████████████▍                             | 32/50 [03:18<02:00,  6.67s/it]"
     ]
    },
    {
     "name": "stdout",
     "output_type": "stream",
     "text": [
      "epoch: 31 | total_weight_masks_loss: 96.92911106348038\n"
     ]
    },
    {
     "name": "stderr",
     "output_type": "stream",
     "text": [
      " 66%|██████████████████████████████████████████████████████                            | 33/50 [03:24<01:50,  6.50s/it]"
     ]
    },
    {
     "name": "stdout",
     "output_type": "stream",
     "text": [
      "epoch: 32 | total_weight_masks_loss: 96.56556555628777\n"
     ]
    },
    {
     "name": "stderr",
     "output_type": "stream",
     "text": [
      " 68%|███████████████████████████████████████████████████████▊                          | 34/50 [03:30<01:42,  6.39s/it]"
     ]
    },
    {
     "name": "stdout",
     "output_type": "stream",
     "text": [
      "epoch: 33 | total_weight_masks_loss: 94.915841832757\n"
     ]
    },
    {
     "name": "stderr",
     "output_type": "stream",
     "text": [
      " 70%|█████████████████████████████████████████████████████████▍                        | 35/50 [03:36<01:34,  6.29s/it]"
     ]
    },
    {
     "name": "stdout",
     "output_type": "stream",
     "text": [
      "epoch: 34 | total_weight_masks_loss: 98.43930949270725\n"
     ]
    },
    {
     "name": "stderr",
     "output_type": "stream",
     "text": [
      " 72%|███████████████████████████████████████████████████████████                       | 36/50 [03:42<01:27,  6.25s/it]"
     ]
    },
    {
     "name": "stdout",
     "output_type": "stream",
     "text": [
      "epoch: 35 | total_weight_masks_loss: 95.86844198405743\n"
     ]
    },
    {
     "name": "stderr",
     "output_type": "stream",
     "text": [
      " 74%|████████████████████████████████████████████████████████████▋                     | 37/50 [03:48<01:20,  6.20s/it]"
     ]
    },
    {
     "name": "stdout",
     "output_type": "stream",
     "text": [
      "epoch: 36 | total_weight_masks_loss: 95.61842089891434\n"
     ]
    },
    {
     "name": "stderr",
     "output_type": "stream",
     "text": [
      " 76%|██████████████████████████████████████████████████████████████▎                   | 38/50 [03:55<01:14,  6.18s/it]"
     ]
    },
    {
     "name": "stdout",
     "output_type": "stream",
     "text": [
      "epoch: 37 | total_weight_masks_loss: 96.16094763576984\n"
     ]
    },
    {
     "name": "stderr",
     "output_type": "stream",
     "text": [
      " 78%|███████████████████████████████████████████████████████████████▉                  | 39/50 [04:01<01:08,  6.18s/it]"
     ]
    },
    {
     "name": "stdout",
     "output_type": "stream",
     "text": [
      "epoch: 38 | total_weight_masks_loss: 99.83342157304287\n"
     ]
    },
    {
     "name": "stderr",
     "output_type": "stream",
     "text": [
      " 80%|█████████████████████████████████████████████████████████████████▌                | 40/50 [04:07<01:01,  6.17s/it]"
     ]
    },
    {
     "name": "stdout",
     "output_type": "stream",
     "text": [
      "epoch: 39 | total_weight_masks_loss: 94.42822359502316\n"
     ]
    },
    {
     "name": "stderr",
     "output_type": "stream",
     "text": [
      " 82%|███████████████████████████████████████████████████████████████████▏              | 41/50 [04:14<00:57,  6.41s/it]"
     ]
    },
    {
     "name": "stdout",
     "output_type": "stream",
     "text": [
      "epoch: 40 | total_weight_masks_loss: 95.51236353814602\n"
     ]
    },
    {
     "name": "stderr",
     "output_type": "stream",
     "text": [
      " 84%|████████████████████████████████████████████████████████████████████▉             | 42/50 [04:21<00:52,  6.55s/it]"
     ]
    },
    {
     "name": "stdout",
     "output_type": "stream",
     "text": [
      "epoch: 41 | total_weight_masks_loss: 99.89656090736389\n"
     ]
    },
    {
     "name": "stderr",
     "output_type": "stream",
     "text": [
      " 86%|██████████████████████████████████████████████████████████████████████▌           | 43/50 [04:28<00:46,  6.66s/it]"
     ]
    },
    {
     "name": "stdout",
     "output_type": "stream",
     "text": [
      "epoch: 42 | total_weight_masks_loss: 95.92642076313496\n"
     ]
    },
    {
     "name": "stderr",
     "output_type": "stream",
     "text": [
      " 88%|████████████████████████████████████████████████████████████████████████▏         | 44/50 [04:35<00:40,  6.72s/it]"
     ]
    },
    {
     "name": "stdout",
     "output_type": "stream",
     "text": [
      "epoch: 43 | total_weight_masks_loss: 97.50973838567734\n"
     ]
    },
    {
     "name": "stderr",
     "output_type": "stream",
     "text": [
      " 90%|█████████████████████████████████████████████████████████████████████████▊        | 45/50 [04:41<00:33,  6.80s/it]"
     ]
    },
    {
     "name": "stdout",
     "output_type": "stream",
     "text": [
      "epoch: 44 | total_weight_masks_loss: 97.03490622341633\n"
     ]
    },
    {
     "name": "stderr",
     "output_type": "stream",
     "text": [
      " 92%|███████████████████████████████████████████████████████████████████████████▍      | 46/50 [04:48<00:26,  6.75s/it]"
     ]
    },
    {
     "name": "stdout",
     "output_type": "stream",
     "text": [
      "epoch: 45 | total_weight_masks_loss: 94.26191572844982\n"
     ]
    },
    {
     "name": "stderr",
     "output_type": "stream",
     "text": [
      " 94%|█████████████████████████████████████████████████████████████████████████████     | 47/50 [04:54<00:19,  6.63s/it]"
     ]
    },
    {
     "name": "stdout",
     "output_type": "stream",
     "text": [
      "epoch: 46 | total_weight_masks_loss: 98.85772489011288\n"
     ]
    },
    {
     "name": "stderr",
     "output_type": "stream",
     "text": [
      " 96%|██████████████████████████████████████████████████████████████████████████████▋   | 48/50 [05:01<00:13,  6.62s/it]"
     ]
    },
    {
     "name": "stdout",
     "output_type": "stream",
     "text": [
      "epoch: 47 | total_weight_masks_loss: 94.8934727460146\n"
     ]
    },
    {
     "name": "stderr",
     "output_type": "stream",
     "text": [
      " 98%|████████████████████████████████████████████████████████████████████████████████▎ | 49/50 [05:08<00:06,  6.57s/it]"
     ]
    },
    {
     "name": "stdout",
     "output_type": "stream",
     "text": [
      "epoch: 48 | total_weight_masks_loss: 99.3421678096056\n"
     ]
    },
    {
     "name": "stderr",
     "output_type": "stream",
     "text": [
      "100%|██████████████████████████████████████████████████████████████████████████████████| 50/50 [05:14<00:00,  6.29s/it]"
     ]
    },
    {
     "name": "stdout",
     "output_type": "stream",
     "text": [
      "epoch: 49 | total_weight_masks_loss: 94.94023425877094\n"
     ]
    },
    {
     "name": "stderr",
     "output_type": "stream",
     "text": [
      "\n"
     ]
    }
   ],
   "source": [
    "test_acc_list = []\n",
    "asr_list = []\n",
    "\n",
    "grads_magnitudes = []\n",
    "\n",
    "# train for this many epochs\n",
    "for epoch in tqdm(range(50)):\n",
    "    anp_system.model.train()\n",
    "    \n",
    "    i = 0\n",
    "    total_weight_masks_loss = 0\n",
    "    for inputs, label in train_loader:\n",
    "        inputs, label = inputs.to(device), label.to(device)\n",
    "        # perform perturb step\n",
    "        weight_masks_loss = anp_system.perturb_step(inputs, label)\n",
    "        total_weight_masks_loss += weight_masks_loss\n",
    "        # print(f'epoch: {epoch} | iteration: {i} | weight_mask_loss: {weight_masks_loss}')\n",
    "        i += 1\n",
    "    print(f'epoch: {epoch} | total_weight_masks_loss: {total_weight_masks_loss}')\n",
    "\n",
    "    # record gradient magnitudes\n",
    "    # grads_magnitudes.append(get_weight_grads(anp_system.model))\n",
    "    \n",
    "    # in eval mode, we test backdoor effectiveness\n",
    "    # anp_system.model.eval()\n",
    "    \n",
    "    # # testing loop (normal data)\n",
    "    # total_test_acc = 0\n",
    "    # test_item_ct = 0\n",
    "    # with torch.no_grad():\n",
    "    #     for inputs, label in test_loader:\n",
    "    #         inputs, label = inputs.to(device), label.to(device)\n",
    "            \n",
    "    #         pred = anp_system.model(inputs)\n",
    "    #         accuracy = compute_accuracy(pred.cpu().detach().numpy(),label.cpu().detach().numpy())\n",
    "            \n",
    "    #         total_test_acc += accuracy * inputs.shape[0]\n",
    "    #         test_item_ct += inputs.shape[0]\n",
    "    # print(f'Test Accuracy: {total_test_acc/test_item_ct}')\n",
    "    # test_acc_list.append(total_test_acc/test_item_ct)\n",
    "    \n",
    "    # # test with backdoor inserted to training set images\n",
    "    # backdoor_success_ct = 0\n",
    "    # backdoor_item_ct = 0\n",
    "    # with torch.no_grad():\n",
    "    #     for inputs, label in test_loader:\n",
    "    #         inputs = introduce_backdoor_test_set(inputs).to(device)\n",
    "            \n",
    "    #         pred = anp_system.model(inputs)\n",
    "    #         pred_lbls = np.argmax(pred.cpu().detach().numpy(),1,keepdims=True)\n",
    "\n",
    "    #         # be careful to remove the test dataset items that originally were label 0\n",
    "    #         # since we don't want to mix them in with testing backdoor on labels 1-9\n",
    "    #         backdoor_success_ct += np.sum((pred_lbls == 0).flatten() & (label.numpy() != 0))\n",
    "    #         # backdoor_item_ct += inputs.shape[0]\n",
    "    #         backdoor_item_ct += np.sum(label.numpy() != 0)\n",
    "    \n",
    "    # print(f'Backdoor Success Rate: {backdoor_success_ct/backdoor_item_ct}')\n",
    "    # asr_list.append(backdoor_success_ct/backdoor_item_ct)\n",
    "\n",
    "    # scheduler.step()"
   ]
  },
  {
   "cell_type": "code",
   "execution_count": 25,
   "id": "015b3ab5-3785-4ba8-924c-6ae19b8a1d54",
   "metadata": {},
   "outputs": [],
   "source": [
    "# grads_magnitudes = np.array(grads_magnitudes)"
   ]
  },
  {
   "cell_type": "code",
   "execution_count": 26,
   "id": "761c7ad3-3ef6-49b5-97e0-f9793e165c69",
   "metadata": {},
   "outputs": [],
   "source": [
    "# raise Exception(\"stop here first\")"
   ]
  },
  {
   "cell_type": "code",
   "execution_count": 27,
   "id": "53faa5e0-81da-4398-b64f-7c578326406a",
   "metadata": {},
   "outputs": [],
   "source": [
    "# grads_magnitudes.shape"
   ]
  },
  {
   "cell_type": "code",
   "execution_count": 28,
   "id": "552a4d00-158b-4320-bae1-73730b8a2a49",
   "metadata": {},
   "outputs": [],
   "source": [
    "# np.sum((grads_magnitudes[1:, :] - grads_magnitudes[:-1, :]) >= 0, axis=0)"
   ]
  },
  {
   "cell_type": "code",
   "execution_count": null,
   "id": "d8ca3d46-42c7-4f46-bd75-896fc5ee0d6f",
   "metadata": {},
   "outputs": [],
   "source": []
  },
  {
   "cell_type": "markdown",
   "id": "1bb8d474-5ca2-4da3-9976-b095d754571a",
   "metadata": {},
   "source": [
    "### Consolidate the network by applying the pruning"
   ]
  },
  {
   "cell_type": "code",
   "execution_count": 29,
   "id": "c801e768-f87b-4be7-8a02-057761253416",
   "metadata": {},
   "outputs": [],
   "source": [
    "# remove the hooks\n",
    "anp_system._remove_hooks()"
   ]
  },
  {
   "cell_type": "code",
   "execution_count": 30,
   "id": "0c62bde6-da1b-49d6-bc94-5b60d7139d25",
   "metadata": {},
   "outputs": [],
   "source": [
    "threshold_values = np.linspace(0.05, 0.95, 19)"
   ]
  },
  {
   "cell_type": "code",
   "execution_count": 31,
   "id": "92517645-dcf9-4102-96a9-730d442cf58a",
   "metadata": {},
   "outputs": [
    {
     "data": {
      "text/plain": [
       "array([0.05, 0.1 , 0.15, 0.2 , 0.25, 0.3 , 0.35, 0.4 , 0.45, 0.5 , 0.55,\n",
       "       0.6 , 0.65, 0.7 , 0.75, 0.8 , 0.85, 0.9 , 0.95])"
      ]
     },
     "execution_count": 31,
     "metadata": {},
     "output_type": "execute_result"
    }
   ],
   "source": [
    "threshold_values"
   ]
  },
  {
   "cell_type": "code",
   "execution_count": 32,
   "id": "23407653-183c-4828-a059-82458f6252f4",
   "metadata": {},
   "outputs": [],
   "source": [
    "# then test the network once more\n",
    "# with the rigidly pruned neurons\n",
    "\n",
    "def test_backdoor_success(model):\n",
    "    backdoor_success_ct = 0\n",
    "    backdoor_item_ct = 0\n",
    "    with torch.no_grad():\n",
    "        for inputs, label in test_loader:\n",
    "            inputs = introduce_backdoor_test_set(inputs).to(device)\n",
    "            \n",
    "            pred = model(inputs)\n",
    "            pred_lbls = np.argmax(pred.cpu().detach().numpy(),1,keepdims=True)\n",
    "\n",
    "            # be careful to remove the test dataset items that originally were label 0\n",
    "            # since we don't want to mix them in with testing backdoor on labels 1-9\n",
    "            backdoor_success_ct += np.sum((pred_lbls == 0).flatten() & (label.numpy() != 0))\n",
    "            # backdoor_item_ct += inputs.shape[0]\n",
    "            backdoor_item_ct += np.sum(label.numpy() != 0)\n",
    "    \n",
    "    # print(f'Backdoor Success Rate: {backdoor_success_ct/backdoor_item_ct}')\n",
    "    return backdoor_success_ct/backdoor_item_ct"
   ]
  },
  {
   "cell_type": "code",
   "execution_count": 33,
   "id": "c4e74268-1168-4d10-af26-4698b1710619",
   "metadata": {},
   "outputs": [],
   "source": [
    "# then test the model's accuracy on clean data\n",
    "\n",
    "def test_clean_acc(model):\n",
    "    total_test_acc = 0\n",
    "    test_item_ct = 0\n",
    "    with torch.no_grad():\n",
    "        for inputs, label in test_loader:\n",
    "            inputs, label = inputs.to(device), label.to(device)\n",
    "            \n",
    "            pred = model(inputs)\n",
    "            accuracy = compute_accuracy(pred.cpu().detach().numpy(),label.cpu().detach().numpy())\n",
    "            \n",
    "            total_test_acc += accuracy * inputs.shape[0]\n",
    "            test_item_ct += inputs.shape[0]\n",
    "    # print(f'Test Accuracy: {total_test_acc/test_item_ct}')\n",
    "    return total_test_acc/test_item_ct"
   ]
  },
  {
   "cell_type": "code",
   "execution_count": 34,
   "id": "5dcd15fb-3f82-40f5-a3c5-070ee89cfb1e",
   "metadata": {},
   "outputs": [
    {
     "name": "stdout",
     "output_type": "stream",
     "text": [
      "Threshold value: 0.05 | ASR: 1.0 | ACC: 0.7328\n",
      "Threshold value: 0.1 | ASR: 0.8855555555555555 | ACC: 0.7405\n",
      "Threshold value: 0.15 | ASR: 0.8838888888888888 | ACC: 0.6858\n",
      "Threshold value: 0.2 | ASR: 0.8842222222222222 | ACC: 0.684\n",
      "Threshold value: 0.25 | ASR: 0.8862222222222222 | ACC: 0.6865\n",
      "Threshold value: 0.3 | ASR: 0.9006666666666666 | ACC: 0.6859\n",
      "Threshold value: 0.35 | ASR: 0.024777777777777777 | ACC: 0.6444\n",
      "Threshold value: 0.39999999999999997 | ASR: 0.04588888888888889 | ACC: 0.6327\n",
      "Threshold value: 0.44999999999999996 | ASR: 0.06877777777777777 | ACC: 0.6291\n",
      "Threshold value: 0.49999999999999994 | ASR: 0.07844444444444444 | ACC: 0.6209\n",
      "Threshold value: 0.5499999999999999 | ASR: 0.08488888888888889 | ACC: 0.6222\n",
      "Threshold value: 0.6 | ASR: 0.11188888888888888 | ACC: 0.6219\n",
      "Threshold value: 0.65 | ASR: 0.25044444444444447 | ACC: 0.5371\n",
      "Threshold value: 0.7 | ASR: 0.26 | ACC: 0.5203\n",
      "Threshold value: 0.75 | ASR: 0.37477777777777777 | ACC: 0.4774\n",
      "Threshold value: 0.7999999999999999 | ASR: 0.743 | ACC: 0.2366\n",
      "Threshold value: 0.85 | ASR: 0.9803333333333333 | ACC: 0.1174\n",
      "Threshold value: 0.9 | ASR: 1.0 | ACC: 0.1\n",
      "Threshold value: 0.95 | ASR: 1.0 | ACC: 0.1\n"
     ]
    }
   ],
   "source": [
    "asr_list = []\n",
    "acc_list = []\n",
    "\n",
    "# apply pruning with progressive threshold to see how its ASR and ACC changes\n",
    "for threshold_value in threshold_values:\n",
    "    anp_system._prune_neurons(threshold_value)\n",
    "    anp_system.model.eval()\n",
    "\n",
    "    asr = test_backdoor_success(anp_system.model)\n",
    "    acc = test_clean_acc(anp_system.model)\n",
    "\n",
    "    print(f'Threshold value: {threshold_value} | ASR: {asr} | ACC: {acc}')\n",
    "\n",
    "    asr_list.append(asr)\n",
    "    acc_list.append(acc)"
   ]
  },
  {
   "cell_type": "code",
   "execution_count": 35,
   "id": "b8b53118-59b9-43b1-8ba1-0f333dad712c",
   "metadata": {},
   "outputs": [],
   "source": [
    "import matplotlib.pyplot as plt"
   ]
  },
  {
   "cell_type": "code",
   "execution_count": 36,
   "id": "d2820b56-f3c8-454f-9672-f91227144f3a",
   "metadata": {},
   "outputs": [
    {
     "data": {
      "text/plain": [
       "[<matplotlib.lines.Line2D at 0x16bdf320860>]"
      ]
     },
     "execution_count": 36,
     "metadata": {},
     "output_type": "execute_result"
    },
    {
     "data": {
      "image/png": "[encoded data removed]",
      "text/plain": [
       "<Figure size 640x480 with 1 Axes>"
      ]
     },
     "metadata": {},
     "output_type": "display_data"
    }
   ],
   "source": [
    "plt.plot(threshold_values, asr_list)\n",
    "plt.plot(threshold_values, acc_list)"
   ]
  },
  {
   "cell_type": "code",
   "execution_count": null,
   "id": "021404e3-246d-4535-815f-53261ca49497",
   "metadata": {},
   "outputs": [],
   "source": []
  },
  {
   "cell_type": "markdown",
   "id": "326a8c01-9b10-4928-b005-b6b893592152",
   "metadata": {},
   "source": [
    "### Below are messy debug pokings"
   ]
  },
  {
   "cell_type": "markdown",
   "id": "76fd156c-1f30-417b-9aea-47197f22f24c",
   "metadata": {},
   "source": [
    "##### weight masks values histogram"
   ]
  },
  {
   "cell_type": "code",
   "execution_count": 37,
   "id": "975f05e8-2c64-4d3d-a311-0bdcc29e53ce",
   "metadata": {},
   "outputs": [],
   "source": [
    "all_masks_values = []\n",
    "\n",
    "for name in anp_system.weight_masks:\n",
    "    weight_mask_tensor = anp_system.weight_masks[name]\n",
    "    all_masks_values.append(weight_mask_tensor.cpu().detach().numpy().flatten())\n",
    "\n",
    "all_masks_values = np.concatenate(all_masks_values)"
   ]
  },
  {
   "cell_type": "code",
   "execution_count": 38,
   "id": "f222c57e-dec0-48b1-96e2-8d507fc3e2d7",
   "metadata": {},
   "outputs": [
    {
     "data": {
      "text/plain": [
       "(9610,)"
      ]
     },
     "execution_count": 38,
     "metadata": {},
     "output_type": "execute_result"
    }
   ],
   "source": [
    "all_masks_values.shape"
   ]
  },
  {
   "cell_type": "code",
   "execution_count": 39,
   "id": "fcc3180d-4d75-4312-8954-aefbb6c2ee95",
   "metadata": {},
   "outputs": [
    {
     "data": {
      "text/plain": [
       "Text(0, 0.5, 'Number')"
      ]
     },
     "execution_count": 39,
     "metadata": {},
     "output_type": "execute_result"
    },
    {
     "data": {
      "image/png": "[encoded data removed]",
      "text/plain": [
       "<Figure size 640x480 with 1 Axes>"
      ]
     },
     "metadata": {},
     "output_type": "display_data"
    }
   ],
   "source": [
    "plt.hist(all_masks_values, bins=20, log=True)\n",
    "plt.xlabel('Mask value')\n",
    "plt.ylabel('Number')"
   ]
  },
  {
   "cell_type": "code",
   "execution_count": 40,
   "id": "dd2dcf04-3e5e-4910-8323-25027d22c52a",
   "metadata": {},
   "outputs": [
    {
     "data": {
      "text/plain": [
       "Text(0, 0.5, 'Number')"
      ]
     },
     "execution_count": 40,
     "metadata": {},
     "output_type": "execute_result"
    },
    {
     "data": {
      "image/png": "[encoded data removed]",
      "text/plain": [
       "<Figure size 640x480 with 1 Axes>"
      ]
     },
     "metadata": {},
     "output_type": "display_data"
    }
   ],
   "source": [
    "plt.hist(all_masks_values, bins=20)\n",
    "plt.xlabel('Mask value')\n",
    "plt.ylabel('Number')"
   ]
  },
  {
   "cell_type": "code",
   "execution_count": 41,
   "id": "84e9e016-09dc-4278-805d-4063fe9292a0",
   "metadata": {},
   "outputs": [
    {
     "data": {
      "text/plain": [
       "np.float32(0.1994289)"
      ]
     },
     "execution_count": 41,
     "metadata": {},
     "output_type": "execute_result"
    }
   ],
   "source": [
    "# np.mean(all_masks_values)\n",
    "np.std(all_masks_values)"
   ]
  },
  {
   "cell_type": "code",
   "execution_count": 42,
   "id": "95d5088b-4f90-47d7-a65b-1c29aaeb9451",
   "metadata": {},
   "outputs": [],
   "source": [
    "all_masks_grad_values = []\n",
    "\n",
    "for name in anp_system.weight_masks:\n",
    "    weight_mask_tensor = anp_system.weight_masks[name]\n",
    "    all_masks_grad_values.append(weight_mask_tensor.grad.cpu().detach().numpy().flatten())\n",
    "\n",
    "all_masks_grad_values = np.concatenate(all_masks_grad_values)"
   ]
  },
  {
   "cell_type": "code",
   "execution_count": null,
   "id": "a89efd41-9d70-4f2a-b2bd-da70698a421d",
   "metadata": {},
   "outputs": [],
   "source": []
  },
  {
   "cell_type": "code",
   "execution_count": null,
   "id": "a0627ce4-4060-41c6-ad48-23ba54030b11",
   "metadata": {},
   "outputs": [],
   "source": []
  },
  {
   "cell_type": "markdown",
   "id": "f7292e95-ea16-4d4f-ae7f-0c16628ee4ee",
   "metadata": {
    "jp-MarkdownHeadingCollapsed": true
   },
   "source": [
    "##### perturbation values histogram"
   ]
  },
  {
   "cell_type": "code",
   "execution_count": 43,
   "id": "65ba2b64-c820-465b-bb5e-3e3be0ec4079",
   "metadata": {},
   "outputs": [],
   "source": [
    "all_perturbations_values = []\n",
    "\n",
    "for name in anp_system.weight_perturbations:\n",
    "    weight_perturbation_tensor = anp_system.weight_perturbations[name]\n",
    "    all_perturbations_values.append(weight_perturbation_tensor.cpu().detach().numpy().flatten())\n",
    "\n",
    "all_perturbations_values = np.concatenate(all_perturbations_values)"
   ]
  },
  {
   "cell_type": "code",
   "execution_count": 44,
   "id": "2dfb19a6-ad37-4880-825e-247d4b2845a8",
   "metadata": {},
   "outputs": [
    {
     "data": {
      "text/plain": [
       "(9610,)"
      ]
     },
     "execution_count": 44,
     "metadata": {},
     "output_type": "execute_result"
    }
   ],
   "source": [
    "all_perturbations_values.shape"
   ]
  },
  {
   "cell_type": "code",
   "execution_count": 45,
   "id": "bd438891-0256-494e-93f4-677d3281e374",
   "metadata": {},
   "outputs": [
    {
     "data": {
      "text/plain": [
       "(array([3803.,   65.,   68.,   79.,   70.,   46.,   81.,   72.,   78.,\n",
       "          71.,   69.,   71.,   73.,   70.,   66.,   60.,   49.,   61.,\n",
       "          54., 4604.]),\n",
       " array([-4.00000006e-01, -3.60000014e-01, -3.19999993e-01, -2.80000001e-01,\n",
       "        -2.40000010e-01, -2.00000018e-01, -1.60000011e-01, -1.20000005e-01,\n",
       "        -8.00000131e-02, -4.00000215e-02, -2.98023224e-08,  3.99999917e-02,\n",
       "         7.99999833e-02,  1.19999975e-01,  1.59999996e-01,  1.99999958e-01,\n",
       "         2.39999980e-01,  2.80000001e-01,  3.19999963e-01,  3.59999985e-01,\n",
       "         4.00000006e-01]),\n",
       " <BarContainer object of 20 artists>)"
      ]
     },
     "execution_count": 45,
     "metadata": {},
     "output_type": "execute_result"
    },
    {
     "data": {
      "image/png": "[encoded data removed]",
      "text/plain": [
       "<Figure size 640x480 with 1 Axes>"
      ]
     },
     "metadata": {},
     "output_type": "display_data"
    }
   ],
   "source": [
    "plt.hist(all_perturbations_values, bins=20, log=True)"
   ]
  }
 ],
 "metadata": {
  "kernelspec": {
   "display_name": "Python 3 (ipykernel)",
   "language": "python",
   "name": "python3"
  },
  "language_info": {
   "codemirror_mode": {
    "name": "ipython",
    "version": 3
   },
   "file_extension": ".py",
   "mimetype": "text/x-python",
   "name": "python",
   "nbconvert_exporter": "python",
   "pygments_lexer": "ipython3",
   "version": "3.12.9"
  }
 },
 "nbformat": 4,
 "nbformat_minor": 5
}
