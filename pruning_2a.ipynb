{
 "cells": [
  {
   "cell_type": "markdown",
   "id": "840b0229-ba22-45a3-b64f-73f7109a87e7",
   "metadata": {},
   "source": [
    "Running Adversarial Neuron Pruning"
   ]
  },
  {
   "cell_type": "code",
   "execution_count": 1,
   "id": "5a782326-64ce-45d4-8ccc-08290b1494ed",
   "metadata": {},
   "outputs": [],
   "source": [
    "import torch\n",
    "import torchvision\n",
    "\n",
    "from torchsummary import summary\n",
    "\n",
    "import numpy as np"
   ]
  },
  {
   "cell_type": "code",
   "execution_count": 2,
   "id": "e00fee55-a505-4e13-8859-11e8503628e2",
   "metadata": {},
   "outputs": [
    {
     "data": {
      "text/plain": [
       "True"
      ]
     },
     "execution_count": 2,
     "metadata": {},
     "output_type": "execute_result"
    }
   ],
   "source": [
    "torch.cuda.is_available()"
   ]
  },
  {
   "cell_type": "code",
   "execution_count": 3,
   "id": "2e27a149-b239-4549-99f0-d3f1bd1bc797",
   "metadata": {},
   "outputs": [],
   "source": [
    "#check gpu\n",
    "device = torch.device(\"cuda\" if torch.cuda.is_available() else \"cpu\")"
   ]
  },
  {
   "cell_type": "markdown",
   "id": "73cf68dd-3b73-47d5-b2bb-fa2f93ff5f02",
   "metadata": {},
   "source": [
    "### Load dataset"
   ]
  },
  {
   "cell_type": "code",
   "execution_count": 4,
   "id": "6c315309-cb57-4393-a272-b39c49db18cb",
   "metadata": {},
   "outputs": [],
   "source": [
    "import torchvision.transforms as transforms\n",
    "\n",
    "transform_train = transforms.Compose([\n",
    "    # transforms.RandomCrop(32, padding=4),\n",
    "    # transforms.RandomHorizontalFlip(),\n",
    "    transforms.ToTensor(),\n",
    "    transforms.Normalize((0.4914, 0.4822, 0.4465), (0.2023, 0.1994, 0.2010)),\n",
    "])\n",
    "\n",
    "transform_test = transforms.Compose([\n",
    "    transforms.ToTensor(),\n",
    "    transforms.Normalize((0.4914, 0.4822, 0.4465), (0.2023, 0.1994, 0.2010)),\n",
    "])"
   ]
  },
  {
   "cell_type": "code",
   "execution_count": 5,
   "id": "c68d436e-e9a6-47c2-91ab-79146c804d32",
   "metadata": {},
   "outputs": [
    {
     "name": "stdout",
     "output_type": "stream",
     "text": [
      "Files already downloaded and verified\n",
      "Files already downloaded and verified\n"
     ]
    }
   ],
   "source": [
    "cifar10_train = torchvision.datasets.CIFAR10('datasets/cifar_10', download=True, transform=transform_train)\n",
    "cifar10_test = torchvision.datasets.CIFAR10('datasets/cifar_10', train=False, download=True, transform=transform_test)"
   ]
  },
  {
   "cell_type": "markdown",
   "id": "c6782637-4dfe-482e-9a9e-32899675a649",
   "metadata": {},
   "source": [
    "### modify dataset"
   ]
  },
  {
   "cell_type": "code",
   "execution_count": 6,
   "id": "3f62e446-ef7a-46d4-abea-2bd9d6851e53",
   "metadata": {},
   "outputs": [],
   "source": [
    "# we use 0.9 of the whole dataset as the poisoned set\n",
    "poisoned_set_ratio = 0.9"
   ]
  },
  {
   "cell_type": "code",
   "execution_count": 7,
   "id": "a449dc6d-d7a5-44ca-86f9-e3e7c831d9cd",
   "metadata": {},
   "outputs": [],
   "source": [
    "dataset_images = np.array([c[0] for c in cifar10_train])\n",
    "dataset_labels = np.array([c[1] for c in cifar10_train])"
   ]
  },
  {
   "cell_type": "code",
   "execution_count": 8,
   "id": "cd747905-35cf-420b-a7f5-0e58dd5ca9f9",
   "metadata": {},
   "outputs": [],
   "source": [
    "# create a subset of the dataset\n",
    "l = len(cifar10_train)\n",
    "indices = np.arange(l)"
   ]
  },
  {
   "cell_type": "code",
   "execution_count": 9,
   "id": "dc0b71fc-7c2b-4487-9854-15d67b37e0a2",
   "metadata": {},
   "outputs": [],
   "source": [
    "np.random.seed(594462)\n",
    "np.random.shuffle(indices)\n",
    "\n",
    "# since we use 0.9 of the set as backdoored training set, we will use the rest 0.1 as fixing set\n",
    "keep_indices = indices[int(l * poisoned_set_ratio):]"
   ]
  },
  {
   "cell_type": "code",
   "execution_count": 10,
   "id": "3e6f5440-25b6-4394-9fe6-8b6f5d165f7f",
   "metadata": {},
   "outputs": [],
   "source": [
    "new_train_set_images = dataset_images[keep_indices, :, :, :]\n",
    "new_train_set_labels = dataset_labels[keep_indices]"
   ]
  },
  {
   "cell_type": "code",
   "execution_count": 11,
   "id": "81761e7f-d3f5-4040-9088-f1ec6d30d7cb",
   "metadata": {},
   "outputs": [],
   "source": [
    "# create a new training set\n",
    "new_train_set = torch.utils.data.TensorDataset(torch.tensor(new_train_set_images), torch.tensor(new_train_set_labels))"
   ]
  },
  {
   "cell_type": "code",
   "execution_count": 12,
   "id": "06e8d157-1036-4a59-a7c5-5795a3012c16",
   "metadata": {},
   "outputs": [],
   "source": [
    "train_loader = torch.utils.data.DataLoader(new_train_set, batch_size=125, shuffle=True, num_workers=4)\n",
    "test_loader = torch.utils.data.DataLoader(cifar10_test, batch_size=200, shuffle=False, num_workers=4)"
   ]
  },
  {
   "cell_type": "markdown",
   "id": "f9621520-b0dc-49d2-aceb-f312fea3d721",
   "metadata": {},
   "source": [
    "### Create and load the ResNet18"
   ]
  },
  {
   "cell_type": "code",
   "execution_count": 13,
   "id": "69213019-5f6c-4c56-abb6-333359cf8ecc",
   "metadata": {},
   "outputs": [],
   "source": [
    "num_classes = 10"
   ]
  },
  {
   "cell_type": "code",
   "execution_count": 14,
   "id": "1d793143-8dbd-48f8-8138-1746434f9036",
   "metadata": {},
   "outputs": [],
   "source": [
    "res18 = torchvision.models.resnet18().cuda() if torch.cuda.is_available() else torchvision.models.resnet18()\n",
    "res18.fc = torch.nn.Linear(res18.fc.in_features, num_classes).cuda() if torch.cuda.is_available() else torch.nn.Linear(res18.fc.in_features, num_classes)"
   ]
  },
  {
   "cell_type": "code",
   "execution_count": 15,
   "id": "3eb7ad36-7d91-4deb-a99e-26dfc5228e65",
   "metadata": {},
   "outputs": [
    {
     "data": {
      "text/plain": [
       "True"
      ]
     },
     "execution_count": 15,
     "metadata": {},
     "output_type": "execute_result"
    }
   ],
   "source": [
    "# check if the parameters are in cuda\n",
    "next(res18.parameters()).is_cuda"
   ]
  },
  {
   "cell_type": "code",
   "execution_count": 16,
   "id": "02013d49-ec24-4350-a97d-d0887ca68362",
   "metadata": {},
   "outputs": [
    {
     "name": "stderr",
     "output_type": "stream",
     "text": [
      "C:\\Users\\Kevvol\\AppData\\Local\\Temp\\ipykernel_30192\\3783847679.py:1: FutureWarning: You are using `torch.load` with `weights_only=False` (the current default value), which uses the default pickle module implicitly. It is possible to construct malicious pickle data which will execute arbitrary code during unpickling (See https://github.com/pytorch/pytorch/blob/main/SECURITY.md#untrusted-models for more details). In a future release, the default value for `weights_only` will be flipped to `True`. This limits the functions that could be executed during unpickling. Arbitrary objects will no longer be allowed to be loaded via this mode unless they are explicitly allowlisted by the user via `torch.serialization.add_safe_globals`. We recommend you start setting `weights_only=True` for any use case where you don't have full control of the loaded file. Please open an issue on GitHub for any issues related to this experimental feature.\n",
      "  res18.load_state_dict(torch.load(f'saved_models/ResNet18-CIFAR10-backdoored-5-Epoch-200.pth'))\n"
     ]
    },
    {
     "data": {
      "text/plain": [
       "<All keys matched successfully>"
      ]
     },
     "execution_count": 16,
     "metadata": {},
     "output_type": "execute_result"
    }
   ],
   "source": [
    "res18.load_state_dict(torch.load(f'saved_models/ResNet18-CIFAR10-backdoored-5-Epoch-200.pth'))"
   ]
  },
  {
   "cell_type": "code",
   "execution_count": null,
   "id": "3b63da9a-d918-40a3-8a44-f2d471081ccd",
   "metadata": {},
   "outputs": [],
   "source": []
  },
  {
   "cell_type": "markdown",
   "id": "c90e1d91-9e7b-41fd-b609-432172f96043",
   "metadata": {},
   "source": [
    "### Create ANP wrapper"
   ]
  },
  {
   "cell_type": "code",
   "execution_count": 17,
   "id": "d8277d46-c0b0-4c59-b584-084deef3137d",
   "metadata": {},
   "outputs": [],
   "source": [
    "from ANP import *"
   ]
  },
  {
   "cell_type": "code",
   "execution_count": 18,
   "id": "61ed39db-9dd5-4aab-83de-5221bb408ddf",
   "metadata": {
    "scrolled": true
   },
   "outputs": [],
   "source": [
    "anp_system = ANPWrapper(res18, tradeoff=0.2, lr=0.005, ep=0.4)"
   ]
  },
  {
   "cell_type": "code",
   "execution_count": 19,
   "id": "64f50b76-09df-4e20-ba17-b45e3c356d4e",
   "metadata": {},
   "outputs": [],
   "source": [
    "scheduler = torch.optim.lr_scheduler.CosineAnnealingLR(anp_system.weight_masks_optimizer, T_max=200)"
   ]
  },
  {
   "cell_type": "code",
   "execution_count": 20,
   "id": "96866b1a-1f91-4074-bf48-6f879e6c507b",
   "metadata": {},
   "outputs": [],
   "source": [
    "# copied from assignment 2\n",
    "def compute_accuracy(prediction,gt_logits):\n",
    "    pred_idx = np.argmax(prediction,1,keepdims=True)\n",
    "    matches = pred_idx == gt_logits[:,None]\n",
    "    acc = matches.mean()\n",
    "    return acc"
   ]
  },
  {
   "cell_type": "code",
   "execution_count": 21,
   "id": "743c9977-b158-4bca-9d07-3531aa86139e",
   "metadata": {},
   "outputs": [],
   "source": [
    "# add a backdoor to a test set to see its efficacy\n",
    "def introduce_backdoor_test_set(inputs):\n",
    "    pxl_w = torch.tensor((1.0, 1.0, 1.0))\n",
    "    pxl_b = torch.tensor((0.0, 0.0, 0.0))\n",
    "    # pxl_w = (1.0 - 0.4914) / 0.2023\n",
    "    # pxl_b = (0.0 - 0.4914) / 0.2023\n",
    "    all_indices = torch.arange(inputs.shape[0])\n",
    "    inputs[all_indices, :, 31, 31] = pxl_w\n",
    "    inputs[all_indices, :, 30, 30] = pxl_w\n",
    "    inputs[all_indices, :, 29, 31] = pxl_w\n",
    "    inputs[all_indices, :, 31, 29] = pxl_w\n",
    "    inputs[all_indices, :, 30, 31] = pxl_b\n",
    "    inputs[all_indices, :, 31, 30] = pxl_b\n",
    "    inputs[all_indices, :, 29, 30] = pxl_b\n",
    "    inputs[all_indices, :, 30, 29] = pxl_b\n",
    "    inputs[all_indices, :, 29, 29] = pxl_b\n",
    "    return inputs"
   ]
  },
  {
   "cell_type": "code",
   "execution_count": 22,
   "id": "00e3dd51-915e-434d-b89e-dcd099b70114",
   "metadata": {
    "scrolled": true
   },
   "outputs": [
    {
     "name": "stdout",
     "output_type": "stream",
     "text": [
      "epoch: 0 | total_weight_masks_loss: 247.82534728944302\n",
      "Test Accuracy: 0.7155\n",
      "Backdoor Success Rate: 0.1842\n",
      "epoch: 1 | total_weight_masks_loss: 242.21889746189117\n",
      "Test Accuracy: 0.7183\n",
      "Backdoor Success Rate: 0.6101\n",
      "epoch: 2 | total_weight_masks_loss: 233.17993051558733\n",
      "Test Accuracy: 0.6974\n",
      "Backdoor Success Rate: 0.397\n",
      "epoch: 3 | total_weight_masks_loss: 228.6154313981533\n",
      "Test Accuracy: 0.7147\n",
      "Backdoor Success Rate: 0.3284\n",
      "epoch: 4 | total_weight_masks_loss: 227.11992579698563\n",
      "Test Accuracy: 0.7228\n",
      "Backdoor Success Rate: 0.1144\n",
      "epoch: 5 | total_weight_masks_loss: 222.13818100839853\n",
      "Test Accuracy: 0.7195\n",
      "Backdoor Success Rate: 0.1228\n",
      "epoch: 6 | total_weight_masks_loss: 220.35581585019827\n",
      "Test Accuracy: 0.7119\n",
      "Backdoor Success Rate: 0.1597\n",
      "epoch: 7 | total_weight_masks_loss: 214.64177482575178\n",
      "Test Accuracy: 0.7201\n",
      "Backdoor Success Rate: 0.1384\n",
      "epoch: 8 | total_weight_masks_loss: 211.09150398522615\n",
      "Test Accuracy: 0.7101\n",
      "Backdoor Success Rate: 0.1153\n",
      "epoch: 9 | total_weight_masks_loss: 207.55225988477468\n",
      "Test Accuracy: 0.7128\n",
      "Backdoor Success Rate: 0.1902\n",
      "epoch: 10 | total_weight_masks_loss: 203.748517267406\n",
      "Test Accuracy: 0.7102\n",
      "Backdoor Success Rate: 0.1059\n",
      "epoch: 11 | total_weight_masks_loss: 199.74367585033178\n",
      "Test Accuracy: 0.7187\n",
      "Backdoor Success Rate: 0.1055\n",
      "epoch: 12 | total_weight_masks_loss: 198.18516946583986\n",
      "Test Accuracy: 0.7062\n",
      "Backdoor Success Rate: 0.1021\n",
      "epoch: 13 | total_weight_masks_loss: 190.98332542926073\n",
      "Test Accuracy: 0.7173\n",
      "Backdoor Success Rate: 0.1284\n",
      "epoch: 14 | total_weight_masks_loss: 193.50707399100065\n",
      "Test Accuracy: 0.7152\n",
      "Backdoor Success Rate: 0.3581\n",
      "epoch: 15 | total_weight_masks_loss: 190.7971378043294\n",
      "Test Accuracy: 0.7094\n",
      "Backdoor Success Rate: 0.1316\n",
      "epoch: 16 | total_weight_masks_loss: 183.86789076775312\n",
      "Test Accuracy: 0.7072\n",
      "Backdoor Success Rate: 0.0914\n",
      "epoch: 17 | total_weight_masks_loss: 180.64116813987494\n",
      "Test Accuracy: 0.7092\n",
      "Backdoor Success Rate: 0.096\n",
      "epoch: 18 | total_weight_masks_loss: 179.0445303171873\n",
      "Test Accuracy: 0.7134\n",
      "Backdoor Success Rate: 0.1407\n",
      "epoch: 19 | total_weight_masks_loss: 173.05871582776308\n",
      "Test Accuracy: 0.7059\n",
      "Backdoor Success Rate: 0.7488\n"
     ]
    }
   ],
   "source": [
    "test_acc_list = []\n",
    "asr_list = []\n",
    "\n",
    "# train for this many epochs\n",
    "for epoch in range(20):\n",
    "    anp_system.model.train()\n",
    "    \n",
    "    i = 0\n",
    "    total_weight_masks_loss = 0\n",
    "    for inputs, label in train_loader:\n",
    "        inputs, label = inputs.to(device), label.to(device)\n",
    "        # perform perturb step\n",
    "        weight_masks_loss = anp_system.perturb_step(inputs, label)\n",
    "        total_weight_masks_loss += weight_masks_loss\n",
    "        # print(f'epoch: {epoch} | iteration: {i} | weight_mask_loss: {weight_masks_loss}')\n",
    "        i += 1\n",
    "    print(f'epoch: {epoch} | total_weight_masks_loss: {total_weight_masks_loss}')\n",
    "\n",
    "    # in eval mode, we test backdoor effectiveness\n",
    "    anp_system.model.eval()\n",
    "    \n",
    "    # testing loop (normal data)\n",
    "    total_test_acc = 0\n",
    "    test_item_ct = 0\n",
    "    with torch.no_grad():\n",
    "        for inputs, label in test_loader:\n",
    "            inputs, label = inputs.to(device), label.to(device)\n",
    "            \n",
    "            pred = anp_system.model(inputs)\n",
    "            accuracy = compute_accuracy(pred.cpu().detach().numpy(),label.cpu().detach().numpy())\n",
    "            \n",
    "            total_test_acc += accuracy * inputs.shape[0]\n",
    "            test_item_ct += inputs.shape[0]\n",
    "    print(f'Test Accuracy: {total_test_acc/test_item_ct}')\n",
    "    test_acc_list.append(total_test_acc/test_item_ct)\n",
    "    \n",
    "    # test with backdoor inserted to training set images\n",
    "    backdoor_success_ct = 0\n",
    "    backdoor_item_ct = 0\n",
    "    with torch.no_grad():\n",
    "        for inputs, label in test_loader:\n",
    "            inputs = introduce_backdoor_test_set(inputs).to(device)\n",
    "            \n",
    "            pred = anp_system.model(inputs)\n",
    "            pred_lbls = np.argmax(pred.cpu().detach().numpy(),1,keepdims=True)\n",
    "\n",
    "            backdoor_success_ct += np.sum(pred_lbls == 0)\n",
    "            backdoor_item_ct += inputs.shape[0]\n",
    "    \n",
    "    print(f'Backdoor Success Rate: {backdoor_success_ct/backdoor_item_ct}')\n",
    "    asr_list.append(backdoor_success_ct/backdoor_item_ct)\n",
    "\n",
    "    scheduler.step()"
   ]
  },
  {
   "cell_type": "code",
   "execution_count": 23,
   "id": "82803dab-05ca-4eb1-a008-273e16ccac3c",
   "metadata": {},
   "outputs": [],
   "source": [
    "import matplotlib.pyplot as plt"
   ]
  },
  {
   "cell_type": "code",
   "execution_count": 24,
   "id": "a6b74ed9-28c5-497e-8e10-72aa6b7bf4ba",
   "metadata": {},
   "outputs": [
    {
     "data": {
      "text/plain": [
       "[<matplotlib.lines.Line2D at 0x1ae4fffcd70>]"
      ]
     },
     "execution_count": 24,
     "metadata": {},
     "output_type": "execute_result"
    },
    {
     "data": {
      "image/png": "[encoded data removed]",
      "text/plain": [
       "<Figure size 640x480 with 1 Axes>"
      ]
     },
     "metadata": {},
     "output_type": "display_data"
    }
   ],
   "source": [
    "plt.plot(test_acc_list)\n",
    "plt.plot(asr_list)"
   ]
  },
  {
   "cell_type": "markdown",
   "id": "76fd156c-1f30-417b-9aea-47197f22f24c",
   "metadata": {},
   "source": [
    "##### weight masks values histogram"
   ]
  },
  {
   "cell_type": "code",
   "execution_count": 25,
   "id": "975f05e8-2c64-4d3d-a311-0bdcc29e53ce",
   "metadata": {},
   "outputs": [],
   "source": [
    "all_masks_values = []\n",
    "\n",
    "for name in anp_system.weight_masks:\n",
    "    weight_mask_tensor = anp_system.weight_masks[name]\n",
    "    all_masks_values.append(weight_mask_tensor.cpu().detach().numpy().flatten())\n",
    "\n",
    "all_masks_values = np.concatenate(all_masks_values)"
   ]
  },
  {
   "cell_type": "code",
   "execution_count": 26,
   "id": "f222c57e-dec0-48b1-96e2-8d507fc3e2d7",
   "metadata": {},
   "outputs": [
    {
     "data": {
      "text/plain": [
       "(11172032,)"
      ]
     },
     "execution_count": 26,
     "metadata": {},
     "output_type": "execute_result"
    }
   ],
   "source": [
    "all_masks_values.shape"
   ]
  },
  {
   "cell_type": "code",
   "execution_count": 27,
   "id": "fcc3180d-4d75-4312-8954-aefbb6c2ee95",
   "metadata": {},
   "outputs": [
    {
     "data": {
      "text/plain": [
       "(array([1.0000000e+00, 0.0000000e+00, 0.0000000e+00, 0.0000000e+00,\n",
       "        4.0000000e+00, 3.0000000e+00, 5.0000000e+00, 7.0000000e+00,\n",
       "        5.0000000e+00, 1.2000000e+01, 1.1000000e+01, 3.4000000e+01,\n",
       "        5.9000000e+01, 1.0300000e+02, 2.2400000e+02, 5.9000000e+02,\n",
       "        1.1170655e+07, 3.1200000e+02, 5.0000000e+00, 2.0000000e+00]),\n",
       " array([-1.68005276, -1.52024746, -1.36044216, -1.20063686, -1.04083157,\n",
       "        -0.88102627, -0.72122097, -0.56141567, -0.40161037, -0.24180508,\n",
       "        -0.08199978,  0.07780552,  0.23761082,  0.39741611,  0.55722141,\n",
       "         0.71702671,  0.87683201,  1.03663731,  1.1964426 ,  1.3562479 ,\n",
       "         1.5160532 ]),\n",
       " <BarContainer object of 20 artists>)"
      ]
     },
     "execution_count": 27,
     "metadata": {},
     "output_type": "execute_result"
    },
    {
     "data": {
      "image/png": "[encoded data removed]",
      "text/plain": [
       "<Figure size 640x480 with 1 Axes>"
      ]
     },
     "metadata": {},
     "output_type": "display_data"
    }
   ],
   "source": [
    "plt.hist(all_masks_values, bins=20, log=True)"
   ]
  },
  {
   "cell_type": "code",
   "execution_count": 28,
   "id": "84e9e016-09dc-4278-805d-4063fe9292a0",
   "metadata": {},
   "outputs": [
    {
     "data": {
      "text/plain": [
       "np.float32(0.0046433015)"
      ]
     },
     "execution_count": 28,
     "metadata": {},
     "output_type": "execute_result"
    }
   ],
   "source": [
    "# np.mean(all_masks_values)\n",
    "np.std(all_masks_values)    # 0.0? they did not change at all!"
   ]
  },
  {
   "cell_type": "code",
   "execution_count": 29,
   "id": "95d5088b-4f90-47d7-a65b-1c29aaeb9451",
   "metadata": {},
   "outputs": [],
   "source": [
    "all_masks_grad_values = []\n",
    "\n",
    "for name in anp_system.weight_masks:\n",
    "    weight_mask_tensor = anp_system.weight_masks[name]\n",
    "    all_masks_grad_values.append(weight_mask_tensor.grad.cpu().detach().numpy().flatten())\n",
    "\n",
    "all_masks_grad_values = np.concatenate(all_masks_grad_values)"
   ]
  },
  {
   "cell_type": "markdown",
   "id": "f7292e95-ea16-4d4f-ae7f-0c16628ee4ee",
   "metadata": {},
   "source": [
    "##### perturbation values histogram"
   ]
  },
  {
   "cell_type": "code",
   "execution_count": 30,
   "id": "5495b5dc-17a8-4ed5-89f7-98742e8327c1",
   "metadata": {},
   "outputs": [
    {
     "data": {
      "text/plain": [
       "dict_keys(['', 'conv1', 'bn1', 'relu', 'maxpool', 'layer1', 'layer1.0', 'layer1.0.conv1', 'layer1.0.bn1', 'layer1.0.relu', 'layer1.0.conv2', 'layer1.0.bn2', 'layer1.1', 'layer1.1.conv1', 'layer1.1.bn1', 'layer1.1.relu', 'layer1.1.conv2', 'layer1.1.bn2', 'layer2', 'layer2.0', 'layer2.0.conv1', 'layer2.0.bn1', 'layer2.0.relu', 'layer2.0.conv2', 'layer2.0.bn2', 'layer2.0.downsample', 'layer2.0.downsample.0', 'layer2.0.downsample.1', 'layer2.1', 'layer2.1.conv1', 'layer2.1.bn1', 'layer2.1.relu', 'layer2.1.conv2', 'layer2.1.bn2', 'layer3', 'layer3.0', 'layer3.0.conv1', 'layer3.0.bn1', 'layer3.0.relu', 'layer3.0.conv2', 'layer3.0.bn2', 'layer3.0.downsample', 'layer3.0.downsample.0', 'layer3.0.downsample.1', 'layer3.1', 'layer3.1.conv1', 'layer3.1.bn1', 'layer3.1.relu', 'layer3.1.conv2', 'layer3.1.bn2', 'layer4', 'layer4.0', 'layer4.0.conv1', 'layer4.0.bn1', 'layer4.0.relu', 'layer4.0.conv2', 'layer4.0.bn2', 'layer4.0.downsample', 'layer4.0.downsample.0', 'layer4.0.downsample.1', 'layer4.1', 'layer4.1.conv1', 'layer4.1.bn1', 'layer4.1.relu', 'layer4.1.conv2', 'layer4.1.bn2', 'avgpool', 'fc'])"
      ]
     },
     "execution_count": 30,
     "metadata": {},
     "output_type": "execute_result"
    }
   ],
   "source": [
    "anp_system.layer_extra_params.keys()"
   ]
  },
  {
   "cell_type": "code",
   "execution_count": 31,
   "id": "7d8be676-2fd5-493d-a352-26a0cad24360",
   "metadata": {
    "scrolled": true
   },
   "outputs": [
    {
     "data": {
      "text/plain": [
       "{'m': tensor([[[[0.9910, 1.0045, 1.0055,  ..., 1.0148, 1.0158, 1.0136],\n",
       "           [0.9959, 1.0102, 1.0090,  ..., 1.0083, 1.0170, 1.0004],\n",
       "           [1.0037, 1.0148, 1.0148,  ..., 1.0020, 0.9945, 0.9778],\n",
       "           ...,\n",
       "           [1.0023, 0.9998, 1.0004,  ..., 1.0011, 0.9965, 0.9938],\n",
       "           [1.0003, 0.9998, 1.0029,  ..., 0.9885, 0.9951, 0.9920],\n",
       "           [1.0011, 1.0089, 1.0051,  ..., 0.9900, 0.9969, 0.9893]],\n",
       " \n",
       "          [[0.9959, 1.0016, 1.0016,  ..., 1.0069, 1.0062, 1.0076],\n",
       "           [0.9975, 1.0055, 1.0038,  ..., 1.0062, 1.0109, 1.0025],\n",
       "           [1.0040, 1.0101, 1.0078,  ..., 1.0020, 0.9955, 0.9865],\n",
       "           ...,\n",
       "           [1.0030, 1.0000, 1.0011,  ..., 1.0076, 1.0024, 1.0028],\n",
       "           [0.9992, 0.9981, 1.0082,  ..., 0.9959, 0.9963, 0.9983],\n",
       "           [0.9975, 1.0066, 1.0110,  ..., 0.9982, 0.9964, 0.9940]],\n",
       " \n",
       "          [[0.9859, 0.9943, 0.9971,  ..., 1.0058, 1.0070, 1.0095],\n",
       "           [0.9913, 0.9981, 1.0011,  ..., 1.0108, 1.0184, 1.0115],\n",
       "           [0.9960, 1.0052, 1.0058,  ..., 1.0148, 1.0078, 0.9949],\n",
       "           ...,\n",
       "           [1.0040, 0.9993, 0.9972,  ..., 1.0006, 0.9998, 0.9988],\n",
       "           [0.9976, 0.9932, 1.0035,  ..., 0.9978, 0.9984, 0.9973],\n",
       "           [0.9943, 0.9997, 1.0090,  ..., 0.9991, 0.9990, 0.9945]]],\n",
       " \n",
       " \n",
       "         [[[1.0003, 0.9996, 0.9974,  ..., 1.0156, 0.9887, 0.9940],\n",
       "           [0.9974, 0.9996, 1.0001,  ..., 1.0075, 1.0003, 1.0027],\n",
       "           [1.0003, 1.0183, 1.0117,  ..., 0.9949, 0.9973, 0.9998],\n",
       "           ...,\n",
       "           [0.9976, 0.9866, 0.9886,  ..., 1.0164, 1.0061, 1.0081],\n",
       "           [1.0055, 1.0206, 1.0192,  ..., 1.0058, 1.0037, 0.9993],\n",
       "           [0.9989, 1.0041, 1.0015,  ..., 0.9966, 0.9987, 0.9988]],\n",
       " \n",
       "          [[1.0000, 1.0001, 0.9953,  ..., 1.0162, 0.9816, 0.9857],\n",
       "           [0.9904, 0.9991, 1.0007,  ..., 1.0153, 1.0038, 1.0066],\n",
       "           [0.9941, 1.0102, 1.0029,  ..., 0.9914, 0.9920, 0.9990],\n",
       "           ...,\n",
       "           [0.9981, 0.9988, 1.0103,  ..., 1.0394, 1.0258, 1.0261],\n",
       "           [1.0030, 1.0046, 0.9982,  ..., 0.9915, 0.9923, 0.9965],\n",
       "           [1.0002, 0.9997, 0.9962,  ..., 0.9938, 0.9962, 0.9925]],\n",
       " \n",
       "          [[0.9981, 0.9999, 1.0006,  ..., 1.0045, 0.9907, 0.9939],\n",
       "           [0.9917, 0.9950, 0.9980,  ..., 1.0077, 1.0019, 1.0021],\n",
       "           [1.0116, 1.0178, 1.0162,  ..., 1.0003, 1.0056, 1.0027],\n",
       "           ...,\n",
       "           [0.9986, 0.9932, 0.9954,  ..., 1.0107, 1.0004, 1.0030],\n",
       "           [1.0030, 1.0062, 1.0055,  ..., 1.0008, 1.0006, 0.9993],\n",
       "           [0.9998, 1.0000, 0.9977,  ..., 0.9968, 0.9988, 0.9966]]],\n",
       " \n",
       " \n",
       "         [[[1.0005, 1.0000, 0.9999,  ..., 1.0001, 0.9998, 1.0001],\n",
       "           [1.0001, 0.9999, 1.0000,  ..., 0.9997, 0.9992, 0.9995],\n",
       "           [1.0002, 1.0000, 1.0001,  ..., 0.9999, 0.9999, 0.9999],\n",
       "           ...,\n",
       "           [1.0003, 1.0000, 0.9999,  ..., 1.0000, 0.9996, 0.9992],\n",
       "           [1.0004, 0.9998, 0.9997,  ..., 1.0002, 1.0002, 0.9994],\n",
       "           [0.9999, 0.9999, 1.0001,  ..., 0.9999, 0.9997, 0.9995]],\n",
       " \n",
       "          [[1.0014, 1.0007, 1.0001,  ..., 0.9998, 0.9996, 1.0000],\n",
       "           [1.0003, 0.9999, 0.9997,  ..., 0.9991, 0.9987, 0.9992],\n",
       "           [1.0003, 1.0000, 0.9999,  ..., 0.9997, 0.9995, 0.9997],\n",
       "           ...,\n",
       "           [1.0003, 1.0000, 1.0000,  ..., 0.9995, 0.9990, 0.9986],\n",
       "           [1.0005, 1.0000, 1.0000,  ..., 0.9996, 0.9994, 0.9984],\n",
       "           [1.0001, 1.0000, 1.0001,  ..., 0.9991, 0.9989, 0.9986]],\n",
       " \n",
       "          [[1.0023, 1.0016, 1.0008,  ..., 1.0002, 1.0006, 1.0005],\n",
       "           [1.0007, 1.0011, 1.0007,  ..., 0.9995, 0.9993, 0.9997],\n",
       "           [1.0007, 1.0006, 1.0005,  ..., 0.9999, 0.9998, 0.9999],\n",
       "           ...,\n",
       "           [1.0008, 1.0007, 1.0006,  ..., 1.0000, 0.9997, 1.0000],\n",
       "           [1.0018, 1.0008, 1.0007,  ..., 1.0001, 0.9999, 1.0000],\n",
       "           [1.0012, 1.0011, 1.0017,  ..., 1.0002, 1.0003, 1.0010]]],\n",
       " \n",
       " \n",
       "         ...,\n",
       " \n",
       " \n",
       "         [[[1.0000, 1.0000, 1.0000,  ..., 1.0000, 1.0000, 1.0000],\n",
       "           [1.0000, 1.0000, 1.0000,  ..., 1.0000, 1.0000, 1.0000],\n",
       "           [1.0000, 1.0000, 1.0000,  ..., 1.0000, 1.0000, 1.0000],\n",
       "           ...,\n",
       "           [1.0000, 1.0000, 1.0000,  ..., 1.0000, 1.0000, 1.0000],\n",
       "           [1.0000, 1.0000, 1.0000,  ..., 1.0000, 1.0000, 1.0000],\n",
       "           [1.0000, 1.0000, 1.0000,  ..., 1.0000, 1.0000, 1.0000]],\n",
       " \n",
       "          [[1.0000, 1.0000, 1.0000,  ..., 1.0000, 1.0000, 1.0000],\n",
       "           [1.0000, 1.0000, 1.0000,  ..., 1.0000, 1.0000, 1.0000],\n",
       "           [1.0000, 1.0000, 1.0000,  ..., 1.0000, 1.0000, 1.0000],\n",
       "           ...,\n",
       "           [1.0000, 1.0000, 1.0000,  ..., 1.0000, 1.0000, 1.0000],\n",
       "           [1.0000, 1.0000, 1.0000,  ..., 1.0000, 1.0000, 1.0000],\n",
       "           [1.0000, 1.0000, 1.0000,  ..., 1.0000, 1.0000, 1.0000]],\n",
       " \n",
       "          [[1.0000, 1.0000, 1.0000,  ..., 1.0000, 1.0000, 1.0000],\n",
       "           [1.0000, 1.0000, 1.0000,  ..., 1.0000, 1.0000, 1.0000],\n",
       "           [1.0000, 1.0000, 1.0000,  ..., 1.0000, 1.0000, 1.0000],\n",
       "           ...,\n",
       "           [1.0000, 1.0000, 1.0000,  ..., 1.0000, 1.0000, 1.0000],\n",
       "           [1.0000, 1.0000, 1.0000,  ..., 1.0000, 1.0000, 1.0000],\n",
       "           [1.0000, 1.0000, 1.0000,  ..., 1.0000, 1.0000, 1.0000]]],\n",
       " \n",
       " \n",
       "         [[[0.9999, 1.0029, 1.0033,  ..., 1.0002, 1.0016, 0.9942],\n",
       "           [0.9996, 1.0034, 1.0064,  ..., 1.0028, 0.9952, 0.9914],\n",
       "           [1.0018, 0.9991, 0.9947,  ..., 0.9916, 0.9914, 0.9887],\n",
       "           ...,\n",
       "           [0.9999, 0.9934, 0.9798,  ..., 0.9927, 0.9945, 0.9947],\n",
       "           [0.9995, 0.9957, 0.9795,  ..., 0.9955, 0.9930, 0.9964],\n",
       "           [0.9990, 1.0024, 0.9891,  ..., 0.9998, 0.9969, 0.9991]],\n",
       " \n",
       "          [[1.0016, 1.0001, 1.0008,  ..., 1.0009, 1.0027, 0.9999],\n",
       "           [0.9985, 1.0020, 1.0067,  ..., 1.0077, 1.0036, 1.0020],\n",
       "           [1.0002, 1.0001, 0.9994,  ..., 1.0003, 1.0000, 0.9995],\n",
       "           ...,\n",
       "           [1.0002, 0.9987, 0.9870,  ..., 0.9993, 1.0006, 1.0007],\n",
       "           [1.0043, 1.0074, 0.9932,  ..., 1.0069, 1.0048, 1.0041],\n",
       "           [1.0054, 1.0152, 1.0039,  ..., 1.0117, 1.0084, 1.0060]],\n",
       " \n",
       "          [[1.0101, 0.9992, 0.9984,  ..., 1.0018, 1.0002, 1.0038],\n",
       "           [1.0011, 0.9975, 0.9980,  ..., 0.9980, 1.0010, 1.0017],\n",
       "           [1.0100, 1.0021, 1.0018,  ..., 1.0040, 1.0041, 1.0030],\n",
       "           ...,\n",
       "           [1.0051, 1.0068, 1.0085,  ..., 1.0054, 1.0048, 1.0037],\n",
       "           [1.0019, 0.9997, 0.9996,  ..., 1.0000, 1.0005, 1.0012],\n",
       "           [1.0007, 1.0011, 0.9999,  ..., 0.9997, 0.9999, 1.0002]]],\n",
       " \n",
       " \n",
       "         [[[0.9989, 1.0006, 0.9949,  ..., 1.0241, 0.9967, 1.0010],\n",
       "           [0.9980, 0.9989, 0.9973,  ..., 1.0059, 1.0104, 1.0000],\n",
       "           [0.9999, 1.0002, 1.0145,  ..., 1.0002, 1.0326, 0.9911],\n",
       "           ...,\n",
       "           [1.0039, 1.0124, 1.0032,  ..., 0.9653, 1.0448, 1.0172],\n",
       "           [1.0063, 1.0122, 0.9975,  ..., 1.0176, 1.0287, 0.9873],\n",
       "           [1.0026, 0.9984, 0.9809,  ..., 1.0325, 0.9984, 1.0002]],\n",
       " \n",
       "          [[1.0115, 1.0130, 0.9969,  ..., 1.0172, 0.9926, 1.0020],\n",
       "           [1.0024, 1.0010, 0.9929,  ..., 1.0015, 1.0122, 1.0000],\n",
       "           [1.0007, 1.0000, 1.0092,  ..., 1.0097, 1.0376, 0.9870],\n",
       "           ...,\n",
       "           [0.9990, 1.0026, 1.0000,  ..., 0.9813, 1.0499, 1.0161],\n",
       "           [0.9986, 0.9986, 0.9954,  ..., 1.0318, 1.0337, 0.9841],\n",
       "           [0.9997, 0.9943, 0.9817,  ..., 1.0577, 1.0102, 1.0023]],\n",
       " \n",
       "          [[1.0044, 0.9969, 0.9874,  ..., 1.0192, 0.9929, 1.0034],\n",
       "           [0.9988, 0.9955, 0.9840,  ..., 1.0117, 1.0072, 1.0005],\n",
       "           [0.9996, 0.9984, 1.0010,  ..., 1.0041, 1.0230, 0.9929],\n",
       "           ...,\n",
       "           [0.9989, 1.0000, 0.9983,  ..., 0.9968, 1.0392, 1.0110],\n",
       "           [0.9993, 1.0009, 0.9989,  ..., 1.0206, 1.0165, 0.9911],\n",
       "           [1.0001, 0.9989, 0.9898,  ..., 1.0414, 1.0013, 0.9998]]]],\n",
       "        device='cuda:0', requires_grad=True),\n",
       " 'delta': tensor([[[[-0.5247, -0.0438, -0.2971,  ..., -0.7000, -0.5245,  0.7946],\n",
       "           [-0.7934, -0.7476, -0.3481,  ..., -0.0857, -0.5887,  0.5041],\n",
       "           [-0.8320,  0.9341,  0.2796,  ..., -0.2154,  0.4551, -0.6905],\n",
       "           ...,\n",
       "           [-0.2735, -0.7668, -0.5083,  ...,  0.1087,  0.1790,  0.6314],\n",
       "           [-0.8514, -0.9466,  0.9930,  ...,  0.5623,  0.2518,  0.9438],\n",
       "           [ 0.6569,  0.4926,  0.5034,  ...,  0.0016, -0.4287, -0.5912]],\n",
       " \n",
       "          [[-0.2698, -0.9195, -0.3294,  ..., -0.7647, -0.7211,  0.2735],\n",
       "           [-0.7348, -0.4935, -0.3141,  ..., -0.6126, -0.1141,  0.4852],\n",
       "           [-0.5851,  0.2607,  0.9841,  ..., -0.4154,  0.2090, -0.1518],\n",
       "           ...,\n",
       "           [-0.2055,  0.0940, -0.0975,  ..., -0.2283,  0.5133,  0.6924],\n",
       "           [-0.7050, -0.8689,  0.9854,  ...,  0.0627,  0.2384,  0.8163],\n",
       "           [-0.5100,  0.4648,  0.5400,  ...,  0.5351, -0.2772, -0.0314]],\n",
       " \n",
       "          [[-0.0500, -0.9210,  0.4362,  ...,  0.4827,  0.9038,  0.9287],\n",
       "           [ 0.5584,  0.8715, -0.0373,  ...,  0.8479,  0.5919,  0.9787],\n",
       "           [ 0.6130,  0.6042,  0.4401,  ...,  0.6752, -0.9671, -0.3118],\n",
       "           ...,\n",
       "           [-0.7758,  0.8495,  0.2148,  ...,  0.5115,  0.4903,  0.7615],\n",
       "           [-0.4647, -0.4752,  0.6925,  ...,  0.1386,  0.3440,  0.9476],\n",
       "           [-0.0387, -0.2001,  0.6659,  ...,  0.8561,  0.7347,  0.7860]]],\n",
       " \n",
       " \n",
       "         [[[-0.8185,  0.3992, -0.2853,  ...,  0.4489, -0.4741,  0.6401],\n",
       "           [-0.9473,  0.1875, -0.4882,  ...,  0.7626,  0.0277, -0.0557],\n",
       "           [ 0.9747,  0.8292, -0.4264,  ..., -0.9072, -0.3960, -0.3243],\n",
       "           ...,\n",
       "           [-0.2452, -0.2042, -0.5871,  ..., -0.6356,  0.2174, -0.4075],\n",
       "           [ 0.8617,  0.0847,  0.0594,  ...,  0.4899,  0.0914,  0.5384],\n",
       "           [-0.6938,  0.4448,  0.0761,  ...,  0.2778,  0.5443,  0.1305]],\n",
       " \n",
       "          [[-0.2030, -0.5563,  0.4100,  ..., -0.7067,  0.8747,  0.4876],\n",
       "           [-0.8311, -0.2560, -0.5625,  ..., -0.5915, -0.2842, -0.3477],\n",
       "           [-0.8906,  0.8349,  0.9904,  ..., -0.3373, -0.2245, -0.1288],\n",
       "           ...,\n",
       "           [-0.7471, -0.4847, -0.1178,  ..., -0.9825, -0.7754, -0.7791],\n",
       "           [ 0.5550,  0.6119,  0.3807,  ...,  0.1700,  0.1518,  0.3480],\n",
       "           [-0.7426,  0.2851,  0.6681,  ...,  0.1584,  0.5019,  0.4777]],\n",
       " \n",
       "          [[-0.7663,  0.5988,  0.3341,  ..., -0.7759,  0.8565,  0.5950],\n",
       "           [-0.4376, -0.8144, -0.6227,  ..., -0.5450, -0.0385, -0.4878],\n",
       "           [ 0.7909,  0.9232,  0.5548,  ...,  0.5578,  0.2355,  0.3511],\n",
       "           ...,\n",
       "           [-0.4135, -0.5137, -0.5429,  ..., -0.8731, -0.8861, -0.1317],\n",
       "           [ 0.0578,  0.0544,  0.7810,  ...,  0.2963,  0.4264,  0.9828],\n",
       "           [-0.0929,  0.6878,  0.2786,  ...,  0.1923,  0.8016,  0.0156]]],\n",
       " \n",
       " \n",
       "         [[[ 0.5409,  0.7580, -0.7647,  ..., -0.6629,  0.6619, -0.6161],\n",
       "           [ 0.6864,  0.3446,  0.1315,  ...,  0.0947,  0.1096,  0.3205],\n",
       "           [ 0.6714,  0.4994, -0.0198,  ...,  0.4844,  0.2809,  0.7356],\n",
       "           ...,\n",
       "           [ 0.7265, -0.8392, -0.5666,  ...,  0.7071,  0.6300, -0.1631],\n",
       "           [ 0.5717, -0.7746, -0.4067,  ..., -0.6259, -0.0302,  0.2711],\n",
       "           [-0.5724, -0.2453,  0.7228,  ...,  0.4437,  0.4960,  0.6780]],\n",
       " \n",
       "          [[ 0.3801,  0.3444,  0.5337,  ...,  0.3435,  0.5124,  0.5960],\n",
       "           [ 0.8899,  0.2676,  0.6729,  ...,  0.4683,  0.7915,  0.9831],\n",
       "           [ 0.1181, -0.7953, -0.3735,  ...,  0.6806, -0.3286, -0.1842],\n",
       "           ...,\n",
       "           [ 0.3090,  0.4781,  0.9684,  ...,  0.1639, -0.5957, -0.3970],\n",
       "           [ 0.1876, -0.1720, -0.9069,  ...,  0.8524,  0.0177, -0.6199],\n",
       "           [ 0.0728,  0.7023,  0.6506,  ...,  0.2339,  0.2752,  0.3131]],\n",
       " \n",
       "          [[ 0.1638,  0.1313,  0.0877,  ...,  0.1062,  0.7423, -0.2528],\n",
       "           [ 0.1927,  0.6312, -0.9956,  ...,  0.4046, -0.5043, -0.1156],\n",
       "           [ 0.8409, -0.9102, -0.0228,  ..., -0.5856, -0.4864, -0.0967],\n",
       "           ...,\n",
       "           [ 0.5791,  0.8729, -0.7239,  ..., -0.9161, -0.8461, -0.6923],\n",
       "           [ 0.5728,  0.4050,  0.6797,  ..., -0.0182, -0.9830, -0.1791],\n",
       "           [ 0.0597, -0.4010,  0.1619,  ..., -0.0404, -0.7529, -0.7809]]],\n",
       " \n",
       " \n",
       "         ...,\n",
       " \n",
       " \n",
       "         [[[-0.2934, -0.2947,  0.2195,  ...,  0.2982,  0.2125,  0.3301],\n",
       "           [ 0.4708,  0.3701, -0.3758,  ...,  0.2130, -0.3280,  0.1276],\n",
       "           [-0.0094,  0.3962,  0.3691,  ...,  0.2960, -0.0626, -0.3507],\n",
       "           ...,\n",
       "           [-0.0921,  0.0251,  0.1212,  ..., -0.3877,  0.4221, -0.0134],\n",
       "           [ 0.3303,  0.0376, -0.0310,  ...,  0.2261,  0.1540, -0.3170],\n",
       "           [ 0.1336,  0.0751,  0.0642,  ...,  0.2682, -0.0860,  0.2361]],\n",
       " \n",
       "          [[ 0.0687, -0.3506, -0.3132,  ..., -0.1665,  0.3275,  0.1585],\n",
       "           [ 0.4262,  0.1579, -0.3489,  ..., -0.1716,  0.2553, -0.4305],\n",
       "           [-0.3276,  0.0988,  0.0062,  ..., -0.4384,  0.3443, -0.2725],\n",
       "           ...,\n",
       "           [ 0.2859, -0.0687, -0.0822,  ..., -0.2181, -0.4410, -0.3287],\n",
       "           [-0.0470, -0.1238, -0.1579,  ...,  0.0077, -0.3778, -0.1628],\n",
       "           [ 0.1473, -0.1039, -0.4085,  ...,  0.2487,  0.0772, -0.3325]],\n",
       " \n",
       "          [[ 0.2911,  0.0880, -0.1334,  ...,  0.0175,  0.0649, -0.4734],\n",
       "           [ 0.4844,  0.2032,  0.2122,  ..., -0.3233,  0.3568, -0.0046],\n",
       "           [-0.2459,  0.3851,  0.3676,  ...,  0.0687, -0.2031, -0.4048],\n",
       "           ...,\n",
       "           [-0.4385, -0.1198, -0.2836,  ..., -0.2751, -0.3053,  0.4359],\n",
       "           [-0.1716, -0.0305, -0.1073,  ..., -0.2466, -0.3615,  0.4670],\n",
       "           [-0.1275,  0.1979, -0.3696,  ...,  0.0029, -0.3058, -0.2588]]],\n",
       " \n",
       " \n",
       "         [[[-0.0839,  0.3129,  0.1754,  ...,  0.7579,  0.7241, -0.5317],\n",
       "           [ 0.5503, -0.3398, -0.2422,  ..., -0.7070,  0.2187,  0.6832],\n",
       "           [-0.8697, -0.5879,  0.9435,  ...,  0.7494, -0.2218, -0.7058],\n",
       "           ...,\n",
       "           [-0.6568,  0.4489,  0.5873,  ...,  0.9711, -0.1922, -0.1301],\n",
       "           [ 0.9057,  0.0039,  0.5886,  ...,  0.9002,  0.9151, -0.2681],\n",
       "           [ 0.2962, -0.2084,  0.4802,  ...,  0.8864,  0.4961,  0.6018]],\n",
       " \n",
       "          [[-0.0425,  0.2627,  0.8449,  ...,  0.4044,  0.7514, -0.4539],\n",
       "           [ 0.3406,  0.4844,  0.7220,  ...,  0.7463,  0.1661,  0.8090],\n",
       "           [-0.8477,  0.8214, -0.6312,  ..., -0.1537, -0.5790, -0.0586],\n",
       "           ...,\n",
       "           [ 0.4181, -0.5266,  0.8825,  ...,  0.6803, -0.5489, -0.5632],\n",
       "           [ 0.9873, -0.0442,  0.2834,  ..., -0.3462, -0.7055, -0.0574],\n",
       "           [-0.5818, -0.4865, -0.8174,  ..., -0.3322, -0.2997, -0.0818]],\n",
       " \n",
       "          [[-0.4508,  0.7650,  0.3501,  ..., -0.0078, -0.4214, -0.2713],\n",
       "           [-0.3538,  0.5813,  0.7500,  ...,  0.4258, -0.0245, -0.5424],\n",
       "           [-0.9606, -0.3778, -0.8635,  ..., -0.9940, -0.9585, -0.7761],\n",
       "           ...,\n",
       "           [-0.5695, -0.1171,  0.9332,  ..., -0.8322, -0.4725, -0.8756],\n",
       "           [-0.1944, -0.9184,  0.7441,  ..., -0.4407,  0.4153, -0.9583],\n",
       "           [-0.3013,  0.9051, -0.1414,  ..., -0.1537,  0.6150,  0.4516]]],\n",
       " \n",
       " \n",
       "         [[[-0.3605,  0.4449, -0.9622,  ...,  0.3113, -0.8616, -0.3387],\n",
       "           [-0.7797, -0.6697, -0.1166,  ...,  0.3903, -0.6050,  0.4886],\n",
       "           [-0.1924,  0.9262,  0.4572,  ..., -0.7210, -0.5201,  0.9618],\n",
       "           ...,\n",
       "           [ 0.5723,  0.1420,  0.8748,  ..., -0.2703,  0.1985,  0.5521],\n",
       "           [ 0.0719,  0.2661, -0.1358,  ...,  0.4464,  0.2281, -0.2033],\n",
       "           [ 0.7591, -0.6979, -0.7777,  ...,  0.9339, -0.7748,  0.4921]],\n",
       " \n",
       "          [[ 0.4605,  0.6139, -0.7528,  ...,  0.8010, -0.1808, -0.1828],\n",
       "           [ 0.3350,  0.7036, -0.3210,  ...,  0.6077, -0.2030, -0.9058],\n",
       "           [ 0.4193, -0.2599,  0.7004,  ..., -0.3841, -0.1090,  0.4686],\n",
       "           ...,\n",
       "           [-0.3185,  0.7080,  0.8038,  ..., -0.3589,  0.6236,  0.5470],\n",
       "           [-0.7719, -0.4229, -0.3919,  ...,  0.9171,  0.4004, -0.6056],\n",
       "           [ 0.6015, -0.8114, -0.9822,  ...,  0.0874,  0.6862,  0.1047]],\n",
       " \n",
       "          [[ 0.7349, -0.9632, -0.7874,  ...,  0.2173, -0.2839, -0.6334],\n",
       "           [-0.5957, -0.3852, -0.9834,  ...,  0.7806, -0.8301, -0.8962],\n",
       "           [ 0.2900, -0.5539,  0.2727,  ..., -0.0462, -0.5706,  0.7185],\n",
       "           ...,\n",
       "           [-0.1110,  0.3404,  0.9603,  ..., -0.6896,  0.7047,  0.8274],\n",
       "           [-0.5644,  0.3893, -0.8231,  ...,  0.3575,  0.6773, -0.8181],\n",
       "           [ 0.0676, -0.4427, -0.6076,  ...,  0.5181,  0.1786, -0.3313]]]],\n",
       "        device='cuda:0')}"
      ]
     },
     "execution_count": 31,
     "metadata": {},
     "output_type": "execute_result"
    }
   ],
   "source": [
    "anp_system.layer_extra_params['conv1']"
   ]
  },
  {
   "cell_type": "code",
   "execution_count": 32,
   "id": "65ba2b64-c820-465b-bb5e-3e3be0ec4079",
   "metadata": {},
   "outputs": [],
   "source": [
    "all_perturbations_values = []\n",
    "\n",
    "for name in anp_system.weight_perturbations:\n",
    "    weight_perturbation_tensor = anp_system.weight_perturbations[name]\n",
    "    all_perturbations_values.append(weight_perturbation_tensor.cpu().detach().numpy().flatten())\n",
    "\n",
    "all_perturbations_values = np.concatenate(all_perturbations_values)"
   ]
  },
  {
   "cell_type": "code",
   "execution_count": 33,
   "id": "2dfb19a6-ad37-4880-825e-247d4b2845a8",
   "metadata": {},
   "outputs": [
    {
     "data": {
      "text/plain": [
       "(11172032,)"
      ]
     },
     "execution_count": 33,
     "metadata": {},
     "output_type": "execute_result"
    }
   ],
   "source": [
    "all_perturbations_values.shape"
   ]
  },
  {
   "cell_type": "code",
   "execution_count": 34,
   "id": "bd438891-0256-494e-93f4-677d3281e374",
   "metadata": {},
   "outputs": [
    {
     "data": {
      "text/plain": [
       "(array([154272., 153743., 154315., 153267., 153941., 969494., 969628.,\n",
       "        968863., 969630., 969391., 961285., 963606., 964950., 962230.,\n",
       "        961830., 148183., 148272., 147927., 148758., 148447.]),\n",
       " array([-9.99998987e-01, -8.99999142e-01, -7.99999237e-01, -6.99999392e-01,\n",
       "        -5.99999547e-01, -4.99999702e-01, -3.99999797e-01, -2.99999952e-01,\n",
       "        -2.00000107e-01, -1.00000262e-01, -4.17232513e-07,  9.99994874e-02,\n",
       "         1.99999392e-01,  2.99999177e-01,  3.99999082e-01,  4.99998868e-01,\n",
       "         5.99998772e-01,  6.99998677e-01,  7.99998462e-01,  8.99998367e-01,\n",
       "         9.99998152e-01]),\n",
       " <BarContainer object of 20 artists>)"
      ]
     },
     "execution_count": 34,
     "metadata": {},
     "output_type": "execute_result"
    },
    {
     "data": {
      "image/png": "[encoded data removed]",
      "text/plain": [
       "<Figure size 640x480 with 1 Axes>"
      ]
     },
     "metadata": {},
     "output_type": "display_data"
    }
   ],
   "source": [
    "plt.hist(all_perturbations_values, bins=20, log=True)"
   ]
  },
  {
   "cell_type": "markdown",
   "id": "fb8849dd-ee97-41ba-a624-274621423c2b",
   "metadata": {},
   "source": [
    "##### confirms that the param tensors are same objects"
   ]
  },
  {
   "cell_type": "code",
   "execution_count": 35,
   "id": "bd69f957-a6fb-4c1b-a153-10b8ad9e51fe",
   "metadata": {},
   "outputs": [],
   "source": [
    "anp_system.weight_perturbations['fc.weight'].grad"
   ]
  },
  {
   "cell_type": "code",
   "execution_count": 36,
   "id": "d112d4ca-231d-48fa-b46a-a9490669879b",
   "metadata": {},
   "outputs": [
    {
     "data": {
      "text/plain": [
       "True"
      ]
     },
     "execution_count": 36,
     "metadata": {},
     "output_type": "execute_result"
    }
   ],
   "source": [
    "anp_system.weight_perturbations['fc.weight'] is anp_system.layer_extra_params['fc']['delta']"
   ]
  },
  {
   "cell_type": "code",
   "execution_count": 37,
   "id": "5edfc875-5f74-45b0-8ff8-39ef27c3abf1",
   "metadata": {},
   "outputs": [
    {
     "data": {
      "text/plain": [
       "True"
      ]
     },
     "execution_count": 37,
     "metadata": {},
     "output_type": "execute_result"
    }
   ],
   "source": [
    "anp_system.weight_masks['fc.weight'] is anp_system.layer_extra_params['fc']['m']"
   ]
  },
  {
   "cell_type": "code",
   "execution_count": 38,
   "id": "8e7c267d-f7ff-4cb8-bc90-8338386933ca",
   "metadata": {},
   "outputs": [
    {
     "data": {
      "text/plain": [
       "True"
      ]
     },
     "execution_count": 38,
     "metadata": {},
     "output_type": "execute_result"
    }
   ],
   "source": [
    "anp_system.weight_masks['conv1.weight'] is anp_system.layer_extra_params['conv1']['m']"
   ]
  },
  {
   "cell_type": "code",
   "execution_count": 39,
   "id": "a574b737-7fd0-47d5-8359-c008a119aeac",
   "metadata": {},
   "outputs": [
    {
     "data": {
      "text/plain": [
       "True"
      ]
     },
     "execution_count": 39,
     "metadata": {},
     "output_type": "execute_result"
    }
   ],
   "source": [
    "anp_system.layer_extra_params['conv1']['m'].requires_grad"
   ]
  },
  {
   "cell_type": "code",
   "execution_count": null,
   "id": "d1679beb-f6d5-42cd-b91c-02f5e1a0ead4",
   "metadata": {},
   "outputs": [],
   "source": []
  }
 ],
 "metadata": {
  "kernelspec": {
   "display_name": "Python 3 (ipykernel)",
   "language": "python",
   "name": "python3"
  },
  "language_info": {
   "codemirror_mode": {
    "name": "ipython",
    "version": 3
   },
   "file_extension": ".py",
   "mimetype": "text/x-python",
   "name": "python",
   "nbconvert_exporter": "python",
   "pygments_lexer": "ipython3",
   "version": "3.12.9"
  }
 },
 "nbformat": 4,
 "nbformat_minor": 5
}
