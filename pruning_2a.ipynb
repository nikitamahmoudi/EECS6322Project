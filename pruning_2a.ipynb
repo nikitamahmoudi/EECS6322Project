{
 "cells": [
  {
   "cell_type": "markdown",
   "id": "840b0229-ba22-45a3-b64f-73f7109a87e7",
   "metadata": {},
   "source": [
    "Running Adversarial Neuron Pruning"
   ]
  },
  {
   "cell_type": "code",
   "execution_count": 1,
   "id": "5a782326-64ce-45d4-8ccc-08290b1494ed",
   "metadata": {},
   "outputs": [],
   "source": [
    "import torch\n",
    "import torchvision\n",
    "\n",
    "from torchsummary import summary\n",
    "\n",
    "import numpy as np"
   ]
  },
  {
   "cell_type": "code",
   "execution_count": 2,
   "id": "e00fee55-a505-4e13-8859-11e8503628e2",
   "metadata": {},
   "outputs": [
    {
     "data": {
      "text/plain": [
       "True"
      ]
     },
     "execution_count": 2,
     "metadata": {},
     "output_type": "execute_result"
    }
   ],
   "source": [
    "torch.cuda.is_available()"
   ]
  },
  {
   "cell_type": "code",
   "execution_count": 3,
   "id": "2e27a149-b239-4549-99f0-d3f1bd1bc797",
   "metadata": {},
   "outputs": [],
   "source": [
    "#check gpu\n",
    "device = torch.device(\"cuda\" if torch.cuda.is_available() else \"cpu\")"
   ]
  },
  {
   "cell_type": "markdown",
   "id": "73cf68dd-3b73-47d5-b2bb-fa2f93ff5f02",
   "metadata": {},
   "source": [
    "### Load dataset"
   ]
  },
  {
   "cell_type": "code",
   "execution_count": 4,
   "id": "6c315309-cb57-4393-a272-b39c49db18cb",
   "metadata": {},
   "outputs": [],
   "source": [
    "import torchvision.transforms as transforms\n",
    "\n",
    "transform_train = transforms.Compose([\n",
    "    # transforms.RandomCrop(32, padding=4),\n",
    "    # transforms.RandomHorizontalFlip(),\n",
    "    transforms.ToTensor(),\n",
    "    transforms.Normalize((0.4914, 0.4822, 0.4465), (0.2023, 0.1994, 0.2010)),\n",
    "])\n",
    "\n",
    "transform_test = transforms.Compose([\n",
    "    transforms.ToTensor(),\n",
    "    transforms.Normalize((0.4914, 0.4822, 0.4465), (0.2023, 0.1994, 0.2010)),\n",
    "])"
   ]
  },
  {
   "cell_type": "code",
   "execution_count": 5,
   "id": "c68d436e-e9a6-47c2-91ab-79146c804d32",
   "metadata": {},
   "outputs": [
    {
     "name": "stdout",
     "output_type": "stream",
     "text": [
      "Files already downloaded and verified\n",
      "Files already downloaded and verified\n"
     ]
    }
   ],
   "source": [
    "cifar10_train = torchvision.datasets.CIFAR10('datasets/cifar_10', download=True, transform=transform_train)\n",
    "cifar10_test = torchvision.datasets.CIFAR10('datasets/cifar_10', train=False, download=True, transform=transform_test)"
   ]
  },
  {
   "cell_type": "markdown",
   "id": "c6782637-4dfe-482e-9a9e-32899675a649",
   "metadata": {},
   "source": [
    "### modify dataset"
   ]
  },
  {
   "cell_type": "code",
   "execution_count": 6,
   "id": "3f62e446-ef7a-46d4-abea-2bd9d6851e53",
   "metadata": {},
   "outputs": [],
   "source": [
    "# we use 0.9 of the whole dataset as the poisoned set\n",
    "poisoned_set_ratio = 0.9"
   ]
  },
  {
   "cell_type": "code",
   "execution_count": 7,
   "id": "a449dc6d-d7a5-44ca-86f9-e3e7c831d9cd",
   "metadata": {},
   "outputs": [],
   "source": [
    "dataset_images = np.array([c[0] for c in cifar10_train])\n",
    "dataset_labels = np.array([c[1] for c in cifar10_train])"
   ]
  },
  {
   "cell_type": "code",
   "execution_count": 8,
   "id": "cd747905-35cf-420b-a7f5-0e58dd5ca9f9",
   "metadata": {},
   "outputs": [],
   "source": [
    "# create a subset of the dataset\n",
    "l = len(cifar10_train)\n",
    "indices = np.arange(l)"
   ]
  },
  {
   "cell_type": "code",
   "execution_count": 9,
   "id": "dc0b71fc-7c2b-4487-9854-15d67b37e0a2",
   "metadata": {},
   "outputs": [],
   "source": [
    "np.random.seed(594462)\n",
    "np.random.shuffle(indices)\n",
    "\n",
    "# since we use 0.9 of the set as backdoored training set, we will use the rest 0.1 as fixing set\n",
    "keep_indices = indices[int(l * poisoned_set_ratio):]"
   ]
  },
  {
   "cell_type": "code",
   "execution_count": 10,
   "id": "3e6f5440-25b6-4394-9fe6-8b6f5d165f7f",
   "metadata": {},
   "outputs": [],
   "source": [
    "new_train_set_images = dataset_images[keep_indices, :, :, :]\n",
    "new_train_set_labels = dataset_labels[keep_indices]"
   ]
  },
  {
   "cell_type": "code",
   "execution_count": 11,
   "id": "81761e7f-d3f5-4040-9088-f1ec6d30d7cb",
   "metadata": {},
   "outputs": [],
   "source": [
    "# create a new training set\n",
    "new_train_set = torch.utils.data.TensorDataset(torch.tensor(new_train_set_images), torch.tensor(new_train_set_labels))"
   ]
  },
  {
   "cell_type": "code",
   "execution_count": 12,
   "id": "06e8d157-1036-4a59-a7c5-5795a3012c16",
   "metadata": {},
   "outputs": [],
   "source": [
    "train_loader = torch.utils.data.DataLoader(new_train_set, batch_size=128, shuffle=True, num_workers=4)\n",
    "test_loader = torch.utils.data.DataLoader(cifar10_test, batch_size=200, shuffle=False, num_workers=4)"
   ]
  },
  {
   "cell_type": "markdown",
   "id": "f9621520-b0dc-49d2-aceb-f312fea3d721",
   "metadata": {},
   "source": [
    "### Create and load the ResNet18"
   ]
  },
  {
   "cell_type": "code",
   "execution_count": 13,
   "id": "69213019-5f6c-4c56-abb6-333359cf8ecc",
   "metadata": {},
   "outputs": [],
   "source": [
    "num_classes = 10"
   ]
  },
  {
   "cell_type": "code",
   "execution_count": 14,
   "id": "1d793143-8dbd-48f8-8138-1746434f9036",
   "metadata": {},
   "outputs": [],
   "source": [
    "res18 = torchvision.models.resnet18().cuda() if torch.cuda.is_available() else torchvision.models.resnet18()\n",
    "res18.fc = torch.nn.Linear(res18.fc.in_features, num_classes).cuda() if torch.cuda.is_available() else torch.nn.Linear(res18.fc.in_features, num_classes)"
   ]
  },
  {
   "cell_type": "code",
   "execution_count": 15,
   "id": "3eb7ad36-7d91-4deb-a99e-26dfc5228e65",
   "metadata": {},
   "outputs": [
    {
     "data": {
      "text/plain": [
       "True"
      ]
     },
     "execution_count": 15,
     "metadata": {},
     "output_type": "execute_result"
    }
   ],
   "source": [
    "# check if the parameters are in cuda\n",
    "next(res18.parameters()).is_cuda"
   ]
  },
  {
   "cell_type": "code",
   "execution_count": 16,
   "id": "02013d49-ec24-4350-a97d-d0887ca68362",
   "metadata": {},
   "outputs": [
    {
     "name": "stderr",
     "output_type": "stream",
     "text": [
      "C:\\Users\\Kevvol\\AppData\\Local\\Temp\\ipykernel_14932\\3783847679.py:1: FutureWarning: You are using `torch.load` with `weights_only=False` (the current default value), which uses the default pickle module implicitly. It is possible to construct malicious pickle data which will execute arbitrary code during unpickling (See https://github.com/pytorch/pytorch/blob/main/SECURITY.md#untrusted-models for more details). In a future release, the default value for `weights_only` will be flipped to `True`. This limits the functions that could be executed during unpickling. Arbitrary objects will no longer be allowed to be loaded via this mode unless they are explicitly allowlisted by the user via `torch.serialization.add_safe_globals`. We recommend you start setting `weights_only=True` for any use case where you don't have full control of the loaded file. Please open an issue on GitHub for any issues related to this experimental feature.\n",
      "  res18.load_state_dict(torch.load(f'saved_models/ResNet18-CIFAR10-backdoored-5-Epoch-200.pth'))\n"
     ]
    },
    {
     "data": {
      "text/plain": [
       "<All keys matched successfully>"
      ]
     },
     "execution_count": 16,
     "metadata": {},
     "output_type": "execute_result"
    }
   ],
   "source": [
    "res18.load_state_dict(torch.load(f'saved_models/ResNet18-CIFAR10-backdoored-5-Epoch-200.pth'))"
   ]
  },
  {
   "cell_type": "code",
   "execution_count": null,
   "id": "3b63da9a-d918-40a3-8a44-f2d471081ccd",
   "metadata": {},
   "outputs": [],
   "source": []
  },
  {
   "cell_type": "markdown",
   "id": "c90e1d91-9e7b-41fd-b609-432172f96043",
   "metadata": {},
   "source": [
    "### Create ANP wrapper"
   ]
  },
  {
   "cell_type": "code",
   "execution_count": 17,
   "id": "d8277d46-c0b0-4c59-b584-084deef3137d",
   "metadata": {},
   "outputs": [],
   "source": [
    "from ANP import *"
   ]
  },
  {
   "cell_type": "code",
   "execution_count": 18,
   "id": "61ed39db-9dd5-4aab-83de-5221bb408ddf",
   "metadata": {
    "scrolled": true
   },
   "outputs": [],
   "source": [
    "anp_system = ANPWrapper(res18, tradeoff=0.1, lr=0.2, ep=0.8)"
   ]
  },
  {
   "cell_type": "code",
   "execution_count": 19,
   "id": "64f50b76-09df-4e20-ba17-b45e3c356d4e",
   "metadata": {},
   "outputs": [],
   "source": [
    "# scheduler = torch.optim.lr_scheduler.CosineAnnealingLR(anp_system.weight_masks_optimizer, T_max=200)"
   ]
  },
  {
   "cell_type": "code",
   "execution_count": 20,
   "id": "96866b1a-1f91-4074-bf48-6f879e6c507b",
   "metadata": {},
   "outputs": [],
   "source": [
    "# copied from assignment 2\n",
    "def compute_accuracy(prediction,gt_logits):\n",
    "    pred_idx = np.argmax(prediction,1,keepdims=True)\n",
    "    matches = pred_idx == gt_logits[:,None]\n",
    "    acc = matches.mean()\n",
    "    return acc"
   ]
  },
  {
   "cell_type": "code",
   "execution_count": 21,
   "id": "743c9977-b158-4bca-9d07-3531aa86139e",
   "metadata": {},
   "outputs": [],
   "source": [
    "# add a backdoor to a test set to see its efficacy\n",
    "def introduce_backdoor_test_set(inputs):\n",
    "    pxl_w = torch.tensor((1.0, 1.0, 1.0))\n",
    "    pxl_b = torch.tensor((0.0, 0.0, 0.0))\n",
    "    # pxl_w = (1.0 - 0.4914) / 0.2023\n",
    "    # pxl_b = (0.0 - 0.4914) / 0.2023\n",
    "    all_indices = torch.arange(inputs.shape[0])\n",
    "    inputs[all_indices, :, 31, 31] = pxl_w\n",
    "    inputs[all_indices, :, 30, 30] = pxl_w\n",
    "    inputs[all_indices, :, 29, 31] = pxl_w\n",
    "    inputs[all_indices, :, 31, 29] = pxl_w\n",
    "    inputs[all_indices, :, 30, 31] = pxl_b\n",
    "    inputs[all_indices, :, 31, 30] = pxl_b\n",
    "    inputs[all_indices, :, 29, 30] = pxl_b\n",
    "    inputs[all_indices, :, 30, 29] = pxl_b\n",
    "    inputs[all_indices, :, 29, 29] = pxl_b\n",
    "    return inputs"
   ]
  },
  {
   "cell_type": "code",
   "execution_count": 22,
   "id": "00e3dd51-915e-434d-b89e-dcd099b70114",
   "metadata": {},
   "outputs": [
    {
     "name": "stdout",
     "output_type": "stream",
     "text": [
      "epoch: 0 | total_weight_masks_loss: 252.1797772049904\n",
      "Test Accuracy: 0.4108\n",
      "Backdoor Success Rate: 1.0\n",
      "epoch: 1 | total_weight_masks_loss: 166.3698711246252\n",
      "Test Accuracy: 0.4701\n",
      "Backdoor Success Rate: 1.0\n",
      "epoch: 2 | total_weight_masks_loss: 127.93048736453056\n",
      "Test Accuracy: 0.3109\n",
      "Backdoor Success Rate: 0.9998888888888889\n",
      "epoch: 3 | total_weight_masks_loss: 110.57179959118366\n",
      "Test Accuracy: 0.3959\n",
      "Backdoor Success Rate: 0.8742222222222222\n",
      "epoch: 4 | total_weight_masks_loss: 105.21021330356598\n",
      "Test Accuracy: 0.2374\n",
      "Backdoor Success Rate: 0.9918888888888889\n",
      "epoch: 5 | total_weight_masks_loss: 106.93261398375034\n",
      "Test Accuracy: 0.2286\n",
      "Backdoor Success Rate: 1.0\n",
      "epoch: 6 | total_weight_masks_loss: 108.35913537442684\n",
      "Test Accuracy: 0.5008\n",
      "Backdoor Success Rate: 0.3591111111111111\n",
      "epoch: 7 | total_weight_masks_loss: 100.54452316462994\n",
      "Test Accuracy: 0.4316\n",
      "Backdoor Success Rate: 1.0\n",
      "epoch: 8 | total_weight_masks_loss: 100.60364569723606\n",
      "Test Accuracy: 0.3409\n",
      "Backdoor Success Rate: 0.9886666666666667\n",
      "epoch: 9 | total_weight_masks_loss: 103.25003334879875\n",
      "Test Accuracy: 0.4223\n",
      "Backdoor Success Rate: 1.0\n",
      "epoch: 10 | total_weight_masks_loss: 107.90830297768116\n",
      "Test Accuracy: 0.3384\n",
      "Backdoor Success Rate: 0.9993333333333333\n",
      "epoch: 11 | total_weight_masks_loss: 99.10216444730759\n",
      "Test Accuracy: 0.2776\n",
      "Backdoor Success Rate: 0.5212222222222223\n",
      "epoch: 12 | total_weight_masks_loss: 99.44168218970299\n",
      "Test Accuracy: 0.5116\n",
      "Backdoor Success Rate: 0.998\n",
      "epoch: 13 | total_weight_masks_loss: 100.80918528139591\n",
      "Test Accuracy: 0.444\n",
      "Backdoor Success Rate: 0.9812222222222222\n",
      "epoch: 14 | total_weight_masks_loss: 94.98453038930893\n",
      "Test Accuracy: 0.416\n",
      "Backdoor Success Rate: 0.8374444444444444\n",
      "epoch: 15 | total_weight_masks_loss: 101.51492466032505\n",
      "Test Accuracy: 0.3124\n",
      "Backdoor Success Rate: 0.6202222222222222\n",
      "epoch: 16 | total_weight_masks_loss: 102.41676053404808\n",
      "Test Accuracy: 0.4954\n",
      "Backdoor Success Rate: 0.9658888888888889\n",
      "epoch: 17 | total_weight_masks_loss: 102.1908043473959\n",
      "Test Accuracy: 0.4937\n",
      "Backdoor Success Rate: 0.8917777777777778\n",
      "epoch: 18 | total_weight_masks_loss: 100.37297630310059\n",
      "Test Accuracy: 0.4617\n",
      "Backdoor Success Rate: 0.9941111111111111\n",
      "epoch: 19 | total_weight_masks_loss: 97.03516983985901\n",
      "Test Accuracy: 0.4302\n",
      "Backdoor Success Rate: 0.2571111111111111\n",
      "epoch: 20 | total_weight_masks_loss: 98.08648809790611\n",
      "Test Accuracy: 0.5146\n",
      "Backdoor Success Rate: 0.266\n",
      "epoch: 21 | total_weight_masks_loss: 99.99433173239231\n",
      "Test Accuracy: 0.4896\n",
      "Backdoor Success Rate: 0.009555555555555555\n",
      "epoch: 22 | total_weight_masks_loss: 96.25809229910374\n",
      "Test Accuracy: 0.4297\n",
      "Backdoor Success Rate: 0.9834444444444445\n",
      "epoch: 23 | total_weight_masks_loss: 95.30756890773773\n",
      "Test Accuracy: 0.5339\n",
      "Backdoor Success Rate: 0.9995555555555555\n",
      "epoch: 24 | total_weight_masks_loss: 100.62196306884289\n",
      "Test Accuracy: 0.4523\n",
      "Backdoor Success Rate: 0.8404444444444444\n",
      "epoch: 25 | total_weight_masks_loss: 100.61647550016642\n",
      "Test Accuracy: 0.3675\n",
      "Backdoor Success Rate: 0.21688888888888888\n",
      "epoch: 26 | total_weight_masks_loss: 99.27591034770012\n",
      "Test Accuracy: 0.3899\n",
      "Backdoor Success Rate: 0.12544444444444444\n",
      "epoch: 27 | total_weight_masks_loss: 98.58268185704947\n",
      "Test Accuracy: 0.4205\n",
      "Backdoor Success Rate: 0.9916666666666667\n",
      "epoch: 28 | total_weight_masks_loss: 96.77695133537054\n",
      "Test Accuracy: 0.4539\n",
      "Backdoor Success Rate: 0.0007777777777777777\n",
      "epoch: 29 | total_weight_masks_loss: 99.39234790205956\n",
      "Test Accuracy: 0.483\n",
      "Backdoor Success Rate: 0.1821111111111111\n",
      "epoch: 30 | total_weight_masks_loss: 93.52258010208607\n",
      "Test Accuracy: 0.417\n",
      "Backdoor Success Rate: 0.9325555555555556\n",
      "epoch: 31 | total_weight_masks_loss: 102.60824663937092\n",
      "Test Accuracy: 0.4924\n",
      "Backdoor Success Rate: 0.4861111111111111\n",
      "epoch: 32 | total_weight_masks_loss: 96.19129757583141\n",
      "Test Accuracy: 0.5389\n",
      "Backdoor Success Rate: 0.0003333333333333333\n",
      "epoch: 33 | total_weight_masks_loss: 96.53790747374296\n",
      "Test Accuracy: 0.4708\n",
      "Backdoor Success Rate: 0.8153333333333334\n",
      "epoch: 34 | total_weight_masks_loss: 98.79193426668644\n",
      "Test Accuracy: 0.4581\n",
      "Backdoor Success Rate: 0.6637777777777778\n",
      "epoch: 35 | total_weight_masks_loss: 95.93799637258053\n",
      "Test Accuracy: 0.4607\n",
      "Backdoor Success Rate: 0.5447777777777778\n",
      "epoch: 36 | total_weight_masks_loss: 97.77279049158096\n",
      "Test Accuracy: 0.552\n",
      "Backdoor Success Rate: 0.942\n",
      "epoch: 37 | total_weight_masks_loss: 101.51702451705933\n",
      "Test Accuracy: 0.4818\n",
      "Backdoor Success Rate: 0.3814444444444444\n",
      "epoch: 38 | total_weight_masks_loss: 94.08367256820202\n",
      "Test Accuracy: 0.5584\n",
      "Backdoor Success Rate: 0.7397777777777778\n",
      "epoch: 39 | total_weight_masks_loss: 98.70805639028549\n",
      "Test Accuracy: 0.5019\n",
      "Backdoor Success Rate: 0.33011111111111113\n",
      "epoch: 40 | total_weight_masks_loss: 105.14055094122887\n",
      "Test Accuracy: 0.4192\n",
      "Backdoor Success Rate: 0.8516666666666667\n",
      "epoch: 41 | total_weight_masks_loss: 94.66762243956327\n",
      "Test Accuracy: 0.4532\n",
      "Backdoor Success Rate: 0.025777777777777778\n",
      "epoch: 42 | total_weight_masks_loss: 96.20793925970793\n",
      "Test Accuracy: 0.549\n",
      "Backdoor Success Rate: 0.007333333333333333\n",
      "epoch: 43 | total_weight_masks_loss: 94.98990509659052\n",
      "Test Accuracy: 0.3833\n",
      "Backdoor Success Rate: 0.9355555555555556\n",
      "epoch: 44 | total_weight_masks_loss: 103.60526152700186\n",
      "Test Accuracy: 0.5144\n",
      "Backdoor Success Rate: 0.5885555555555556\n",
      "epoch: 45 | total_weight_masks_loss: 101.75859110802412\n",
      "Test Accuracy: 0.5054\n",
      "Backdoor Success Rate: 0.8013333333333333\n",
      "epoch: 46 | total_weight_masks_loss: 101.25824309140444\n",
      "Test Accuracy: 0.4813\n",
      "Backdoor Success Rate: 0.18244444444444444\n",
      "epoch: 47 | total_weight_masks_loss: 96.89058953523636\n",
      "Test Accuracy: 0.4711\n",
      "Backdoor Success Rate: 0.05477777777777778\n",
      "epoch: 48 | total_weight_masks_loss: 95.20943620055914\n",
      "Test Accuracy: 0.4056\n",
      "Backdoor Success Rate: 0.06233333333333333\n",
      "epoch: 49 | total_weight_masks_loss: 97.949183575809\n",
      "Test Accuracy: 0.443\n",
      "Backdoor Success Rate: 0.4457777777777778\n"
     ]
    }
   ],
   "source": [
    "test_acc_list = []\n",
    "asr_list = []\n",
    "\n",
    "# train for this many epochs\n",
    "for epoch in range(50):\n",
    "    anp_system.model.train()\n",
    "    \n",
    "    i = 0\n",
    "    total_weight_masks_loss = 0\n",
    "    for inputs, label in train_loader:\n",
    "        inputs, label = inputs.to(device), label.to(device)\n",
    "        # perform perturb step\n",
    "        weight_masks_loss = anp_system.perturb_step(inputs, label)\n",
    "        total_weight_masks_loss += weight_masks_loss\n",
    "        # print(f'epoch: {epoch} | iteration: {i} | weight_mask_loss: {weight_masks_loss}')\n",
    "        i += 1\n",
    "    print(f'epoch: {epoch} | total_weight_masks_loss: {total_weight_masks_loss}')\n",
    "\n",
    "    # in eval mode, we test backdoor effectiveness\n",
    "    anp_system.model.eval()\n",
    "    \n",
    "    # testing loop (normal data)\n",
    "    total_test_acc = 0\n",
    "    test_item_ct = 0\n",
    "    with torch.no_grad():\n",
    "        for inputs, label in test_loader:\n",
    "            inputs, label = inputs.to(device), label.to(device)\n",
    "            \n",
    "            pred = anp_system.model(inputs)\n",
    "            accuracy = compute_accuracy(pred.cpu().detach().numpy(),label.cpu().detach().numpy())\n",
    "            \n",
    "            total_test_acc += accuracy * inputs.shape[0]\n",
    "            test_item_ct += inputs.shape[0]\n",
    "    print(f'Test Accuracy: {total_test_acc/test_item_ct}')\n",
    "    test_acc_list.append(total_test_acc/test_item_ct)\n",
    "    \n",
    "    # test with backdoor inserted to training set images\n",
    "    backdoor_success_ct = 0\n",
    "    backdoor_item_ct = 0\n",
    "    with torch.no_grad():\n",
    "        for inputs, label in test_loader:\n",
    "            inputs = introduce_backdoor_test_set(inputs).to(device)\n",
    "            \n",
    "            pred = anp_system.model(inputs)\n",
    "            pred_lbls = np.argmax(pred.cpu().detach().numpy(),1,keepdims=True)\n",
    "\n",
    "            # be careful to remove the test dataset items that originally were label 0\n",
    "            # since we don't want to mix them in with testing backdoor on labels 1-9\n",
    "            backdoor_success_ct += np.sum((pred_lbls == 0).flatten() & (label.numpy() != 0))\n",
    "            # backdoor_item_ct += inputs.shape[0]\n",
    "            backdoor_item_ct += np.sum(label.numpy() != 0)\n",
    "    \n",
    "    print(f'Backdoor Success Rate: {backdoor_success_ct/backdoor_item_ct}')\n",
    "    asr_list.append(backdoor_success_ct/backdoor_item_ct)\n",
    "\n",
    "    # scheduler.step()"
   ]
  },
  {
   "cell_type": "code",
   "execution_count": null,
   "id": "761c7ad3-3ef6-49b5-97e0-f9793e165c69",
   "metadata": {},
   "outputs": [],
   "source": []
  },
  {
   "cell_type": "code",
   "execution_count": null,
   "id": "53faa5e0-81da-4398-b64f-7c578326406a",
   "metadata": {},
   "outputs": [],
   "source": []
  },
  {
   "cell_type": "markdown",
   "id": "8f2d6a57-2aeb-45df-ba67-e7f750b1130b",
   "metadata": {},
   "source": [
    "### plotting"
   ]
  },
  {
   "cell_type": "code",
   "execution_count": 23,
   "id": "82803dab-05ca-4eb1-a008-273e16ccac3c",
   "metadata": {},
   "outputs": [],
   "source": [
    "import matplotlib.pyplot as plt"
   ]
  },
  {
   "cell_type": "code",
   "execution_count": 24,
   "id": "a6b74ed9-28c5-497e-8e10-72aa6b7bf4ba",
   "metadata": {},
   "outputs": [
    {
     "data": {
      "text/plain": [
       "[<matplotlib.lines.Line2D at 0x238c4cec950>]"
      ]
     },
     "execution_count": 24,
     "metadata": {},
     "output_type": "execute_result"
    },
    {
     "data": {
      "image/png": "[encoded data removed]",
      "text/plain": [
       "<Figure size 640x480 with 1 Axes>"
      ]
     },
     "metadata": {},
     "output_type": "display_data"
    }
   ],
   "source": [
    "plt.plot(test_acc_list)\n",
    "plt.plot(asr_list)"
   ]
  },
  {
   "cell_type": "code",
   "execution_count": null,
   "id": "f8d7b14e-653f-414d-b1ac-d82d5d3b8f2e",
   "metadata": {},
   "outputs": [],
   "source": []
  },
  {
   "cell_type": "markdown",
   "id": "1bb8d474-5ca2-4da3-9976-b095d754571a",
   "metadata": {},
   "source": [
    "### Consolidate the network by applying the pruning"
   ]
  },
  {
   "cell_type": "code",
   "execution_count": 25,
   "id": "c801e768-f87b-4be7-8a02-057761253416",
   "metadata": {},
   "outputs": [],
   "source": [
    "# remove the hooks\n",
    "anp_system._remove_hooks()"
   ]
  },
  {
   "cell_type": "code",
   "execution_count": 26,
   "id": "0c62bde6-da1b-49d6-bc94-5b60d7139d25",
   "metadata": {},
   "outputs": [],
   "source": [
    "threshold_value = 0.2"
   ]
  },
  {
   "cell_type": "code",
   "execution_count": 36,
   "id": "5dcd15fb-3f82-40f5-a3c5-070ee89cfb1e",
   "metadata": {},
   "outputs": [],
   "source": [
    "# apply pruning\n",
    "# anp_system._prune_neurons(threshold_value)\n",
    "\n",
    "with torch.no_grad():\n",
    "    for name, param in anp_system.model.named_parameters():\n",
    "        if name.endswith('weight'):\n",
    "            if name in anp_system.weight_masks:\n",
    "                param.copy_(param * (anp_system.weight_masks[name] >= threshold_value))"
   ]
  },
  {
   "cell_type": "code",
   "execution_count": 42,
   "id": "600936d4-d15d-4fe6-8708-0a167ce7e519",
   "metadata": {},
   "outputs": [],
   "source": [
    "fcw = None\n",
    "\n",
    "for name, param in anp_system.model.named_parameters():\n",
    "    if name == 'fc.weight':\n",
    "        fcw = param"
   ]
  },
  {
   "cell_type": "code",
   "execution_count": 46,
   "id": "63e5ba71-b84b-4e16-b771-fbf840affeaa",
   "metadata": {},
   "outputs": [
    {
     "data": {
      "text/plain": [
       "Parameter containing:\n",
       "tensor([[ 0.0000e+00,  0.0000e+00,  0.0000e+00,  ...,  0.0000e+00,\n",
       "          0.0000e+00,  0.0000e+00],\n",
       "        [-4.7063e-02, -2.0504e-03, -1.2732e-01,  ..., -2.1571e-03,\n",
       "         -8.6177e-02, -4.0504e-02],\n",
       "        [-3.6286e-02, -2.7053e-03, -8.6574e-02,  ..., -3.0684e-03,\n",
       "         -8.1642e-02, -5.4987e-02],\n",
       "        ...,\n",
       "        [ 1.5387e-01, -5.6252e-04, -6.5462e-02,  ...,  5.4234e-05,\n",
       "          1.1011e-01,  1.7515e-02],\n",
       "        [-5.4426e-02, -2.5895e-03,  2.1467e-01,  ..., -2.9225e-03,\n",
       "          5.5784e-02, -3.6538e-02],\n",
       "        [-6.0131e-02, -1.7596e-03,  2.6112e-01,  ..., -2.4450e-03,\n",
       "          5.2251e-02, -1.8673e-03]], device='cuda:0', requires_grad=True)"
      ]
     },
     "execution_count": 46,
     "metadata": {},
     "output_type": "execute_result"
    }
   ],
   "source": [
    "fcw"
   ]
  },
  {
   "cell_type": "code",
   "execution_count": 40,
   "id": "ffe53464-41b4-4398-82e4-e64ca59c6aa7",
   "metadata": {},
   "outputs": [
    {
     "data": {
      "text/plain": [
       "tensor([[False],\n",
       "        [ True],\n",
       "        [ True],\n",
       "        [ True],\n",
       "        [ True],\n",
       "        [ True],\n",
       "        [ True],\n",
       "        [ True],\n",
       "        [ True],\n",
       "        [ True]], device='cuda:0')"
      ]
     },
     "execution_count": 40,
     "metadata": {},
     "output_type": "execute_result"
    }
   ],
   "source": [
    "(anp_system.weight_masks['fc.weight'] >= threshold_value)"
   ]
  },
  {
   "cell_type": "code",
   "execution_count": 45,
   "id": "da3e1275-e0de-4c60-8c30-423d8333120d",
   "metadata": {},
   "outputs": [
    {
     "data": {
      "text/plain": [
       "tensor([[ 0.0000e+00,  0.0000e+00,  0.0000e+00,  ...,  0.0000e+00,\n",
       "          0.0000e+00,  0.0000e+00],\n",
       "        [-4.7063e-02, -2.0504e-03, -1.2732e-01,  ..., -2.1571e-03,\n",
       "         -8.6177e-02, -4.0504e-02],\n",
       "        [-3.6286e-02, -2.7053e-03, -8.6574e-02,  ..., -3.0684e-03,\n",
       "         -8.1642e-02, -5.4987e-02],\n",
       "        ...,\n",
       "        [ 1.5387e-01, -5.6252e-04, -6.5462e-02,  ...,  5.4234e-05,\n",
       "          1.1011e-01,  1.7515e-02],\n",
       "        [-5.4426e-02, -2.5895e-03,  2.1467e-01,  ..., -2.9225e-03,\n",
       "          5.5784e-02, -3.6538e-02],\n",
       "        [-6.0131e-02, -1.7596e-03,  2.6112e-01,  ..., -2.4450e-03,\n",
       "          5.2251e-02, -1.8673e-03]], device='cuda:0', grad_fn=<MulBackward0>)"
      ]
     },
     "execution_count": 45,
     "metadata": {},
     "output_type": "execute_result"
    }
   ],
   "source": [
    "fcw * (anp_system.weight_masks['fc.weight'] >= threshold_value)"
   ]
  },
  {
   "cell_type": "code",
   "execution_count": 47,
   "id": "23407653-183c-4828-a059-82458f6252f4",
   "metadata": {},
   "outputs": [
    {
     "name": "stdout",
     "output_type": "stream",
     "text": [
      "Backdoor Success Rate: 1.0\n"
     ]
    }
   ],
   "source": [
    "# then test the network once more\n",
    "# with the rigidly pruned neurons\n",
    "\n",
    "backdoor_success_ct = 0\n",
    "backdoor_item_ct = 0\n",
    "with torch.no_grad():\n",
    "    for inputs, label in test_loader:\n",
    "        inputs = introduce_backdoor_test_set(inputs).to(device)\n",
    "            \n",
    "        pred = anp_system.model(inputs)\n",
    "        pred_lbls = np.argmax(pred.cpu().detach().numpy(),1,keepdims=True)\n",
    "\n",
    "        # be careful to remove the test dataset items that originally were label 0\n",
    "        # since we don't want to mix them in with testing backdoor on labels 1-9\n",
    "        backdoor_success_ct += np.sum((pred_lbls == 0).flatten() & (label.numpy() != 0))\n",
    "        # backdoor_item_ct += inputs.shape[0]\n",
    "        backdoor_item_ct += np.sum(label.numpy() != 0)\n",
    "    \n",
    "print(f'Backdoor Success Rate: {backdoor_success_ct/backdoor_item_ct}')"
   ]
  },
  {
   "cell_type": "code",
   "execution_count": null,
   "id": "f5e6f076-c487-433c-a3f9-b4c1d141296e",
   "metadata": {},
   "outputs": [],
   "source": []
  },
  {
   "cell_type": "markdown",
   "id": "326a8c01-9b10-4928-b005-b6b893592152",
   "metadata": {},
   "source": [
    "### Below are messy debug pokings"
   ]
  },
  {
   "cell_type": "markdown",
   "id": "76fd156c-1f30-417b-9aea-47197f22f24c",
   "metadata": {},
   "source": [
    "##### weight masks values histogram"
   ]
  },
  {
   "cell_type": "code",
   "execution_count": 30,
   "id": "975f05e8-2c64-4d3d-a311-0bdcc29e53ce",
   "metadata": {},
   "outputs": [],
   "source": [
    "all_masks_values = []\n",
    "\n",
    "for name in anp_system.weight_masks:\n",
    "    weight_mask_tensor = anp_system.weight_masks[name]\n",
    "    all_masks_values.append(weight_mask_tensor.cpu().detach().numpy().flatten())\n",
    "\n",
    "all_masks_values = np.concatenate(all_masks_values)"
   ]
  },
  {
   "cell_type": "code",
   "execution_count": 31,
   "id": "f222c57e-dec0-48b1-96e2-8d507fc3e2d7",
   "metadata": {},
   "outputs": [
    {
     "data": {
      "text/plain": [
       "(9610,)"
      ]
     },
     "execution_count": 31,
     "metadata": {},
     "output_type": "execute_result"
    }
   ],
   "source": [
    "all_masks_values.shape"
   ]
  },
  {
   "cell_type": "code",
   "execution_count": 32,
   "id": "fcc3180d-4d75-4312-8954-aefbb6c2ee95",
   "metadata": {},
   "outputs": [
    {
     "data": {
      "text/plain": [
       "Text(0, 0.5, 'Number')"
      ]
     },
     "execution_count": 32,
     "metadata": {},
     "output_type": "execute_result"
    },
    {
     "data": {
      "image/png": "[encoded data removed]",
      "text/plain": [
       "<Figure size 640x480 with 1 Axes>"
      ]
     },
     "metadata": {},
     "output_type": "display_data"
    }
   ],
   "source": [
    "plt.hist(all_masks_values, bins=20, log=True)\n",
    "plt.xlabel('Mask value')\n",
    "plt.ylabel('Number')"
   ]
  },
  {
   "cell_type": "code",
   "execution_count": 33,
   "id": "dd2dcf04-3e5e-4910-8323-25027d22c52a",
   "metadata": {},
   "outputs": [
    {
     "data": {
      "text/plain": [
       "Text(0, 0.5, 'Number')"
      ]
     },
     "execution_count": 33,
     "metadata": {},
     "output_type": "execute_result"
    },
    {
     "data": {
      "image/png": "[encoded data removed]",
      "text/plain": [
       "<Figure size 640x480 with 1 Axes>"
      ]
     },
     "metadata": {},
     "output_type": "display_data"
    }
   ],
   "source": [
    "plt.hist(all_masks_values, bins=20)\n",
    "plt.xlabel('Mask value')\n",
    "plt.ylabel('Number')"
   ]
  },
  {
   "cell_type": "code",
   "execution_count": 34,
   "id": "84e9e016-09dc-4278-805d-4063fe9292a0",
   "metadata": {},
   "outputs": [
    {
     "data": {
      "text/plain": [
       "np.float32(0.20734791)"
      ]
     },
     "execution_count": 34,
     "metadata": {},
     "output_type": "execute_result"
    }
   ],
   "source": [
    "# np.mean(all_masks_values)\n",
    "np.std(all_masks_values)"
   ]
  },
  {
   "cell_type": "code",
   "execution_count": 35,
   "id": "95d5088b-4f90-47d7-a65b-1c29aaeb9451",
   "metadata": {},
   "outputs": [],
   "source": [
    "all_masks_grad_values = []\n",
    "\n",
    "for name in anp_system.weight_masks:\n",
    "    weight_mask_tensor = anp_system.weight_masks[name]\n",
    "    all_masks_grad_values.append(weight_mask_tensor.grad.cpu().detach().numpy().flatten())\n",
    "\n",
    "all_masks_grad_values = np.concatenate(all_masks_grad_values)"
   ]
  },
  {
   "cell_type": "code",
   "execution_count": null,
   "id": "a89efd41-9d70-4f2a-b2bd-da70698a421d",
   "metadata": {},
   "outputs": [],
   "source": []
  },
  {
   "cell_type": "code",
   "execution_count": null,
   "id": "a0627ce4-4060-41c6-ad48-23ba54030b11",
   "metadata": {},
   "outputs": [],
   "source": []
  },
  {
   "cell_type": "markdown",
   "id": "f7292e95-ea16-4d4f-ae7f-0c16628ee4ee",
   "metadata": {
    "jp-MarkdownHeadingCollapsed": true
   },
   "source": [
    "##### perturbation values histogram"
   ]
  },
  {
   "cell_type": "code",
   "execution_count": null,
   "id": "65ba2b64-c820-465b-bb5e-3e3be0ec4079",
   "metadata": {},
   "outputs": [],
   "source": [
    "all_perturbations_values = []\n",
    "\n",
    "for name in anp_system.weight_perturbations:\n",
    "    weight_perturbation_tensor = anp_system.weight_perturbations[name]\n",
    "    all_perturbations_values.append(weight_perturbation_tensor.cpu().detach().numpy().flatten())\n",
    "\n",
    "all_perturbations_values = np.concatenate(all_perturbations_values)"
   ]
  },
  {
   "cell_type": "code",
   "execution_count": null,
   "id": "2dfb19a6-ad37-4880-825e-247d4b2845a8",
   "metadata": {},
   "outputs": [],
   "source": [
    "all_perturbations_values.shape"
   ]
  },
  {
   "cell_type": "code",
   "execution_count": null,
   "id": "bd438891-0256-494e-93f4-677d3281e374",
   "metadata": {},
   "outputs": [],
   "source": [
    "plt.hist(all_perturbations_values, bins=20, log=True)"
   ]
  }
 ],
 "metadata": {
  "kernelspec": {
   "display_name": "Python 3 (ipykernel)",
   "language": "python",
   "name": "python3"
  },
  "language_info": {
   "codemirror_mode": {
    "name": "ipython",
    "version": 3
   },
   "file_extension": ".py",
   "mimetype": "text/x-python",
   "name": "python",
   "nbconvert_exporter": "python",
   "pygments_lexer": "ipython3",
   "version": "3.12.9"
  }
 },
 "nbformat": 4,
 "nbformat_minor": 5
}
