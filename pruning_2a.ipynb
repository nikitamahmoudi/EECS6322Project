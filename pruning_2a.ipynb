{
 "cells": [
  {
   "cell_type": "markdown",
   "id": "840b0229-ba22-45a3-b64f-73f7109a87e7",
   "metadata": {},
   "source": [
    "Running Adversarial Neuron Pruning"
   ]
  },
  {
   "cell_type": "code",
   "execution_count": 1,
   "id": "5a782326-64ce-45d4-8ccc-08290b1494ed",
   "metadata": {},
   "outputs": [],
   "source": [
    "import torch\n",
    "import torchvision\n",
    "\n",
    "from torchsummary import summary\n",
    "\n",
    "import numpy as np"
   ]
  },
  {
   "cell_type": "code",
   "execution_count": 2,
   "id": "e00fee55-a505-4e13-8859-11e8503628e2",
   "metadata": {},
   "outputs": [
    {
     "data": {
      "text/plain": [
       "True"
      ]
     },
     "execution_count": 2,
     "metadata": {},
     "output_type": "execute_result"
    }
   ],
   "source": [
    "torch.cuda.is_available()"
   ]
  },
  {
   "cell_type": "code",
   "execution_count": 3,
   "id": "2e27a149-b239-4549-99f0-d3f1bd1bc797",
   "metadata": {},
   "outputs": [],
   "source": [
    "#check gpu\n",
    "device = torch.device(\"cuda\" if torch.cuda.is_available() else \"cpu\")"
   ]
  },
  {
   "cell_type": "markdown",
   "id": "73cf68dd-3b73-47d5-b2bb-fa2f93ff5f02",
   "metadata": {},
   "source": [
    "### Load dataset"
   ]
  },
  {
   "cell_type": "code",
   "execution_count": 4,
   "id": "6c315309-cb57-4393-a272-b39c49db18cb",
   "metadata": {},
   "outputs": [],
   "source": [
    "import torchvision.transforms as transforms\n",
    "\n",
    "transform_train = transforms.Compose([\n",
    "    # transforms.RandomCrop(32, padding=4),\n",
    "    # transforms.RandomHorizontalFlip(),\n",
    "    transforms.ToTensor(),\n",
    "    transforms.Normalize((0.4914, 0.4822, 0.4465), (0.2023, 0.1994, 0.2010)),\n",
    "])\n",
    "\n",
    "transform_test = transforms.Compose([\n",
    "    transforms.ToTensor(),\n",
    "    transforms.Normalize((0.4914, 0.4822, 0.4465), (0.2023, 0.1994, 0.2010)),\n",
    "])"
   ]
  },
  {
   "cell_type": "code",
   "execution_count": 5,
   "id": "c68d436e-e9a6-47c2-91ab-79146c804d32",
   "metadata": {},
   "outputs": [
    {
     "name": "stdout",
     "output_type": "stream",
     "text": [
      "Files already downloaded and verified\n",
      "Files already downloaded and verified\n"
     ]
    }
   ],
   "source": [
    "cifar10_train = torchvision.datasets.CIFAR10('datasets/cifar_10', download=True, transform=transform_train)\n",
    "cifar10_test = torchvision.datasets.CIFAR10('datasets/cifar_10', train=False, download=True, transform=transform_test)"
   ]
  },
  {
   "cell_type": "markdown",
   "id": "c6782637-4dfe-482e-9a9e-32899675a649",
   "metadata": {},
   "source": [
    "### modify dataset"
   ]
  },
  {
   "cell_type": "code",
   "execution_count": 6,
   "id": "3f62e446-ef7a-46d4-abea-2bd9d6851e53",
   "metadata": {},
   "outputs": [],
   "source": [
    "# we use 0.9 of the whole dataset as the poisoned set\n",
    "poisoned_set_ratio = 0.9"
   ]
  },
  {
   "cell_type": "code",
   "execution_count": 7,
   "id": "a449dc6d-d7a5-44ca-86f9-e3e7c831d9cd",
   "metadata": {},
   "outputs": [],
   "source": [
    "dataset_images = np.array([c[0] for c in cifar10_train])\n",
    "dataset_labels = np.array([c[1] for c in cifar10_train])"
   ]
  },
  {
   "cell_type": "code",
   "execution_count": 8,
   "id": "cd747905-35cf-420b-a7f5-0e58dd5ca9f9",
   "metadata": {},
   "outputs": [],
   "source": [
    "# create a subset of the dataset\n",
    "l = len(cifar10_train)\n",
    "indices = np.arange(l)"
   ]
  },
  {
   "cell_type": "code",
   "execution_count": 9,
   "id": "dc0b71fc-7c2b-4487-9854-15d67b37e0a2",
   "metadata": {},
   "outputs": [],
   "source": [
    "np.random.seed(594462)\n",
    "np.random.shuffle(indices)\n",
    "\n",
    "# since we use 0.9 of the set as backdoored training set, we will use the rest 0.1 as fixing set\n",
    "keep_indices = indices[int(l * poisoned_set_ratio):]"
   ]
  },
  {
   "cell_type": "code",
   "execution_count": 10,
   "id": "3e6f5440-25b6-4394-9fe6-8b6f5d165f7f",
   "metadata": {},
   "outputs": [],
   "source": [
    "new_train_set_images = dataset_images[keep_indices, :, :, :]\n",
    "new_train_set_labels = dataset_labels[keep_indices]"
   ]
  },
  {
   "cell_type": "code",
   "execution_count": 11,
   "id": "81761e7f-d3f5-4040-9088-f1ec6d30d7cb",
   "metadata": {},
   "outputs": [],
   "source": [
    "# create a new training set\n",
    "new_train_set = torch.utils.data.TensorDataset(torch.tensor(new_train_set_images), torch.tensor(new_train_set_labels))"
   ]
  },
  {
   "cell_type": "code",
   "execution_count": 12,
   "id": "06e8d157-1036-4a59-a7c5-5795a3012c16",
   "metadata": {},
   "outputs": [],
   "source": [
    "train_loader = torch.utils.data.DataLoader(new_train_set, batch_size=125, shuffle=True, num_workers=4)\n",
    "test_loader = torch.utils.data.DataLoader(cifar10_test, batch_size=200, shuffle=False, num_workers=4)"
   ]
  },
  {
   "cell_type": "markdown",
   "id": "f9621520-b0dc-49d2-aceb-f312fea3d721",
   "metadata": {},
   "source": [
    "### Create and load the ResNet18"
   ]
  },
  {
   "cell_type": "code",
   "execution_count": 13,
   "id": "69213019-5f6c-4c56-abb6-333359cf8ecc",
   "metadata": {},
   "outputs": [],
   "source": [
    "num_classes = 10"
   ]
  },
  {
   "cell_type": "code",
   "execution_count": 14,
   "id": "1d793143-8dbd-48f8-8138-1746434f9036",
   "metadata": {},
   "outputs": [],
   "source": [
    "res18 = torchvision.models.resnet18().cuda() if torch.cuda.is_available() else torchvision.models.resnet18()\n",
    "res18.fc = torch.nn.Linear(res18.fc.in_features, num_classes).cuda() if torch.cuda.is_available() else torch.nn.Linear(res18.fc.in_features, num_classes)"
   ]
  },
  {
   "cell_type": "code",
   "execution_count": 15,
   "id": "3eb7ad36-7d91-4deb-a99e-26dfc5228e65",
   "metadata": {},
   "outputs": [
    {
     "data": {
      "text/plain": [
       "True"
      ]
     },
     "execution_count": 15,
     "metadata": {},
     "output_type": "execute_result"
    }
   ],
   "source": [
    "# check if the parameters are in cuda\n",
    "next(res18.parameters()).is_cuda"
   ]
  },
  {
   "cell_type": "code",
   "execution_count": 16,
   "id": "02013d49-ec24-4350-a97d-d0887ca68362",
   "metadata": {},
   "outputs": [
    {
     "name": "stderr",
     "output_type": "stream",
     "text": [
      "C:\\Users\\Kevvol\\AppData\\Local\\Temp\\ipykernel_12100\\3783847679.py:1: FutureWarning: You are using `torch.load` with `weights_only=False` (the current default value), which uses the default pickle module implicitly. It is possible to construct malicious pickle data which will execute arbitrary code during unpickling (See https://github.com/pytorch/pytorch/blob/main/SECURITY.md#untrusted-models for more details). In a future release, the default value for `weights_only` will be flipped to `True`. This limits the functions that could be executed during unpickling. Arbitrary objects will no longer be allowed to be loaded via this mode unless they are explicitly allowlisted by the user via `torch.serialization.add_safe_globals`. We recommend you start setting `weights_only=True` for any use case where you don't have full control of the loaded file. Please open an issue on GitHub for any issues related to this experimental feature.\n",
      "  res18.load_state_dict(torch.load(f'saved_models/ResNet18-CIFAR10-backdoored-5-Epoch-200.pth'))\n"
     ]
    },
    {
     "data": {
      "text/plain": [
       "<All keys matched successfully>"
      ]
     },
     "execution_count": 16,
     "metadata": {},
     "output_type": "execute_result"
    }
   ],
   "source": [
    "res18.load_state_dict(torch.load(f'saved_models/ResNet18-CIFAR10-backdoored-5-Epoch-200.pth'))"
   ]
  },
  {
   "cell_type": "code",
   "execution_count": null,
   "id": "3b63da9a-d918-40a3-8a44-f2d471081ccd",
   "metadata": {},
   "outputs": [],
   "source": []
  },
  {
   "cell_type": "markdown",
   "id": "c90e1d91-9e7b-41fd-b609-432172f96043",
   "metadata": {},
   "source": [
    "### Create ANP wrapper"
   ]
  },
  {
   "cell_type": "code",
   "execution_count": 17,
   "id": "d8277d46-c0b0-4c59-b584-084deef3137d",
   "metadata": {},
   "outputs": [],
   "source": [
    "from ANP import *"
   ]
  },
  {
   "cell_type": "code",
   "execution_count": 18,
   "id": "61ed39db-9dd5-4aab-83de-5221bb408ddf",
   "metadata": {
    "scrolled": true
   },
   "outputs": [],
   "source": [
    "anp_system = ANPWrapper(res18, tradeoff=0.2, lr=0.05, ep=0.4)"
   ]
  },
  {
   "cell_type": "code",
   "execution_count": 19,
   "id": "64f50b76-09df-4e20-ba17-b45e3c356d4e",
   "metadata": {},
   "outputs": [],
   "source": [
    "scheduler = torch.optim.lr_scheduler.CosineAnnealingLR(anp_system.weight_masks_optimizer, T_max=200)"
   ]
  },
  {
   "cell_type": "code",
   "execution_count": 20,
   "id": "96866b1a-1f91-4074-bf48-6f879e6c507b",
   "metadata": {},
   "outputs": [],
   "source": [
    "# copied from assignment 2\n",
    "def compute_accuracy(prediction,gt_logits):\n",
    "    pred_idx = np.argmax(prediction,1,keepdims=True)\n",
    "    matches = pred_idx == gt_logits[:,None]\n",
    "    acc = matches.mean()\n",
    "    return acc"
   ]
  },
  {
   "cell_type": "code",
   "execution_count": 21,
   "id": "743c9977-b158-4bca-9d07-3531aa86139e",
   "metadata": {},
   "outputs": [],
   "source": [
    "# add a backdoor to a test set to see its efficacy\n",
    "def introduce_backdoor_test_set(inputs):\n",
    "    pxl_w = torch.tensor((1.0, 1.0, 1.0))\n",
    "    pxl_b = torch.tensor((0.0, 0.0, 0.0))\n",
    "    # pxl_w = (1.0 - 0.4914) / 0.2023\n",
    "    # pxl_b = (0.0 - 0.4914) / 0.2023\n",
    "    all_indices = torch.arange(inputs.shape[0])\n",
    "    inputs[all_indices, :, 31, 31] = pxl_w\n",
    "    inputs[all_indices, :, 30, 30] = pxl_w\n",
    "    inputs[all_indices, :, 29, 31] = pxl_w\n",
    "    inputs[all_indices, :, 31, 29] = pxl_w\n",
    "    inputs[all_indices, :, 30, 31] = pxl_b\n",
    "    inputs[all_indices, :, 31, 30] = pxl_b\n",
    "    inputs[all_indices, :, 29, 30] = pxl_b\n",
    "    inputs[all_indices, :, 30, 29] = pxl_b\n",
    "    inputs[all_indices, :, 29, 29] = pxl_b\n",
    "    return inputs"
   ]
  },
  {
   "cell_type": "code",
   "execution_count": 22,
   "id": "00e3dd51-915e-434d-b89e-dcd099b70114",
   "metadata": {},
   "outputs": [
    {
     "name": "stdout",
     "output_type": "stream",
     "text": [
      "epoch: 0 | total_weight_masks_loss: 194.56104896962643\n",
      "Test Accuracy: 0.775\n",
      "Backdoor Success Rate: 0.9988\n",
      "epoch: 1 | total_weight_masks_loss: 180.7001271918416\n",
      "Test Accuracy: 0.7678\n",
      "Backdoor Success Rate: 0.9022\n",
      "epoch: 2 | total_weight_masks_loss: 174.4752205684781\n",
      "Test Accuracy: 0.767\n",
      "Backdoor Success Rate: 0.9279\n",
      "epoch: 3 | total_weight_masks_loss: 164.77133060246706\n",
      "Test Accuracy: 0.775\n",
      "Backdoor Success Rate: 0.9801\n",
      "epoch: 4 | total_weight_masks_loss: 160.01014267653227\n",
      "Test Accuracy: 0.7739\n",
      "Backdoor Success Rate: 0.9989\n",
      "epoch: 5 | total_weight_masks_loss: 156.19074525684118\n",
      "Test Accuracy: 0.7623\n",
      "Backdoor Success Rate: 0.974\n",
      "epoch: 6 | total_weight_masks_loss: 145.97751478850842\n",
      "Test Accuracy: 0.7691\n",
      "Backdoor Success Rate: 0.9713\n",
      "epoch: 7 | total_weight_masks_loss: 143.52717970311642\n",
      "Test Accuracy: 0.7718\n",
      "Backdoor Success Rate: 0.9301\n",
      "epoch: 8 | total_weight_masks_loss: 139.30562057346106\n",
      "Test Accuracy: 0.7614\n",
      "Backdoor Success Rate: 0.9548\n",
      "epoch: 9 | total_weight_masks_loss: 135.74692261219025\n",
      "Test Accuracy: 0.7713\n",
      "Backdoor Success Rate: 0.974\n",
      "epoch: 10 | total_weight_masks_loss: 133.7783483415842\n",
      "Test Accuracy: 0.7684\n",
      "Backdoor Success Rate: 0.9593\n",
      "epoch: 11 | total_weight_masks_loss: 129.91955038905144\n",
      "Test Accuracy: 0.7708\n",
      "Backdoor Success Rate: 0.8953\n",
      "epoch: 12 | total_weight_masks_loss: 126.83795539289713\n",
      "Test Accuracy: 0.7744\n",
      "Backdoor Success Rate: 0.7951\n",
      "epoch: 13 | total_weight_masks_loss: 126.9396940395236\n",
      "Test Accuracy: 0.7648\n",
      "Backdoor Success Rate: 0.5096\n",
      "epoch: 14 | total_weight_masks_loss: 121.27040868252516\n",
      "Test Accuracy: 0.7683\n",
      "Backdoor Success Rate: 0.7997\n",
      "epoch: 15 | total_weight_masks_loss: 119.65217244625092\n",
      "Test Accuracy: 0.7598\n",
      "Backdoor Success Rate: 0.9596\n",
      "epoch: 16 | total_weight_masks_loss: 118.22035709023476\n",
      "Test Accuracy: 0.7716\n",
      "Backdoor Success Rate: 0.976\n",
      "epoch: 17 | total_weight_masks_loss: 118.42404180765152\n",
      "Test Accuracy: 0.7698\n",
      "Backdoor Success Rate: 0.7349\n",
      "epoch: 18 | total_weight_masks_loss: 113.90986523777246\n",
      "Test Accuracy: 0.7671\n",
      "Backdoor Success Rate: 0.8829\n",
      "epoch: 19 | total_weight_masks_loss: 111.91362554579973\n",
      "Test Accuracy: 0.7612\n",
      "Backdoor Success Rate: 0.8646\n",
      "epoch: 20 | total_weight_masks_loss: 109.28896264731884\n",
      "Test Accuracy: 0.7651\n",
      "Backdoor Success Rate: 0.9913\n",
      "epoch: 21 | total_weight_masks_loss: 110.2688445970416\n",
      "Test Accuracy: 0.7699\n",
      "Backdoor Success Rate: 0.5436\n",
      "epoch: 22 | total_weight_masks_loss: 108.96488170325756\n",
      "Test Accuracy: 0.7684\n",
      "Backdoor Success Rate: 0.9494\n",
      "epoch: 23 | total_weight_masks_loss: 104.06571061909199\n",
      "Test Accuracy: 0.7683\n",
      "Backdoor Success Rate: 0.9554\n",
      "epoch: 24 | total_weight_masks_loss: 107.96129781007767\n",
      "Test Accuracy: 0.765\n",
      "Backdoor Success Rate: 0.9498\n",
      "epoch: 25 | total_weight_masks_loss: 106.65646907687187\n",
      "Test Accuracy: 0.7696\n",
      "Backdoor Success Rate: 0.8217\n",
      "epoch: 26 | total_weight_masks_loss: 107.34132922440767\n",
      "Test Accuracy: 0.7647\n",
      "Backdoor Success Rate: 0.9411\n",
      "epoch: 27 | total_weight_masks_loss: 104.36935398727655\n",
      "Test Accuracy: 0.7624\n",
      "Backdoor Success Rate: 0.5883\n",
      "epoch: 28 | total_weight_masks_loss: 108.25777397304773\n",
      "Test Accuracy: 0.7705\n",
      "Backdoor Success Rate: 0.6663\n",
      "epoch: 29 | total_weight_masks_loss: 105.92956421524286\n",
      "Test Accuracy: 0.7724\n",
      "Backdoor Success Rate: 0.9311\n",
      "epoch: 30 | total_weight_masks_loss: 102.50382743030787\n",
      "Test Accuracy: 0.77\n",
      "Backdoor Success Rate: 0.688\n",
      "epoch: 31 | total_weight_masks_loss: 102.00117167085409\n",
      "Test Accuracy: 0.7648\n",
      "Backdoor Success Rate: 0.6007\n",
      "epoch: 32 | total_weight_masks_loss: 104.36426420509815\n",
      "Test Accuracy: 0.7654\n",
      "Backdoor Success Rate: 0.5712\n",
      "epoch: 33 | total_weight_masks_loss: 100.76482913643122\n",
      "Test Accuracy: 0.7598\n",
      "Backdoor Success Rate: 0.8994\n",
      "epoch: 34 | total_weight_masks_loss: 101.1035450398922\n",
      "Test Accuracy: 0.7676\n",
      "Backdoor Success Rate: 0.8504\n",
      "epoch: 35 | total_weight_masks_loss: 100.047263905406\n",
      "Test Accuracy: 0.7744\n",
      "Backdoor Success Rate: 0.9952\n",
      "epoch: 36 | total_weight_masks_loss: 101.07216231524944\n",
      "Test Accuracy: 0.7646\n",
      "Backdoor Success Rate: 0.9249\n",
      "epoch: 37 | total_weight_masks_loss: 98.47744658589363\n",
      "Test Accuracy: 0.7678\n",
      "Backdoor Success Rate: 0.9822\n",
      "epoch: 38 | total_weight_masks_loss: 102.25723557919264\n",
      "Test Accuracy: 0.7614\n",
      "Backdoor Success Rate: 0.8738\n",
      "epoch: 39 | total_weight_masks_loss: 101.13946214318275\n",
      "Test Accuracy: 0.7571\n",
      "Backdoor Success Rate: 0.9553\n",
      "epoch: 40 | total_weight_masks_loss: 99.55471301078796\n",
      "Test Accuracy: 0.7738\n",
      "Backdoor Success Rate: 0.886\n",
      "epoch: 41 | total_weight_masks_loss: 98.02881824970245\n",
      "Test Accuracy: 0.7665\n",
      "Backdoor Success Rate: 0.867\n",
      "epoch: 42 | total_weight_masks_loss: 98.54102571308613\n",
      "Test Accuracy: 0.7594\n",
      "Backdoor Success Rate: 0.9889\n",
      "epoch: 43 | total_weight_masks_loss: 97.75719718635082\n",
      "Test Accuracy: 0.7636\n",
      "Backdoor Success Rate: 0.9524\n",
      "epoch: 44 | total_weight_masks_loss: 100.01681151986122\n",
      "Test Accuracy: 0.7645\n",
      "Backdoor Success Rate: 0.9769\n",
      "epoch: 45 | total_weight_masks_loss: 97.00822922587395\n",
      "Test Accuracy: 0.7738\n",
      "Backdoor Success Rate: 0.4453\n",
      "epoch: 46 | total_weight_masks_loss: 100.43242482841015\n",
      "Test Accuracy: 0.7669\n",
      "Backdoor Success Rate: 0.9898\n",
      "epoch: 47 | total_weight_masks_loss: 99.14779680967331\n",
      "Test Accuracy: 0.7752\n",
      "Backdoor Success Rate: 0.9305\n",
      "epoch: 48 | total_weight_masks_loss: 95.20255599915981\n",
      "Test Accuracy: 0.76\n",
      "Backdoor Success Rate: 0.8851\n",
      "epoch: 49 | total_weight_masks_loss: 98.11651184409857\n",
      "Test Accuracy: 0.7679\n",
      "Backdoor Success Rate: 0.8187\n"
     ]
    }
   ],
   "source": [
    "test_acc_list = []\n",
    "asr_list = []\n",
    "\n",
    "# train for this many epochs\n",
    "for epoch in range(50):\n",
    "    anp_system.model.train()\n",
    "    \n",
    "    i = 0\n",
    "    total_weight_masks_loss = 0\n",
    "    for inputs, label in train_loader:\n",
    "        inputs, label = inputs.to(device), label.to(device)\n",
    "        # perform perturb step\n",
    "        weight_masks_loss = anp_system.perturb_step(inputs, label)\n",
    "        total_weight_masks_loss += weight_masks_loss\n",
    "        # print(f'epoch: {epoch} | iteration: {i} | weight_mask_loss: {weight_masks_loss}')\n",
    "        i += 1\n",
    "    print(f'epoch: {epoch} | total_weight_masks_loss: {total_weight_masks_loss}')\n",
    "\n",
    "    # in eval mode, we test backdoor effectiveness\n",
    "    anp_system.model.eval()\n",
    "    \n",
    "    # testing loop (normal data)\n",
    "    total_test_acc = 0\n",
    "    test_item_ct = 0\n",
    "    with torch.no_grad():\n",
    "        for inputs, label in test_loader:\n",
    "            inputs, label = inputs.to(device), label.to(device)\n",
    "            \n",
    "            pred = anp_system.model(inputs)\n",
    "            accuracy = compute_accuracy(pred.cpu().detach().numpy(),label.cpu().detach().numpy())\n",
    "            \n",
    "            total_test_acc += accuracy * inputs.shape[0]\n",
    "            test_item_ct += inputs.shape[0]\n",
    "    print(f'Test Accuracy: {total_test_acc/test_item_ct}')\n",
    "    test_acc_list.append(total_test_acc/test_item_ct)\n",
    "    \n",
    "    # test with backdoor inserted to training set images\n",
    "    backdoor_success_ct = 0\n",
    "    backdoor_item_ct = 0\n",
    "    with torch.no_grad():\n",
    "        for inputs, label in test_loader:\n",
    "            inputs = introduce_backdoor_test_set(inputs).to(device)\n",
    "            \n",
    "            pred = anp_system.model(inputs)\n",
    "            pred_lbls = np.argmax(pred.cpu().detach().numpy(),1,keepdims=True)\n",
    "\n",
    "            backdoor_success_ct += np.sum(pred_lbls == 0)\n",
    "            backdoor_item_ct += inputs.shape[0]\n",
    "    \n",
    "    print(f'Backdoor Success Rate: {backdoor_success_ct/backdoor_item_ct}')\n",
    "    asr_list.append(backdoor_success_ct/backdoor_item_ct)\n",
    "\n",
    "    scheduler.step()"
   ]
  },
  {
   "cell_type": "code",
   "execution_count": 23,
   "id": "82803dab-05ca-4eb1-a008-273e16ccac3c",
   "metadata": {},
   "outputs": [],
   "source": [
    "import matplotlib.pyplot as plt"
   ]
  },
  {
   "cell_type": "code",
   "execution_count": 24,
   "id": "a6b74ed9-28c5-497e-8e10-72aa6b7bf4ba",
   "metadata": {},
   "outputs": [
    {
     "data": {
      "text/plain": [
       "[<matplotlib.lines.Line2D at 0x16f91343c50>]"
      ]
     },
     "execution_count": 24,
     "metadata": {},
     "output_type": "execute_result"
    },
    {
     "data": {
      "image/png": "[encoded data removed]",
      "text/plain": [
       "<Figure size 640x480 with 1 Axes>"
      ]
     },
     "metadata": {},
     "output_type": "display_data"
    }
   ],
   "source": [
    "plt.plot(test_acc_list)\n",
    "plt.plot(asr_list)"
   ]
  },
  {
   "cell_type": "markdown",
   "id": "76fd156c-1f30-417b-9aea-47197f22f24c",
   "metadata": {},
   "source": [
    "##### weight masks values histogram"
   ]
  },
  {
   "cell_type": "code",
   "execution_count": 25,
   "id": "975f05e8-2c64-4d3d-a311-0bdcc29e53ce",
   "metadata": {},
   "outputs": [],
   "source": [
    "all_masks_values = []\n",
    "\n",
    "for name in anp_system.weight_masks:\n",
    "    weight_mask_tensor = anp_system.weight_masks[name]\n",
    "    all_masks_values.append(weight_mask_tensor.cpu().detach().numpy().flatten())\n",
    "\n",
    "all_masks_values = np.concatenate(all_masks_values)"
   ]
  },
  {
   "cell_type": "code",
   "execution_count": 26,
   "id": "f222c57e-dec0-48b1-96e2-8d507fc3e2d7",
   "metadata": {},
   "outputs": [
    {
     "data": {
      "text/plain": [
       "(11172032,)"
      ]
     },
     "execution_count": 26,
     "metadata": {},
     "output_type": "execute_result"
    }
   ],
   "source": [
    "all_masks_values.shape"
   ]
  },
  {
   "cell_type": "code",
   "execution_count": 27,
   "id": "fcc3180d-4d75-4312-8954-aefbb6c2ee95",
   "metadata": {},
   "outputs": [
    {
     "data": {
      "text/plain": [
       "(array([3.2500000e+02, 4.2000000e+01, 3.6000000e+01, 5.4000000e+01,\n",
       "        3.9000000e+01, 4.1000000e+01, 6.2000000e+01, 6.6000000e+01,\n",
       "        6.8000000e+01, 7.7000000e+01, 9.1000000e+01, 8.8000000e+01,\n",
       "        1.2000000e+02, 1.2500000e+02, 1.6800000e+02, 2.2200000e+02,\n",
       "        3.4200000e+02, 5.0000000e+02, 1.4290000e+03, 1.1168137e+07]),\n",
       " array([0.        , 0.05      , 0.1       , 0.15000001, 0.2       ,\n",
       "        0.25      , 0.30000001, 0.34999999, 0.40000001, 0.45000002,\n",
       "        0.5       , 0.55000001, 0.60000002, 0.65000004, 0.69999999,\n",
       "        0.75      , 0.80000001, 0.85000002, 0.90000004, 0.94999999,\n",
       "        1.        ]),\n",
       " <BarContainer object of 20 artists>)"
      ]
     },
     "execution_count": 27,
     "metadata": {},
     "output_type": "execute_result"
    },
    {
     "data": {
      "image/png": "[encoded data removed]",
      "text/plain": [
       "<Figure size 640x480 with 1 Axes>"
      ]
     },
     "metadata": {},
     "output_type": "display_data"
    }
   ],
   "source": [
    "plt.hist(all_masks_values, bins=20, log=True)"
   ]
  },
  {
   "cell_type": "code",
   "execution_count": 28,
   "id": "dd2dcf04-3e5e-4910-8323-25027d22c52a",
   "metadata": {},
   "outputs": [
    {
     "data": {
      "text/plain": [
       "(array([3.2500000e+02, 4.2000000e+01, 3.6000000e+01, 5.4000000e+01,\n",
       "        3.9000000e+01, 4.1000000e+01, 6.2000000e+01, 6.6000000e+01,\n",
       "        6.8000000e+01, 7.7000000e+01, 9.1000000e+01, 8.8000000e+01,\n",
       "        1.2000000e+02, 1.2500000e+02, 1.6800000e+02, 2.2200000e+02,\n",
       "        3.4200000e+02, 5.0000000e+02, 1.4290000e+03, 1.1168137e+07]),\n",
       " array([0.        , 0.05      , 0.1       , 0.15000001, 0.2       ,\n",
       "        0.25      , 0.30000001, 0.34999999, 0.40000001, 0.45000002,\n",
       "        0.5       , 0.55000001, 0.60000002, 0.65000004, 0.69999999,\n",
       "        0.75      , 0.80000001, 0.85000002, 0.90000004, 0.94999999,\n",
       "        1.        ]),\n",
       " <BarContainer object of 20 artists>)"
      ]
     },
     "execution_count": 28,
     "metadata": {},
     "output_type": "execute_result"
    },
    {
     "data": {
      "image/png": "[encoded data removed]",
      "text/plain": [
       "<Figure size 640x480 with 1 Axes>"
      ]
     },
     "metadata": {},
     "output_type": "display_data"
    }
   ],
   "source": [
    "plt.hist(all_masks_values, bins=20)"
   ]
  },
  {
   "cell_type": "code",
   "execution_count": 29,
   "id": "84e9e016-09dc-4278-805d-4063fe9292a0",
   "metadata": {},
   "outputs": [
    {
     "data": {
      "text/plain": [
       "np.float32(0.007888039)"
      ]
     },
     "execution_count": 29,
     "metadata": {},
     "output_type": "execute_result"
    }
   ],
   "source": [
    "# np.mean(all_masks_values)\n",
    "np.std(all_masks_values)    # 0.0? they did not change at all!"
   ]
  },
  {
   "cell_type": "code",
   "execution_count": 30,
   "id": "95d5088b-4f90-47d7-a65b-1c29aaeb9451",
   "metadata": {},
   "outputs": [],
   "source": [
    "all_masks_grad_values = []\n",
    "\n",
    "for name in anp_system.weight_masks:\n",
    "    weight_mask_tensor = anp_system.weight_masks[name]\n",
    "    all_masks_grad_values.append(weight_mask_tensor.grad.cpu().detach().numpy().flatten())\n",
    "\n",
    "all_masks_grad_values = np.concatenate(all_masks_grad_values)"
   ]
  },
  {
   "cell_type": "markdown",
   "id": "f7292e95-ea16-4d4f-ae7f-0c16628ee4ee",
   "metadata": {},
   "source": [
    "##### perturbation values histogram"
   ]
  },
  {
   "cell_type": "code",
   "execution_count": 31,
   "id": "5495b5dc-17a8-4ed5-89f7-98742e8327c1",
   "metadata": {},
   "outputs": [
    {
     "data": {
      "text/plain": [
       "dict_keys(['', 'conv1', 'bn1', 'relu', 'maxpool', 'layer1', 'layer1.0', 'layer1.0.conv1', 'layer1.0.bn1', 'layer1.0.relu', 'layer1.0.conv2', 'layer1.0.bn2', 'layer1.1', 'layer1.1.conv1', 'layer1.1.bn1', 'layer1.1.relu', 'layer1.1.conv2', 'layer1.1.bn2', 'layer2', 'layer2.0', 'layer2.0.conv1', 'layer2.0.bn1', 'layer2.0.relu', 'layer2.0.conv2', 'layer2.0.bn2', 'layer2.0.downsample', 'layer2.0.downsample.0', 'layer2.0.downsample.1', 'layer2.1', 'layer2.1.conv1', 'layer2.1.bn1', 'layer2.1.relu', 'layer2.1.conv2', 'layer2.1.bn2', 'layer3', 'layer3.0', 'layer3.0.conv1', 'layer3.0.bn1', 'layer3.0.relu', 'layer3.0.conv2', 'layer3.0.bn2', 'layer3.0.downsample', 'layer3.0.downsample.0', 'layer3.0.downsample.1', 'layer3.1', 'layer3.1.conv1', 'layer3.1.bn1', 'layer3.1.relu', 'layer3.1.conv2', 'layer3.1.bn2', 'layer4', 'layer4.0', 'layer4.0.conv1', 'layer4.0.bn1', 'layer4.0.relu', 'layer4.0.conv2', 'layer4.0.bn2', 'layer4.0.downsample', 'layer4.0.downsample.0', 'layer4.0.downsample.1', 'layer4.1', 'layer4.1.conv1', 'layer4.1.bn1', 'layer4.1.relu', 'layer4.1.conv2', 'layer4.1.bn2', 'avgpool', 'fc'])"
      ]
     },
     "execution_count": 31,
     "metadata": {},
     "output_type": "execute_result"
    }
   ],
   "source": [
    "anp_system.layer_extra_params.keys()"
   ]
  },
  {
   "cell_type": "code",
   "execution_count": 32,
   "id": "7d8be676-2fd5-493d-a352-26a0cad24360",
   "metadata": {
    "scrolled": true
   },
   "outputs": [
    {
     "data": {
      "text/plain": [
       "{'m': tensor([[[[0.9529, 1.0000, 1.0000,  ..., 1.0000, 1.0000, 1.0000],\n",
       "           [0.9690, 1.0000, 1.0000,  ..., 1.0000, 1.0000, 1.0000],\n",
       "           [1.0000, 1.0000, 1.0000,  ..., 1.0000, 0.9751, 0.9127],\n",
       "           ...,\n",
       "           [1.0000, 0.9977, 0.9937,  ..., 0.9834, 0.9662, 0.9567],\n",
       "           [1.0000, 1.0000, 0.9758,  ..., 0.9415, 0.9785, 0.9637],\n",
       "           [0.9969, 0.9916, 0.9644,  ..., 0.9491, 0.9896, 0.9730]],\n",
       " \n",
       "          [[0.9708, 1.0000, 1.0000,  ..., 1.0000, 1.0000, 1.0000],\n",
       "           [0.9738, 1.0000, 1.0000,  ..., 1.0000, 1.0000, 1.0000],\n",
       "           [1.0000, 1.0000, 1.0000,  ..., 1.0000, 0.9794, 0.9486],\n",
       "           ...,\n",
       "           [1.0000, 1.0000, 0.9989,  ..., 0.9981, 0.9903, 0.9899],\n",
       "           [1.0000, 0.9977, 0.9903,  ..., 0.9600, 0.9724, 0.9761],\n",
       "           [0.9997, 0.9969, 0.9871,  ..., 0.9665, 0.9825, 0.9781]],\n",
       " \n",
       "          [[0.8871, 0.9684, 0.9845,  ..., 1.0000, 1.0000, 1.0000],\n",
       "           [0.8915, 0.9854, 1.0000,  ..., 1.0000, 1.0000, 1.0000],\n",
       "           [0.9692, 1.0000, 1.0000,  ..., 1.0000, 1.0000, 0.9759],\n",
       "           ...,\n",
       "           [1.0000, 1.0000, 1.0000,  ..., 0.9987, 0.9884, 0.9775],\n",
       "           [1.0000, 1.0000, 0.9929,  ..., 0.9704, 0.9833, 0.9656],\n",
       "           [1.0000, 0.9998, 0.9804,  ..., 0.9665, 0.9907, 0.9671]]],\n",
       " \n",
       " \n",
       "         [[[1.0000, 0.9950, 0.9583,  ..., 1.0000, 0.9297, 0.9574],\n",
       "           [0.9962, 0.9998, 0.9939,  ..., 0.9998, 1.0000, 1.0000],\n",
       "           [1.0000, 1.0000, 1.0000,  ..., 0.9436, 0.9497, 0.9847],\n",
       "           ...,\n",
       "           [0.9989, 0.9927, 0.9814,  ..., 0.9860, 0.9962, 0.9974],\n",
       "           [1.0000, 1.0000, 1.0000,  ..., 0.9999, 1.0000, 1.0000],\n",
       "           [0.9864, 1.0000, 1.0000,  ..., 0.9997, 0.9997, 0.9999]],\n",
       " \n",
       "          [[0.9996, 1.0000, 0.9678,  ..., 1.0000, 0.9128, 0.9299],\n",
       "           [0.9849, 0.9999, 0.9999,  ..., 1.0000, 1.0000, 1.0000],\n",
       "           [0.9882, 0.9997, 1.0000,  ..., 0.9614, 0.9528, 0.9934],\n",
       "           ...,\n",
       "           [0.9993, 0.9977, 0.9958,  ..., 0.9960, 0.9999, 1.0000],\n",
       "           [1.0000, 1.0000, 0.9996,  ..., 0.9994, 0.9997, 0.9993],\n",
       "           [0.9862, 1.0000, 0.9999,  ..., 0.9997, 0.9998, 0.9997]],\n",
       " \n",
       "          [[0.9998, 0.9961, 0.9552,  ..., 1.0000, 0.9297, 0.9552],\n",
       "           [0.9914, 1.0000, 1.0000,  ..., 1.0000, 1.0000, 1.0000],\n",
       "           [0.9969, 0.9959, 0.9968,  ..., 0.9693, 0.9608, 0.9891],\n",
       "           ...,\n",
       "           [1.0000, 1.0000, 1.0000,  ..., 1.0000, 1.0000, 1.0000],\n",
       "           [0.9979, 0.9934, 0.9940,  ..., 0.9987, 0.9986, 0.9983],\n",
       "           [0.9929, 0.9993, 0.9976,  ..., 0.9985, 0.9990, 0.9945]]],\n",
       " \n",
       " \n",
       "         [[[1.0000, 1.0000, 0.9996,  ..., 0.9999, 0.9997, 1.0000],\n",
       "           [0.9999, 0.9998, 1.0000,  ..., 0.9996, 0.9992, 0.9995],\n",
       "           [0.9998, 1.0000, 0.9999,  ..., 0.9999, 0.9999, 0.9999],\n",
       "           ...,\n",
       "           [0.9993, 1.0000, 0.9998,  ..., 0.9999, 0.9993, 0.9988],\n",
       "           [0.9999, 0.9998, 0.9997,  ..., 0.9999, 1.0000, 0.9993],\n",
       "           [0.9999, 0.9996, 1.0000,  ..., 0.9999, 0.9999, 0.9999]],\n",
       " \n",
       "          [[0.9999, 1.0000, 1.0000,  ..., 1.0000, 0.9999, 0.9999],\n",
       "           [0.9996, 0.9998, 0.9997,  ..., 0.9991, 0.9989, 0.9993],\n",
       "           [0.9995, 0.9998, 0.9998,  ..., 0.9996, 0.9995, 0.9997],\n",
       "           ...,\n",
       "           [0.9981, 0.9994, 0.9997,  ..., 0.9983, 0.9981, 0.9980],\n",
       "           [0.9994, 1.0000, 1.0000,  ..., 0.9990, 0.9992, 0.9985],\n",
       "           [1.0000, 1.0000, 1.0000,  ..., 0.9989, 0.9999, 0.9999]],\n",
       " \n",
       "          [[0.9997, 0.9999, 1.0000,  ..., 0.9999, 0.9999, 1.0000],\n",
       "           [0.9999, 1.0000, 1.0000,  ..., 1.0000, 1.0000, 1.0000],\n",
       "           [0.9999, 1.0000, 1.0000,  ..., 1.0000, 1.0000, 1.0000],\n",
       "           ...,\n",
       "           [0.9987, 1.0000, 0.9999,  ..., 0.9986, 0.9990, 0.9999],\n",
       "           [0.9995, 1.0000, 1.0000,  ..., 0.9994, 0.9999, 0.9997],\n",
       "           [0.9998, 1.0000, 1.0000,  ..., 0.9998, 1.0000, 1.0000]]],\n",
       " \n",
       " \n",
       "         ...,\n",
       " \n",
       " \n",
       "         [[[1.0000, 1.0000, 1.0000,  ..., 1.0000, 1.0000, 1.0000],\n",
       "           [1.0000, 1.0000, 1.0000,  ..., 1.0000, 1.0000, 1.0000],\n",
       "           [1.0000, 1.0000, 1.0000,  ..., 1.0000, 1.0000, 1.0000],\n",
       "           ...,\n",
       "           [1.0000, 1.0000, 1.0000,  ..., 1.0000, 1.0000, 1.0000],\n",
       "           [1.0000, 1.0000, 1.0000,  ..., 1.0000, 1.0000, 1.0000],\n",
       "           [1.0000, 1.0000, 1.0000,  ..., 1.0000, 1.0000, 1.0000]],\n",
       " \n",
       "          [[1.0000, 1.0000, 1.0000,  ..., 1.0000, 1.0000, 1.0000],\n",
       "           [1.0000, 1.0000, 1.0000,  ..., 1.0000, 1.0000, 1.0000],\n",
       "           [1.0000, 1.0000, 1.0000,  ..., 1.0000, 1.0000, 1.0000],\n",
       "           ...,\n",
       "           [1.0000, 1.0000, 1.0000,  ..., 1.0000, 1.0000, 1.0000],\n",
       "           [1.0000, 1.0000, 1.0000,  ..., 1.0000, 1.0000, 1.0000],\n",
       "           [1.0000, 1.0000, 1.0000,  ..., 1.0000, 1.0000, 1.0000]],\n",
       " \n",
       "          [[1.0000, 1.0000, 1.0000,  ..., 1.0000, 1.0000, 1.0000],\n",
       "           [1.0000, 1.0000, 1.0000,  ..., 1.0000, 1.0000, 1.0000],\n",
       "           [1.0000, 1.0000, 1.0000,  ..., 1.0000, 1.0000, 1.0000],\n",
       "           ...,\n",
       "           [1.0000, 1.0000, 1.0000,  ..., 1.0000, 1.0000, 1.0000],\n",
       "           [1.0000, 1.0000, 1.0000,  ..., 1.0000, 1.0000, 1.0000],\n",
       "           [1.0000, 1.0000, 1.0000,  ..., 1.0000, 1.0000, 1.0000]]],\n",
       " \n",
       " \n",
       "         [[[0.9995, 0.9990, 0.9996,  ..., 1.0000, 0.9999, 0.9882],\n",
       "           [0.9993, 0.9990, 0.9991,  ..., 0.9998, 0.9953, 0.9926],\n",
       "           [0.9999, 0.9999, 0.9934,  ..., 0.9860, 0.9942, 0.9939],\n",
       "           ...,\n",
       "           [1.0000, 0.9999, 0.9711,  ..., 0.9951, 0.9995, 1.0000],\n",
       "           [1.0000, 0.9991, 0.9791,  ..., 0.9991, 0.9996, 0.9998],\n",
       "           [1.0000, 0.9986, 0.9898,  ..., 1.0000, 0.9999, 0.9999]],\n",
       " \n",
       "          [[0.9999, 0.9990, 0.9960,  ..., 0.9954, 0.9942, 0.9999],\n",
       "           [0.9957, 0.9949, 0.9940,  ..., 0.9904, 0.9954, 0.9973],\n",
       "           [1.0000, 0.9991, 0.9993,  ..., 0.9999, 1.0000, 0.9999],\n",
       "           ...,\n",
       "           [0.9894, 1.0000, 0.9800,  ..., 0.9996, 0.9989, 0.9973],\n",
       "           [0.9908, 0.9970, 0.9918,  ..., 0.9971, 0.9959, 0.9952],\n",
       "           [0.9946, 0.9912, 0.9983,  ..., 0.9934, 0.9945, 0.9962]],\n",
       " \n",
       "          [[0.9999, 0.9977, 0.9954,  ..., 0.9999, 1.0000, 0.9997],\n",
       "           [1.0000, 0.9879, 0.9882,  ..., 0.9903, 1.0000, 0.9997],\n",
       "           [1.0000, 1.0000, 0.9999,  ..., 0.9998, 0.9999, 0.9998],\n",
       "           ...,\n",
       "           [1.0000, 1.0000, 1.0000,  ..., 1.0000, 1.0000, 1.0000],\n",
       "           [1.0000, 1.0000, 1.0000,  ..., 0.9998, 1.0000, 1.0000],\n",
       "           [1.0000, 0.9848, 1.0000,  ..., 0.9918, 1.0000, 1.0000]]],\n",
       " \n",
       " \n",
       "         [[[0.9874, 1.0000, 0.9615,  ..., 1.0000, 0.9883, 0.9998],\n",
       "           [0.9531, 0.9868, 0.9851,  ..., 1.0000, 0.9943, 0.9998],\n",
       "           [0.9972, 1.0000, 1.0000,  ..., 0.9859, 0.9956, 0.9610],\n",
       "           ...,\n",
       "           [0.9997, 1.0000, 0.9959,  ..., 0.9306, 1.0000, 1.0000],\n",
       "           [1.0000, 0.9998, 0.9920,  ..., 0.9999, 1.0000, 0.9526],\n",
       "           [1.0000, 0.9927, 0.9357,  ..., 0.9997, 0.9927, 1.0000]],\n",
       " \n",
       "          [[1.0000, 1.0000, 0.9860,  ..., 1.0000, 0.9969, 0.9997],\n",
       "           [1.0000, 1.0000, 0.9707,  ..., 1.0000, 0.9954, 1.0000],\n",
       "           [1.0000, 0.9996, 1.0000,  ..., 0.9889, 0.9975, 0.9457],\n",
       "           ...,\n",
       "           [0.9896, 0.9998, 0.9975,  ..., 0.9601, 1.0000, 0.9994],\n",
       "           [0.9833, 0.9866, 0.9852,  ..., 0.9991, 0.9999, 0.9415],\n",
       "           [0.9946, 0.9667, 0.9461,  ..., 0.9983, 0.9995, 0.9997]],\n",
       " \n",
       "          [[1.0000, 0.9958, 0.9898,  ..., 0.9942, 0.9987, 0.9995],\n",
       "           [0.9923, 0.9967, 0.9927,  ..., 0.9822, 0.9984, 0.9998],\n",
       "           [0.9974, 0.9960, 0.9976,  ..., 0.9962, 0.9990, 0.9294],\n",
       "           ...,\n",
       "           [0.9957, 0.9937, 0.9702,  ..., 0.9987, 1.0000, 0.9788],\n",
       "           [0.9959, 0.9963, 0.9998,  ..., 0.9708, 0.9892, 0.9998],\n",
       "           [0.9979, 0.9988, 0.9966,  ..., 0.9843, 0.9983, 1.0000]]]],\n",
       "        device='cuda:0', requires_grad=True),\n",
       " 'delta': tensor([[[[-0.2730,  0.4000,  0.4000,  ...,  0.4000,  0.3199,  0.0879],\n",
       "           [-0.2697,  0.0145,  0.4000,  ...,  0.0814,  0.4000,  0.4000],\n",
       "           [ 0.0489,  0.3401,  0.4000,  ...,  0.2413, -0.2290, -0.4000],\n",
       "           ...,\n",
       "           [ 0.4000, -0.4000, -0.3624,  ..., -0.4000, -0.1657, -0.0609],\n",
       "           [-0.2882,  0.0140, -0.4000,  ..., -0.4000, -0.1706, -0.3618],\n",
       "           [ 0.1928, -0.4000, -0.4000,  ..., -0.2042, -0.0668, -0.4000]],\n",
       " \n",
       "          [[-0.1799,  0.4000,  0.4000,  ...,  0.3245,  0.0412,  0.4000],\n",
       "           [-0.4000,  0.0880,  0.3408,  ...,  0.4000,  0.1314,  0.4000],\n",
       "           [ 0.2404,  0.4000,  0.0726,  ...,  0.4000, -0.4000, -0.4000],\n",
       "           ...,\n",
       "           [ 0.4000,  0.1063, -0.2814,  ..., -0.3365, -0.1228, -0.3636],\n",
       "           [-0.1591,  0.1814, -0.4000,  ..., -0.4000, -0.4000, -0.3088],\n",
       "           [-0.4000, -0.4000, -0.3605,  ..., -0.4000, -0.1299, -0.0490]],\n",
       " \n",
       "          [[-0.3519, -0.4000, -0.3367,  ...,  0.2115,  0.4000,  0.4000],\n",
       "           [-0.0447, -0.1952,  0.1416,  ...,  0.4000,  0.0702,  0.0578],\n",
       "           [-0.4000,  0.3401,  0.4000,  ...,  0.2572,  0.3454, -0.4000],\n",
       "           ...,\n",
       "           [ 0.4000,  0.2459,  0.1741,  ..., -0.4000, -0.1039, -0.4000],\n",
       "           [-0.0720,  0.2758, -0.0212,  ..., -0.2173, -0.4000, -0.1651],\n",
       "           [-0.0681,  0.1577, -0.2166,  ..., -0.1825, -0.4000, -0.4000]]],\n",
       " \n",
       " \n",
       "         [[[-0.1061,  0.0297,  0.0880,  ..., -0.4000,  0.4000,  0.4000],\n",
       "           [-0.4000, -0.4000,  0.1436,  ..., -0.4000, -0.4000, -0.0922],\n",
       "           [ 0.4000,  0.0084,  0.4000,  ...,  0.4000,  0.4000,  0.3567],\n",
       "           ...,\n",
       "           [-0.4000, -0.1490, -0.0844,  ..., -0.4000,  0.1028, -0.2321],\n",
       "           [ 0.0572,  0.3539,  0.1155,  ...,  0.4000, -0.4000, -0.3436],\n",
       "           [-0.2498,  0.2042,  0.4000,  ...,  0.2545,  0.1993,  0.3822]],\n",
       " \n",
       "          [[-0.4000, -0.3163,  0.4000,  ..., -0.4000,  0.4000,  0.4000],\n",
       "           [-0.4000, -0.4000, -0.4000,  ..., -0.4000, -0.4000, -0.0788],\n",
       "           [-0.3244,  0.4000,  0.4000,  ...,  0.4000,  0.2681,  0.4000],\n",
       "           ...,\n",
       "           [-0.2270, -0.3061, -0.4000,  ..., -0.0334, -0.3343, -0.1402],\n",
       "           [ 0.3896,  0.4000,  0.4000,  ...,  0.4000, -0.2268,  0.4000],\n",
       "           [-0.4000,  0.4000,  0.2387,  ...,  0.2116,  0.2855,  0.1813]],\n",
       " \n",
       "          [[-0.4000,  0.4000,  0.4000,  ..., -0.4000,  0.1280,  0.0231],\n",
       "           [-0.4000, -0.4000, -0.2241,  ..., -0.0206, -0.4000, -0.4000],\n",
       "           [ 0.0244,  0.0917,  0.1583,  ...,  0.4000,  0.2534,  0.4000],\n",
       "           ...,\n",
       "           [-0.1916, -0.4000, -0.4000,  ..., -0.4000, -0.4000, -0.4000],\n",
       "           [ 0.3476,  0.1599,  0.4000,  ...,  0.4000,  0.1519,  0.4000],\n",
       "           [-0.2516,  0.4000,  0.4000,  ...,  0.4000,  0.4000,  0.3040]]],\n",
       " \n",
       " \n",
       "         [[[-0.4000, -0.4000, -0.2484,  ..., -0.4000,  0.0668, -0.4000],\n",
       "           [ 0.0986,  0.4000,  0.3838,  ...,  0.4000,  0.0023,  0.4000],\n",
       "           [ 0.4000,  0.4000, -0.4000,  ...,  0.4000,  0.4000,  0.4000],\n",
       "           ...,\n",
       "           [ 0.4000, -0.4000, -0.2230,  ...,  0.3988,  0.4000,  0.4000],\n",
       "           [ 0.4000, -0.4000, -0.4000,  ..., -0.4000, -0.2859,  0.2470],\n",
       "           [-0.1966, -0.1220,  0.4000,  ...,  0.4000,  0.4000,  0.4000]],\n",
       " \n",
       "          [[-0.4000, -0.0991, -0.3982,  ..., -0.3211, -0.4000, -0.4000],\n",
       "           [ 0.1120,  0.4000,  0.1475,  ...,  0.4000, -0.0572, -0.4000],\n",
       "           [ 0.2105,  0.4000,  0.4000,  ...,  0.0139,  0.4000,  0.2790],\n",
       "           ...,\n",
       "           [ 0.3113,  0.1540,  0.0467,  ...,  0.2885,  0.0351,  0.0291],\n",
       "           [-0.3041, -0.4000, -0.4000,  ...,  0.2685,  0.1139,  0.4000],\n",
       "           [ 0.0515,  0.0401,  0.4000,  ...,  0.1781,  0.4000,  0.4000]],\n",
       " \n",
       "          [[-0.4000, -0.2303, -0.3783,  ..., -0.4000, -0.4000, -0.0990],\n",
       "           [-0.4000, -0.0542, -0.3264,  ..., -0.4000, -0.2396, -0.4000],\n",
       "           [-0.1511, -0.4000,  0.1431,  ..., -0.4000, -0.4000, -0.2067],\n",
       "           ...,\n",
       "           [-0.0951,  0.4000,  0.4000,  ...,  0.4000,  0.4000,  0.3318],\n",
       "           [-0.0048,  0.2249,  0.4000,  ...,  0.3591,  0.3405,  0.2898],\n",
       "           [-0.3760, -0.2319, -0.0557,  ...,  0.1971,  0.2207, -0.2907]]],\n",
       " \n",
       " \n",
       "         ...,\n",
       " \n",
       " \n",
       "         [[[ 0.1771,  0.0055, -0.3003,  ..., -0.1403, -0.2440, -0.3001],\n",
       "           [-0.1512, -0.3322, -0.2811,  ...,  0.1458,  0.3255,  0.3608],\n",
       "           [ 0.3591,  0.0307, -0.3779,  ...,  0.2928,  0.0210, -0.1270],\n",
       "           ...,\n",
       "           [-0.0688, -0.2381,  0.0169,  ...,  0.3346, -0.0905,  0.1686],\n",
       "           [-0.3627, -0.0112, -0.2469,  ..., -0.2033,  0.3710, -0.1014],\n",
       "           [-0.0986, -0.1292, -0.3832,  ..., -0.2327,  0.0255,  0.3909]],\n",
       " \n",
       "          [[-0.1359,  0.1974,  0.2903,  ..., -0.0038, -0.0199,  0.1557],\n",
       "           [-0.2383, -0.1494,  0.0728,  ..., -0.1298, -0.2653,  0.1227],\n",
       "           [-0.0764,  0.3223,  0.3098,  ...,  0.0780, -0.0217, -0.3114],\n",
       "           ...,\n",
       "           [-0.0358,  0.0971,  0.2125,  ...,  0.3170, -0.1229,  0.2052],\n",
       "           [ 0.2191,  0.1113, -0.2017,  ..., -0.0132, -0.3724, -0.3398],\n",
       "           [ 0.0754, -0.1248, -0.0387,  ...,  0.3110,  0.3540,  0.3416]],\n",
       " \n",
       "          [[ 0.1560,  0.0623, -0.0358,  ..., -0.0523,  0.0480,  0.3674],\n",
       "           [ 0.0277, -0.1980, -0.2870,  ...,  0.3189, -0.1253, -0.3885],\n",
       "           [-0.0250, -0.2015,  0.3587,  ...,  0.1380, -0.3559,  0.1117],\n",
       "           ...,\n",
       "           [ 0.3521, -0.0844, -0.0758,  ...,  0.1557, -0.1206, -0.1513],\n",
       "           [-0.0054,  0.0651, -0.2025,  ..., -0.1127,  0.3779, -0.0911],\n",
       "           [ 0.0642,  0.1544, -0.1482,  ...,  0.2203, -0.3929, -0.2484]]],\n",
       " \n",
       " \n",
       "         [[[ 0.4000, -0.0960, -0.4000,  ..., -0.4000, -0.1447,  0.0206],\n",
       "           [-0.2822, -0.4000, -0.4000,  ..., -0.4000,  0.1957,  0.1972],\n",
       "           [-0.4000,  0.4000,  0.4000,  ...,  0.4000,  0.4000,  0.0823],\n",
       "           ...,\n",
       "           [-0.3948, -0.4000, -0.2493,  ..., -0.2616, -0.3051, -0.2946],\n",
       "           [-0.0811,  0.0116,  0.4000,  ..., -0.2618, -0.4000, -0.2711],\n",
       "           [ 0.4000, -0.4000,  0.4000,  ..., -0.4000, -0.4000, -0.4000]],\n",
       " \n",
       "          [[ 0.1130, -0.4000, -0.0723,  ..., -0.1692, -0.4000,  0.2683],\n",
       "           [-0.0342, -0.3755, -0.4000,  ..., -0.4000, -0.4000, -0.0325],\n",
       "           [ 0.4000, -0.1383,  0.1778,  ..., -0.3331,  0.0941,  0.1338],\n",
       "           ...,\n",
       "           [ 0.4000,  0.2080,  0.0781,  ...,  0.3202, -0.0915, -0.4000],\n",
       "           [-0.4000, -0.3759,  0.1381,  ..., -0.4000, -0.4000, -0.0190],\n",
       "           [-0.3512, -0.4000, -0.0930,  ..., -0.4000, -0.1942,  0.3010]],\n",
       " \n",
       "          [[ 0.4000, -0.4000, -0.1488,  ...,  0.2064,  0.0957,  0.4000],\n",
       "           [ 0.1815, -0.1648, -0.4000,  ..., -0.0319,  0.1232,  0.2725],\n",
       "           [ 0.4000,  0.3427,  0.3426,  ...,  0.4000,  0.3740,  0.4000],\n",
       "           ...,\n",
       "           [-0.0008,  0.4000,  0.4000,  ...,  0.4000,  0.4000,  0.1540],\n",
       "           [ 0.0803,  0.0853,  0.4000,  ..., -0.0955,  0.0417,  0.3148],\n",
       "           [ 0.4000, -0.0752,  0.4000,  ..., -0.4000,  0.4000,  0.0349]]],\n",
       " \n",
       " \n",
       "         [[[-0.1415,  0.4000, -0.4000,  ...,  0.4000, -0.4000, -0.1297],\n",
       "           [-0.3490, -0.3796, -0.4000,  ...,  0.2641, -0.4000,  0.4000],\n",
       "           [-0.4000,  0.4000,  0.3811,  ..., -0.4000, -0.4000,  0.3239],\n",
       "           ...,\n",
       "           [ 0.1855,  0.3884,  0.4000,  ..., -0.0622,  0.3010,  0.4000],\n",
       "           [ 0.2670,  0.4000, -0.4000,  ...,  0.4000,  0.2934, -0.3188],\n",
       "           [ 0.3206, -0.3711, -0.2252,  ..., -0.1441, -0.2027,  0.4000]],\n",
       " \n",
       "          [[ 0.4000,  0.1084, -0.4000,  ...,  0.1976, -0.0683, -0.4000],\n",
       "           [ 0.4000,  0.3612, -0.3659,  ...,  0.4000, -0.3335, -0.4000],\n",
       "           [ 0.4000, -0.2886,  0.4000,  ..., -0.4000, -0.4000,  0.1274],\n",
       "           ...,\n",
       "           [-0.4000,  0.3055,  0.4000,  ..., -0.4000,  0.0115,  0.2467],\n",
       "           [-0.3387, -0.1679, -0.1448,  ...,  0.4000,  0.3735, -0.4000],\n",
       "           [-0.2755, -0.4000, -0.4000,  ...,  0.4000,  0.1063,  0.0078]],\n",
       " \n",
       "          [[ 0.4000, -0.3578, -0.0120,  ...,  0.1225, -0.0720, -0.0610],\n",
       "           [-0.1444, -0.3976, -0.4000,  ...,  0.4000, -0.2889, -0.4000],\n",
       "           [ 0.4000, -0.4000,  0.0421,  ..., -0.1920, -0.4000,  0.4000],\n",
       "           ...,\n",
       "           [-0.1283,  0.0560,  0.3944,  ..., -0.2631,  0.4000,  0.1069],\n",
       "           [-0.3962,  0.2177, -0.4000,  ...,  0.4000,  0.1198, -0.4000],\n",
       "           [ 0.1141, -0.2559, -0.4000,  ...,  0.3833,  0.4000, -0.4000]]]],\n",
       "        device='cuda:0')}"
      ]
     },
     "execution_count": 32,
     "metadata": {},
     "output_type": "execute_result"
    }
   ],
   "source": [
    "anp_system.layer_extra_params['conv1']"
   ]
  },
  {
   "cell_type": "code",
   "execution_count": 33,
   "id": "65ba2b64-c820-465b-bb5e-3e3be0ec4079",
   "metadata": {},
   "outputs": [],
   "source": [
    "all_perturbations_values = []\n",
    "\n",
    "for name in anp_system.weight_perturbations:\n",
    "    weight_perturbation_tensor = anp_system.weight_perturbations[name]\n",
    "    all_perturbations_values.append(weight_perturbation_tensor.cpu().detach().numpy().flatten())\n",
    "\n",
    "all_perturbations_values = np.concatenate(all_perturbations_values)"
   ]
  },
  {
   "cell_type": "code",
   "execution_count": 34,
   "id": "2dfb19a6-ad37-4880-825e-247d4b2845a8",
   "metadata": {},
   "outputs": [
    {
     "data": {
      "text/plain": [
       "(11172032,)"
      ]
     },
     "execution_count": 34,
     "metadata": {},
     "output_type": "execute_result"
    }
   ],
   "source": [
    "all_perturbations_values.shape"
   ]
  },
  {
   "cell_type": "code",
   "execution_count": 35,
   "id": "bd438891-0256-494e-93f4-677d3281e374",
   "metadata": {},
   "outputs": [
    {
     "data": {
      "text/plain": [
       "(array([1254607.,  485339.,  485110.,  485004.,  484706.,  485413.,\n",
       "         484355.,  483334.,  484174.,  484382.,  482152.,  481979.,\n",
       "         481489.,  479730.,  481089.,  479627.,  481093.,  482097.,\n",
       "         480547., 1225805.]),\n",
       " array([-4.00000006e-01, -3.60000014e-01, -3.19999993e-01, -2.80000001e-01,\n",
       "        -2.40000010e-01, -2.00000018e-01, -1.60000011e-01, -1.20000005e-01,\n",
       "        -8.00000131e-02, -4.00000215e-02, -2.98023224e-08,  3.99999917e-02,\n",
       "         7.99999833e-02,  1.19999975e-01,  1.59999996e-01,  1.99999958e-01,\n",
       "         2.39999980e-01,  2.80000001e-01,  3.19999963e-01,  3.59999985e-01,\n",
       "         4.00000006e-01]),\n",
       " <BarContainer object of 20 artists>)"
      ]
     },
     "execution_count": 35,
     "metadata": {},
     "output_type": "execute_result"
    },
    {
     "data": {
      "image/png": "[encoded data removed]",
      "text/plain": [
       "<Figure size 640x480 with 1 Axes>"
      ]
     },
     "metadata": {},
     "output_type": "display_data"
    }
   ],
   "source": [
    "plt.hist(all_perturbations_values, bins=20, log=True)"
   ]
  },
  {
   "cell_type": "markdown",
   "id": "fb8849dd-ee97-41ba-a624-274621423c2b",
   "metadata": {},
   "source": [
    "##### confirms that the param tensors are same objects"
   ]
  },
  {
   "cell_type": "code",
   "execution_count": 36,
   "id": "bd69f957-a6fb-4c1b-a153-10b8ad9e51fe",
   "metadata": {},
   "outputs": [],
   "source": [
    "anp_system.weight_perturbations['fc.weight'].grad"
   ]
  },
  {
   "cell_type": "code",
   "execution_count": 37,
   "id": "d112d4ca-231d-48fa-b46a-a9490669879b",
   "metadata": {},
   "outputs": [
    {
     "data": {
      "text/plain": [
       "True"
      ]
     },
     "execution_count": 37,
     "metadata": {},
     "output_type": "execute_result"
    }
   ],
   "source": [
    "anp_system.weight_perturbations['fc.weight'] is anp_system.layer_extra_params['fc']['delta']"
   ]
  },
  {
   "cell_type": "code",
   "execution_count": 38,
   "id": "5edfc875-5f74-45b0-8ff8-39ef27c3abf1",
   "metadata": {},
   "outputs": [
    {
     "data": {
      "text/plain": [
       "True"
      ]
     },
     "execution_count": 38,
     "metadata": {},
     "output_type": "execute_result"
    }
   ],
   "source": [
    "anp_system.weight_masks['fc.weight'] is anp_system.layer_extra_params['fc']['m']"
   ]
  },
  {
   "cell_type": "code",
   "execution_count": 39,
   "id": "8e7c267d-f7ff-4cb8-bc90-8338386933ca",
   "metadata": {},
   "outputs": [
    {
     "data": {
      "text/plain": [
       "True"
      ]
     },
     "execution_count": 39,
     "metadata": {},
     "output_type": "execute_result"
    }
   ],
   "source": [
    "anp_system.weight_masks['conv1.weight'] is anp_system.layer_extra_params['conv1']['m']"
   ]
  },
  {
   "cell_type": "code",
   "execution_count": 40,
   "id": "a574b737-7fd0-47d5-8359-c008a119aeac",
   "metadata": {},
   "outputs": [
    {
     "data": {
      "text/plain": [
       "True"
      ]
     },
     "execution_count": 40,
     "metadata": {},
     "output_type": "execute_result"
    }
   ],
   "source": [
    "anp_system.layer_extra_params['conv1']['m'].requires_grad"
   ]
  },
  {
   "cell_type": "markdown",
   "id": "b7df8a2d-e58a-4d12-b4e2-c35af2ca2bc5",
   "metadata": {
    "jp-MarkdownHeadingCollapsed": true
   },
   "source": [
    "##### regarding values of the tensors"
   ]
  },
  {
   "cell_type": "code",
   "execution_count": 41,
   "id": "d1679beb-f6d5-42cd-b91c-02f5e1a0ead4",
   "metadata": {},
   "outputs": [
    {
     "data": {
      "text/plain": [
       "tensor(0.7717, device='cuda:0', grad_fn=<AminBackward0>)"
      ]
     },
     "execution_count": 41,
     "metadata": {},
     "output_type": "execute_result"
    }
   ],
   "source": [
    "torch.amin(anp_system.layer_extra_params['conv1']['m'])"
   ]
  },
  {
   "cell_type": "code",
   "execution_count": 42,
   "id": "dcc11ccc-1d2c-4833-a111-06b317fcd4f6",
   "metadata": {},
   "outputs": [
    {
     "data": {
      "text/plain": [
       "tensor(0.7717, device='cuda:0', grad_fn=<MinBackward1>)"
      ]
     },
     "execution_count": 42,
     "metadata": {},
     "output_type": "execute_result"
    }
   ],
   "source": [
    "anp_system.layer_extra_params['conv1']['m'].min()"
   ]
  },
  {
   "cell_type": "code",
   "execution_count": 43,
   "id": "045c2237-526a-4c69-88b6-eb80cf119821",
   "metadata": {},
   "outputs": [
    {
     "data": {
      "text/plain": [
       "0.4"
      ]
     },
     "execution_count": 43,
     "metadata": {},
     "output_type": "execute_result"
    }
   ],
   "source": [
    "anp_system.ep"
   ]
  },
  {
   "cell_type": "code",
   "execution_count": 44,
   "id": "f45e2129-2174-4a76-bbac-0e7d8d0ebb8f",
   "metadata": {},
   "outputs": [
    {
     "data": {
      "text/plain": [
       "tensor([[-0.4000, -0.0155,  0.0448,  ...,  0.3084,  0.2670,  0.4000],\n",
       "        [ 0.2490,  0.4000,  0.3887,  ...,  0.4000, -0.4000, -0.2848],\n",
       "        [-0.1461,  0.4000, -0.4000,  ...,  0.2213, -0.4000, -0.3763],\n",
       "        ...,\n",
       "        [-0.2497,  0.4000, -0.4000,  ..., -0.4000, -0.4000, -0.4000],\n",
       "        [-0.4000, -0.3774, -0.0983,  ..., -0.1605,  0.4000, -0.1334],\n",
       "        [ 0.3618,  0.4000, -0.3950,  ...,  0.4000, -0.1086, -0.3984]],\n",
       "       device='cuda:0')"
      ]
     },
     "execution_count": 44,
     "metadata": {},
     "output_type": "execute_result"
    }
   ],
   "source": [
    "anp_system.weight_perturbations['fc.weight']"
   ]
  },
  {
   "cell_type": "code",
   "execution_count": 45,
   "id": "139c1b03-45f0-4d11-b160-a2d35fa427ec",
   "metadata": {},
   "outputs": [
    {
     "data": {
      "text/plain": [
       "tensor([[-0.4000, -0.0155,  0.0448,  ...,  0.3084,  0.2670,  0.4000],\n",
       "        [ 0.2490,  0.4000,  0.3887,  ...,  0.4000, -0.4000, -0.2848],\n",
       "        [-0.1461,  0.4000, -0.4000,  ...,  0.2213, -0.4000, -0.3763],\n",
       "        ...,\n",
       "        [-0.2497,  0.4000, -0.4000,  ..., -0.4000, -0.4000, -0.4000],\n",
       "        [-0.4000, -0.3774, -0.0983,  ..., -0.1605,  0.4000, -0.1334],\n",
       "        [ 0.3618,  0.4000, -0.3950,  ...,  0.4000, -0.1086, -0.3984]],\n",
       "       device='cuda:0')"
      ]
     },
     "execution_count": 45,
     "metadata": {},
     "output_type": "execute_result"
    }
   ],
   "source": [
    "anp_system.weight_perturbations['fc.weight'].clamp(-0.4, 0.4)"
   ]
  },
  {
   "cell_type": "code",
   "execution_count": 46,
   "id": "c4475c2f-3e03-465d-8c09-ea35c8d7002a",
   "metadata": {},
   "outputs": [
    {
     "data": {
      "text/plain": [
       "tensor([[-0.4000, -0.0155,  0.0448,  ...,  0.3084,  0.2670,  0.4000],\n",
       "        [ 0.2490,  0.4000,  0.3887,  ...,  0.4000, -0.4000, -0.2848],\n",
       "        [-0.1461,  0.4000, -0.4000,  ...,  0.2213, -0.4000, -0.3763],\n",
       "        ...,\n",
       "        [-0.2497,  0.4000, -0.4000,  ..., -0.4000, -0.4000, -0.4000],\n",
       "        [-0.4000, -0.3774, -0.0983,  ..., -0.1605,  0.4000, -0.1334],\n",
       "        [ 0.3618,  0.4000, -0.3950,  ...,  0.4000, -0.1086, -0.3984]],\n",
       "       device='cuda:0')"
      ]
     },
     "execution_count": 46,
     "metadata": {},
     "output_type": "execute_result"
    }
   ],
   "source": [
    "anp_system.weight_perturbations['fc.weight']"
   ]
  },
  {
   "cell_type": "code",
   "execution_count": null,
   "id": "10ad8981-de04-4ba9-9759-841190357a36",
   "metadata": {},
   "outputs": [],
   "source": []
  }
 ],
 "metadata": {
  "kernelspec": {
   "display_name": "Python 3 (ipykernel)",
   "language": "python",
   "name": "python3"
  },
  "language_info": {
   "codemirror_mode": {
    "name": "ipython",
    "version": 3
   },
   "file_extension": ".py",
   "mimetype": "text/x-python",
   "name": "python",
   "nbconvert_exporter": "python",
   "pygments_lexer": "ipython3",
   "version": "3.12.9"
  }
 },
 "nbformat": 4,
 "nbformat_minor": 5
}
