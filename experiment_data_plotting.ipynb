{
 "cells": [
  {
   "cell_type": "code",
   "execution_count": 1,
   "id": "b96f21ec-51f8-423b-b977-41373ddba0a3",
   "metadata": {},
   "outputs": [],
   "source": [
    "import torch\n",
    "import torchvision\n",
    "from torchsummary import summary\n",
    "\n",
    "import numpy as np\n",
    "import json\n",
    "\n",
    "import matplotlib.pyplot as plt"
   ]
  },
  {
   "cell_type": "code",
   "execution_count": 8,
   "id": "9ca9bce4-82f4-4d74-9b97-a351f1989837",
   "metadata": {},
   "outputs": [],
   "source": [
    "# pruning threshold\n",
    "threshold_values = np.linspace(0.05, 0.95, 19)"
   ]
  },
  {
   "cell_type": "code",
   "execution_count": 3,
   "id": "4a54340f-2631-4b0a-97c4-8d83600609bf",
   "metadata": {},
   "outputs": [],
   "source": [
    "stats_1per_ep01 = json.load(open('experiment_stats_data-1percent_ep-0.1.json', 'r'))\n",
    "stats_1per_ep04 = json.load(open('experiment_stats_data-1percent_ep-0.4.json', 'r'))"
   ]
  },
  {
   "cell_type": "code",
   "execution_count": 22,
   "id": "192f2756-2915-4fcf-9db0-ec03c51b753c",
   "metadata": {},
   "outputs": [],
   "source": [
    "'''\n",
    "get the time taken to run\n",
    "lowest ASR, and corresponding ACC\n",
    "\n",
    "format it as latex table\n",
    "'''\n",
    "def extract_stats_table_content(stats_dict):\n",
    "    for k, v in (stats_dict).items():\n",
    "        time_taken_list = []\n",
    "        ASR_at_02_list = []\n",
    "        ACC_at_02_list = []\n",
    "        ASR_optimal_list = []\n",
    "        ACC_optimal_list = []\n",
    "        for trial in v:\n",
    "            time_taken_list.append(trial['training_time'])\n",
    "            ASR_at_02_list.append(trial['ASR'][3])\n",
    "            ACC_at_02_list.append(trial['ACC'][3])\n",
    "            op = np.argmin(trial['ASR'])\n",
    "            ASR_optimal_list.append(trial['ASR'][op])\n",
    "            ACC_optimal_list.append(trial['ACC'][op])\n",
    "        time_taken = np.mean(time_taken_list)\n",
    "        ASR_at_02 = np.mean(ASR_at_02_list)\n",
    "        ACC_at_02 = np.mean(ACC_at_02_list)\n",
    "        ASR_optimal = np.mean(ASR_optimal_list)\n",
    "        ACC_optimal = np.mean(ACC_optimal_list)\n",
    "        print(f'{k} & {time_taken:.1f} & {ASR_at_02*100:.2f} & {ACC_at_02*100:.2f} & {ASR_optimal*100:.2f} & {ACC_optimal*100:.2f} \\\\\\\\')"
   ]
  },
  {
   "cell_type": "code",
   "execution_count": 23,
   "id": "6d7c243a-d4b2-4936-a685-ec8c2c417de8",
   "metadata": {},
   "outputs": [
    {
     "name": "stdout",
     "output_type": "stream",
     "text": [
      "1 & 98.8 & 16.30 & 64.02 & 0.03 & 23.48 \\\\\n",
      "2 & 135.2 & 10.79 & 68.31 & 0.00 & 43.17 \\\\\n",
      "5 & 245.5 & 7.69 & 71.41 & 0.01 & 61.00 \\\\\n",
      "10 & 429.8 & 5.84 & 69.93 & 0.01 & 60.21 \\\\\n"
     ]
    }
   ],
   "source": [
    "extract_stats_table_content(stats_1per_ep01)"
   ]
  },
  {
   "cell_type": "code",
   "execution_count": 24,
   "id": "f9485a52-adac-4eb0-9172-a0c8c2ecb871",
   "metadata": {},
   "outputs": [
    {
     "name": "stdout",
     "output_type": "stream",
     "text": [
      "1 & 99.4 & 37.57 & 73.64 & 1.52 & 65.58 \\\\\n",
      "2 & 135.8 & 38.76 & 72.21 & 0.52 & 64.18 \\\\\n",
      "5 & 246.6 & 68.51 & 53.92 & 3.04 & 53.38 \\\\\n",
      "10 & 430.8 & 51.14 & 44.50 & 3.43 & 44.17 \\\\\n"
     ]
    }
   ],
   "source": [
    "extract_stats_table_content(stats_1per_ep04)"
   ]
  },
  {
   "cell_type": "code",
   "execution_count": null,
   "id": "44a0db6a-8c45-4447-b2fa-5f6dfaa02bd5",
   "metadata": {},
   "outputs": [],
   "source": []
  }
 ],
 "metadata": {
  "kernelspec": {
   "display_name": "Python 3 (ipykernel)",
   "language": "python",
   "name": "python3"
  },
  "language_info": {
   "codemirror_mode": {
    "name": "ipython",
    "version": 3
   },
   "file_extension": ".py",
   "mimetype": "text/x-python",
   "name": "python",
   "nbconvert_exporter": "python",
   "pygments_lexer": "ipython3",
   "version": "3.12.9"
  }
 },
 "nbformat": 4,
 "nbformat_minor": 5
}
