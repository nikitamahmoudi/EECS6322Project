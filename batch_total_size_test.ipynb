{
 "cells": [
  {
   "cell_type": "code",
   "execution_count": 1,
   "id": "9e7ca684-58d6-49c8-9dc0-e7df228d298d",
   "metadata": {},
   "outputs": [],
   "source": [
    "import torch\n",
    "import torchvision\n",
    "\n",
    "from torchsummary import summary\n",
    "\n",
    "import numpy as np"
   ]
  },
  {
   "cell_type": "code",
   "execution_count": 2,
   "id": "4ee49800-b6b2-486e-be12-901557b99443",
   "metadata": {},
   "outputs": [],
   "source": [
    "import torchvision.transforms as transforms\n",
    "\n",
    "transform_train = transforms.Compose([\n",
    "    # transforms.RandomCrop(32, padding=4),\n",
    "    # transforms.RandomHorizontalFlip(),\n",
    "    transforms.ToTensor(),\n",
    "    transforms.Normalize((0.4914, 0.4822, 0.4465), (0.2023, 0.1994, 0.2010)),\n",
    "])"
   ]
  },
  {
   "cell_type": "code",
   "execution_count": 3,
   "id": "80b954ab-2daa-4c62-8a02-fafae9b1e84b",
   "metadata": {},
   "outputs": [
    {
     "name": "stdout",
     "output_type": "stream",
     "text": [
      "Files already downloaded and verified\n"
     ]
    }
   ],
   "source": [
    "cifar10_train = torchvision.datasets.CIFAR10('datasets/cifar_10', download=True, transform=transform_train)"
   ]
  },
  {
   "cell_type": "code",
   "execution_count": 19,
   "id": "4d781a4a-1393-4e0d-90b1-f45300bc4c9e",
   "metadata": {},
   "outputs": [],
   "source": [
    "# we use 0.9 of the whole dataset as the poisoned set\n",
    "poisoned_set_ratio = 0.9"
   ]
  },
  {
   "cell_type": "code",
   "execution_count": 5,
   "id": "f32d056d-05e5-4fe2-ad96-62e345a16a93",
   "metadata": {},
   "outputs": [],
   "source": [
    "dataset_images = np.array([c[0] for c in cifar10_train])\n",
    "dataset_labels = np.array([c[1] for c in cifar10_train])"
   ]
  },
  {
   "cell_type": "code",
   "execution_count": 20,
   "id": "b6e8c2f5-d4b8-4a01-a358-8b657889c7f2",
   "metadata": {},
   "outputs": [],
   "source": [
    "# create a subset of the dataset\n",
    "l = len(cifar10_train)\n",
    "indices = np.arange(l)\n",
    "\n",
    "np.random.seed(594462)\n",
    "np.random.shuffle(indices)\n",
    "\n",
    "# since we use 0.9 of the set as backdoored training set, we will use the rest 0.1 as fixing set\n",
    "keep_indices = indices[int(l * poisoned_set_ratio):]\n",
    "\n",
    "new_train_set_images = dataset_images[keep_indices, :, :, :]\n",
    "new_train_set_labels = dataset_labels[keep_indices]\n",
    "\n",
    "# create a new training set\n",
    "new_train_set = torch.utils.data.TensorDataset(torch.tensor(new_train_set_images), torch.tensor(new_train_set_labels))"
   ]
  },
  {
   "cell_type": "code",
   "execution_count": 21,
   "id": "5f7c452a-45ee-42ca-a295-a4b253eea9f1",
   "metadata": {},
   "outputs": [],
   "source": [
    "train_loader = torch.utils.data.DataLoader(new_train_set, batch_size=128, shuffle=True, num_workers=0)"
   ]
  },
  {
   "cell_type": "code",
   "execution_count": null,
   "id": "96610f4b-4ee6-40c4-abd1-7baa38ce72aa",
   "metadata": {},
   "outputs": [],
   "source": []
  },
  {
   "cell_type": "code",
   "execution_count": 22,
   "id": "c654e195-3552-4433-95d4-744f519a7bc6",
   "metadata": {},
   "outputs": [],
   "source": [
    "i = 0\n",
    "for inputs, label in train_loader:\n",
    "    i += 1"
   ]
  },
  {
   "cell_type": "code",
   "execution_count": 23,
   "id": "9c4118ea-0a2c-4f08-8d06-a58b33d8f6cc",
   "metadata": {},
   "outputs": [
    {
     "data": {
      "text/plain": [
       "40"
      ]
     },
     "execution_count": 23,
     "metadata": {},
     "output_type": "execute_result"
    }
   ],
   "source": [
    "i"
   ]
  },
  {
   "cell_type": "code",
   "execution_count": 24,
   "id": "a52d27aa-2f37-4174-9b3c-b968085fe500",
   "metadata": {},
   "outputs": [
    {
     "data": {
      "text/plain": [
       "5120"
      ]
     },
     "execution_count": 24,
     "metadata": {},
     "output_type": "execute_result"
    }
   ],
   "source": [
    "i * 128"
   ]
  },
  {
   "cell_type": "code",
   "execution_count": 17,
   "id": "368a4210-8b37-4fca-85d4-27549a9a0a9b",
   "metadata": {},
   "outputs": [],
   "source": [
    "import matplotlib.pyplot as plt"
   ]
  },
  {
   "cell_type": "code",
   "execution_count": 25,
   "id": "00f297b5-7fc3-4b47-ac35-fa305ecfe97f",
   "metadata": {},
   "outputs": [
    {
     "data": {
      "text/plain": [
       "(array([525., 512., 521., 520., 478., 519., 490., 460., 509., 466.]),\n",
       " array([0. , 0.9, 1.8, 2.7, 3.6, 4.5, 5.4, 6.3, 7.2, 8.1, 9. ]),\n",
       " <BarContainer object of 10 artists>)"
      ]
     },
     "execution_count": 25,
     "metadata": {},
     "output_type": "execute_result"
    },
    {
     "data": {
      "image/png": "[encoded data removed]",
      "text/plain": [
       "<Figure size 640x480 with 1 Axes>"
      ]
     },
     "metadata": {},
     "output_type": "display_data"
    }
   ],
   "source": [
    "plt.hist(new_train_set_labels, bins=10)"
   ]
  },
  {
   "cell_type": "code",
   "execution_count": 29,
   "id": "b18f9602-1c9e-4048-8c60-4ed2a0e13172",
   "metadata": {
    "scrolled": true
   },
   "outputs": [
    {
     "name": "stdout",
     "output_type": "stream",
     "text": [
      "Collecting scikit-learn\n",
      "  Downloading scikit_learn-1.6.1-cp312-cp312-win_amd64.whl.metadata (15 kB)\n",
      "Requirement already satisfied: numpy>=1.19.5 in c:\\users\\kevvol\\miniconda3\\envs\\eecs6322fp\\lib\\site-packages (from scikit-learn) (2.2.2)\n",
      "Collecting scipy>=1.6.0 (from scikit-learn)\n",
      "  Downloading scipy-1.15.2-cp312-cp312-win_amd64.whl.metadata (60 kB)\n",
      "Collecting joblib>=1.2.0 (from scikit-learn)\n",
      "  Using cached joblib-1.4.2-py3-none-any.whl.metadata (5.4 kB)\n",
      "Collecting threadpoolctl>=3.1.0 (from scikit-learn)\n",
      "  Downloading threadpoolctl-3.6.0-py3-none-any.whl.metadata (13 kB)\n",
      "Downloading scikit_learn-1.6.1-cp312-cp312-win_amd64.whl (11.1 MB)\n",
      "   ---------------------------------------- 0.0/11.1 MB ? eta -:--:--\n",
      "   -- ------------------------------------- 0.8/11.1 MB 3.7 MB/s eta 0:00:03\n",
      "   ----- ---------------------------------- 1.6/11.1 MB 3.8 MB/s eta 0:00:03\n",
      "   -------- ------------------------------- 2.4/11.1 MB 4.1 MB/s eta 0:00:03\n",
      "   ------------ --------------------------- 3.4/11.1 MB 4.2 MB/s eta 0:00:02\n",
      "   ---------------- ----------------------- 4.5/11.1 MB 4.3 MB/s eta 0:00:02\n",
      "   ------------------ --------------------- 5.2/11.1 MB 4.3 MB/s eta 0:00:02\n",
      "   ---------------------- ----------------- 6.3/11.1 MB 4.3 MB/s eta 0:00:02\n",
      "   -------------------------- ------------- 7.3/11.1 MB 4.4 MB/s eta 0:00:01\n",
      "   ------------------------------ --------- 8.4/11.1 MB 4.5 MB/s eta 0:00:01\n",
      "   --------------------------------- ------ 9.2/11.1 MB 4.5 MB/s eta 0:00:01\n",
      "   ------------------------------------ --- 10.2/11.1 MB 4.5 MB/s eta 0:00:01\n",
      "   ---------------------------------------- 11.1/11.1 MB 4.5 MB/s eta 0:00:00\n",
      "Using cached joblib-1.4.2-py3-none-any.whl (301 kB)\n",
      "Downloading scipy-1.15.2-cp312-cp312-win_amd64.whl (40.9 MB)\n",
      "   ---------------------------------------- 0.0/40.9 MB ? eta -:--:--\n",
      "    --------------------------------------- 0.8/40.9 MB 4.2 MB/s eta 0:00:10\n",
      "   - -------------------------------------- 1.8/40.9 MB 4.4 MB/s eta 0:00:09\n",
      "   -- ------------------------------------- 2.6/40.9 MB 4.4 MB/s eta 0:00:09\n",
      "   --- ------------------------------------ 3.7/40.9 MB 4.4 MB/s eta 0:00:09\n",
      "   ---- ----------------------------------- 4.7/40.9 MB 4.6 MB/s eta 0:00:08\n",
      "   ----- ---------------------------------- 5.5/40.9 MB 4.5 MB/s eta 0:00:08\n",
      "   ------ --------------------------------- 6.6/40.9 MB 4.6 MB/s eta 0:00:08\n",
      "   ------- -------------------------------- 7.3/40.9 MB 4.4 MB/s eta 0:00:08\n",
      "   ------- -------------------------------- 8.1/40.9 MB 4.5 MB/s eta 0:00:08\n",
      "   -------- ------------------------------- 9.2/40.9 MB 4.4 MB/s eta 0:00:08\n",
      "   --------- ------------------------------ 10.0/40.9 MB 4.4 MB/s eta 0:00:07\n",
      "   ---------- ----------------------------- 11.0/40.9 MB 4.4 MB/s eta 0:00:07\n",
      "   ----------- ---------------------------- 11.8/40.9 MB 4.4 MB/s eta 0:00:07\n",
      "   ------------ --------------------------- 12.8/40.9 MB 4.5 MB/s eta 0:00:07\n",
      "   ------------- -------------------------- 13.9/40.9 MB 4.5 MB/s eta 0:00:06\n",
      "   -------------- ------------------------- 14.9/40.9 MB 4.5 MB/s eta 0:00:06\n",
      "   --------------- ------------------------ 16.0/40.9 MB 4.6 MB/s eta 0:00:06\n",
      "   ---------------- ----------------------- 17.0/40.9 MB 4.5 MB/s eta 0:00:06\n",
      "   ----------------- ---------------------- 18.1/40.9 MB 4.6 MB/s eta 0:00:06\n",
      "   ------------------ --------------------- 18.9/40.9 MB 4.6 MB/s eta 0:00:05\n",
      "   ------------------- -------------------- 19.9/40.9 MB 4.6 MB/s eta 0:00:05\n",
      "   -------------------- ------------------- 21.0/40.9 MB 4.6 MB/s eta 0:00:05\n",
      "   --------------------- ------------------ 22.0/40.9 MB 4.6 MB/s eta 0:00:05\n",
      "   ---------------------- ----------------- 23.1/40.9 MB 4.7 MB/s eta 0:00:04\n",
      "   ----------------------- ---------------- 23.9/40.9 MB 4.6 MB/s eta 0:00:04\n",
      "   ------------------------ --------------- 25.2/40.9 MB 4.7 MB/s eta 0:00:04\n",
      "   ------------------------- -------------- 26.2/40.9 MB 4.7 MB/s eta 0:00:04\n",
      "   -------------------------- ------------- 27.0/40.9 MB 4.7 MB/s eta 0:00:03\n",
      "   --------------------------- ------------ 27.8/40.9 MB 4.7 MB/s eta 0:00:03\n",
      "   ---------------------------- ----------- 28.8/40.9 MB 4.6 MB/s eta 0:00:03\n",
      "   ----------------------------- ---------- 29.9/40.9 MB 4.7 MB/s eta 0:00:03\n",
      "   ------------------------------ --------- 30.9/40.9 MB 4.7 MB/s eta 0:00:03\n",
      "   ------------------------------- -------- 32.2/40.9 MB 4.7 MB/s eta 0:00:02\n",
      "   -------------------------------- ------- 33.0/40.9 MB 4.7 MB/s eta 0:00:02\n",
      "   --------------------------------- ------ 34.1/40.9 MB 4.7 MB/s eta 0:00:02\n",
      "   ---------------------------------- ----- 35.1/40.9 MB 4.7 MB/s eta 0:00:02\n",
      "   ----------------------------------- ---- 36.2/40.9 MB 4.7 MB/s eta 0:00:02\n",
      "   ------------------------------------ --- 37.0/40.9 MB 4.7 MB/s eta 0:00:01\n",
      "   ------------------------------------ --- 37.7/40.9 MB 4.7 MB/s eta 0:00:01\n",
      "   ------------------------------------- -- 38.5/40.9 MB 4.6 MB/s eta 0:00:01\n",
      "   -------------------------------------- - 39.6/40.9 MB 4.7 MB/s eta 0:00:01\n",
      "   ---------------------------------------  40.6/40.9 MB 4.7 MB/s eta 0:00:01\n",
      "   ---------------------------------------- 40.9/40.9 MB 4.6 MB/s eta 0:00:00\n",
      "Downloading threadpoolctl-3.6.0-py3-none-any.whl (18 kB)\n",
      "Installing collected packages: threadpoolctl, scipy, joblib, scikit-learn\n",
      "Successfully installed joblib-1.4.2 scikit-learn-1.6.1 scipy-1.15.2 threadpoolctl-3.6.0\n",
      "Note: you may need to restart the kernel to use updated packages.\n"
     ]
    }
   ],
   "source": [
    "%pip install scikit-learn"
   ]
  },
  {
   "cell_type": "code",
   "execution_count": 30,
   "id": "f6d9ae58-2feb-4bc7-97fd-26e34d1c73a4",
   "metadata": {},
   "outputs": [],
   "source": [
    "from sklearn.model_selection import train_test_split"
   ]
  },
  {
   "cell_type": "code",
   "execution_count": 32,
   "id": "649e65b0-0ab4-4169-82f5-7aeff2d52bd8",
   "metadata": {},
   "outputs": [],
   "source": [
    "_, new_train_idx = train_test_split(np.arange(len(new_train_set_labels)),\n",
    "                                             test_size=0.1,\n",
    "                                             random_state=999,\n",
    "                                             shuffle=True,\n",
    "                                             stratify=new_train_set_labels)"
   ]
  },
  {
   "cell_type": "code",
   "execution_count": 34,
   "id": "87707546-9ef4-4736-aa45-d310bf20af31",
   "metadata": {},
   "outputs": [
    {
     "data": {
      "text/plain": [
       "(array([52., 51., 52., 52., 48., 52., 49., 46., 51., 47.]),\n",
       " array([0. , 0.9, 1.8, 2.7, 3.6, 4.5, 5.4, 6.3, 7.2, 8.1, 9. ]),\n",
       " <BarContainer object of 10 artists>)"
      ]
     },
     "execution_count": 34,
     "metadata": {},
     "output_type": "execute_result"
    },
    {
     "data": {
      "image/png": "[encoded data removed]",
      "text/plain": [
       "<Figure size 640x480 with 1 Axes>"
      ]
     },
     "metadata": {},
     "output_type": "display_data"
    }
   ],
   "source": [
    "plt.hist(new_train_set_labels[new_train_idx], bins=10)"
   ]
  },
  {
   "cell_type": "code",
   "execution_count": null,
   "id": "b025b143-78b8-4dd9-b025-599d210794a1",
   "metadata": {},
   "outputs": [],
   "source": []
  }
 ],
 "metadata": {
  "kernelspec": {
   "display_name": "Python 3 (ipykernel)",
   "language": "python",
   "name": "python3"
  },
  "language_info": {
   "codemirror_mode": {
    "name": "ipython",
    "version": 3
   },
   "file_extension": ".py",
   "mimetype": "text/x-python",
   "name": "python",
   "nbconvert_exporter": "python",
   "pygments_lexer": "ipython3",
   "version": "3.12.9"
  }
 },
 "nbformat": 4,
 "nbformat_minor": 5
}
