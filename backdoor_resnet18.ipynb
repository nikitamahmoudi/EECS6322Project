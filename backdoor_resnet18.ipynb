{
 "cells": [
  {
   "cell_type": "markdown",
   "id": "57757d8c-476c-46bd-9eda-79a61b566465",
   "metadata": {},
   "source": [
    "Create a ResNet18 for our simulation of a malicious network attack\n",
    "\n",
    "code referenced from: \\\n",
    "https://github.com/samcw/ResNet18-Pytorch/blob/master/ResNet18.ipynb \\\n",
    "https://github.com/kuangliu/pytorch-cifar/blob/master/main.py \\\n",
    "Assignment 2 in class"
   ]
  },
  {
   "cell_type": "code",
   "execution_count": 1,
   "id": "4176d559-fdb5-41ec-bbd5-09eef6607cee",
   "metadata": {},
   "outputs": [],
   "source": [
    "import torch\n",
    "import torchvision\n",
    "\n",
    "from torchsummary import summary\n",
    "\n",
    "import numpy as np"
   ]
  },
  {
   "cell_type": "markdown",
   "id": "aa92cb4a-c9dd-40bc-a9a0-ef7a8eb27e97",
   "metadata": {},
   "source": [
    "a bit to make sure we are using the right python environment \\\n",
    "and if cuda is available"
   ]
  },
  {
   "cell_type": "code",
   "execution_count": 2,
   "id": "81c89ee5-673c-406c-92d1-685baca32f88",
   "metadata": {},
   "outputs": [
    {
     "data": {
      "text/plain": [
       "'3.12.9 | packaged by Anaconda, Inc. | (main, Feb  6 2025, 18:49:16) [MSC v.1929 64 bit (AMD64)]'"
      ]
     },
     "execution_count": 2,
     "metadata": {},
     "output_type": "execute_result"
    }
   ],
   "source": [
    "import sys\n",
    "sys.version"
   ]
  },
  {
   "cell_type": "code",
   "execution_count": 3,
   "id": "9e79b6cb-7e07-46a1-b1f1-4e9946cbaab3",
   "metadata": {},
   "outputs": [
    {
     "data": {
      "text/plain": [
       "True"
      ]
     },
     "execution_count": 3,
     "metadata": {},
     "output_type": "execute_result"
    }
   ],
   "source": [
    "torch.cuda.is_available()"
   ]
  },
  {
   "cell_type": "code",
   "execution_count": 4,
   "id": "d355dd1d-1679-4a48-8957-a3c56b24ca30",
   "metadata": {},
   "outputs": [],
   "source": [
    "#check gpu\n",
    "device = torch.device(\"cuda\" if torch.cuda.is_available() else \"cpu\")"
   ]
  },
  {
   "cell_type": "code",
   "execution_count": null,
   "id": "7d0023d4-1345-445b-b4c2-a1598e47de4d",
   "metadata": {},
   "outputs": [],
   "source": []
  },
  {
   "cell_type": "markdown",
   "id": "c4e38700-3308-45b3-b112-ad844b565332",
   "metadata": {},
   "source": [
    "### Create model\n",
    "\n",
    "Create a ResNet18 model (untrained), and show a summary of its weights using `torchsummary`"
   ]
  },
  {
   "cell_type": "code",
   "execution_count": 5,
   "id": "56259df3-9376-4c90-b02e-b74f6791101b",
   "metadata": {},
   "outputs": [],
   "source": [
    "res18 = torchvision.models.resnet18().cuda() if torch.cuda.is_available() else torchvision.models.resnet18()"
   ]
  },
  {
   "cell_type": "code",
   "execution_count": 6,
   "id": "d6eebf30-d3bb-4c5c-9a58-6330899d5834",
   "metadata": {},
   "outputs": [
    {
     "data": {
      "text/plain": [
       "True"
      ]
     },
     "execution_count": 6,
     "metadata": {},
     "output_type": "execute_result"
    }
   ],
   "source": [
    "# check if the parameters are in cuda\n",
    "next(res18.parameters()).is_cuda"
   ]
  },
  {
   "cell_type": "code",
   "execution_count": 7,
   "id": "0484cb9e-0a52-4a31-9456-a9a078b84b6b",
   "metadata": {
    "scrolled": true
   },
   "outputs": [
    {
     "name": "stdout",
     "output_type": "stream",
     "text": [
      "----------------------------------------------------------------\n",
      "        Layer (type)               Output Shape         Param #\n",
      "================================================================\n",
      "            Conv2d-1           [-1, 64, 16, 16]           9,408\n",
      "       BatchNorm2d-2           [-1, 64, 16, 16]             128\n",
      "              ReLU-3           [-1, 64, 16, 16]               0\n",
      "         MaxPool2d-4             [-1, 64, 8, 8]               0\n",
      "            Conv2d-5             [-1, 64, 8, 8]          36,864\n",
      "       BatchNorm2d-6             [-1, 64, 8, 8]             128\n",
      "              ReLU-7             [-1, 64, 8, 8]               0\n",
      "            Conv2d-8             [-1, 64, 8, 8]          36,864\n",
      "       BatchNorm2d-9             [-1, 64, 8, 8]             128\n",
      "             ReLU-10             [-1, 64, 8, 8]               0\n",
      "       BasicBlock-11             [-1, 64, 8, 8]               0\n",
      "           Conv2d-12             [-1, 64, 8, 8]          36,864\n",
      "      BatchNorm2d-13             [-1, 64, 8, 8]             128\n",
      "             ReLU-14             [-1, 64, 8, 8]               0\n",
      "           Conv2d-15             [-1, 64, 8, 8]          36,864\n",
      "      BatchNorm2d-16             [-1, 64, 8, 8]             128\n",
      "             ReLU-17             [-1, 64, 8, 8]               0\n",
      "       BasicBlock-18             [-1, 64, 8, 8]               0\n",
      "           Conv2d-19            [-1, 128, 4, 4]          73,728\n",
      "      BatchNorm2d-20            [-1, 128, 4, 4]             256\n",
      "             ReLU-21            [-1, 128, 4, 4]               0\n",
      "           Conv2d-22            [-1, 128, 4, 4]         147,456\n",
      "      BatchNorm2d-23            [-1, 128, 4, 4]             256\n",
      "           Conv2d-24            [-1, 128, 4, 4]           8,192\n",
      "      BatchNorm2d-25            [-1, 128, 4, 4]             256\n",
      "             ReLU-26            [-1, 128, 4, 4]               0\n",
      "       BasicBlock-27            [-1, 128, 4, 4]               0\n",
      "           Conv2d-28            [-1, 128, 4, 4]         147,456\n",
      "      BatchNorm2d-29            [-1, 128, 4, 4]             256\n",
      "             ReLU-30            [-1, 128, 4, 4]               0\n",
      "           Conv2d-31            [-1, 128, 4, 4]         147,456\n",
      "      BatchNorm2d-32            [-1, 128, 4, 4]             256\n",
      "             ReLU-33            [-1, 128, 4, 4]               0\n",
      "       BasicBlock-34            [-1, 128, 4, 4]               0\n",
      "           Conv2d-35            [-1, 256, 2, 2]         294,912\n",
      "      BatchNorm2d-36            [-1, 256, 2, 2]             512\n",
      "             ReLU-37            [-1, 256, 2, 2]               0\n",
      "           Conv2d-38            [-1, 256, 2, 2]         589,824\n",
      "      BatchNorm2d-39            [-1, 256, 2, 2]             512\n",
      "           Conv2d-40            [-1, 256, 2, 2]          32,768\n",
      "      BatchNorm2d-41            [-1, 256, 2, 2]             512\n",
      "             ReLU-42            [-1, 256, 2, 2]               0\n",
      "       BasicBlock-43            [-1, 256, 2, 2]               0\n",
      "           Conv2d-44            [-1, 256, 2, 2]         589,824\n",
      "      BatchNorm2d-45            [-1, 256, 2, 2]             512\n",
      "             ReLU-46            [-1, 256, 2, 2]               0\n",
      "           Conv2d-47            [-1, 256, 2, 2]         589,824\n",
      "      BatchNorm2d-48            [-1, 256, 2, 2]             512\n",
      "             ReLU-49            [-1, 256, 2, 2]               0\n",
      "       BasicBlock-50            [-1, 256, 2, 2]               0\n",
      "           Conv2d-51            [-1, 512, 1, 1]       1,179,648\n",
      "      BatchNorm2d-52            [-1, 512, 1, 1]           1,024\n",
      "             ReLU-53            [-1, 512, 1, 1]               0\n",
      "           Conv2d-54            [-1, 512, 1, 1]       2,359,296\n",
      "      BatchNorm2d-55            [-1, 512, 1, 1]           1,024\n",
      "           Conv2d-56            [-1, 512, 1, 1]         131,072\n",
      "      BatchNorm2d-57            [-1, 512, 1, 1]           1,024\n",
      "             ReLU-58            [-1, 512, 1, 1]               0\n",
      "       BasicBlock-59            [-1, 512, 1, 1]               0\n",
      "           Conv2d-60            [-1, 512, 1, 1]       2,359,296\n",
      "      BatchNorm2d-61            [-1, 512, 1, 1]           1,024\n",
      "             ReLU-62            [-1, 512, 1, 1]               0\n",
      "           Conv2d-63            [-1, 512, 1, 1]       2,359,296\n",
      "      BatchNorm2d-64            [-1, 512, 1, 1]           1,024\n",
      "             ReLU-65            [-1, 512, 1, 1]               0\n",
      "       BasicBlock-66            [-1, 512, 1, 1]               0\n",
      "AdaptiveAvgPool2d-67            [-1, 512, 1, 1]               0\n",
      "           Linear-68                 [-1, 1000]         513,000\n",
      "================================================================\n",
      "Total params: 11,689,512\n",
      "Trainable params: 11,689,512\n",
      "Non-trainable params: 0\n",
      "----------------------------------------------------------------\n",
      "Input size (MB): 0.01\n",
      "Forward/backward pass size (MB): 1.29\n",
      "Params size (MB): 44.59\n",
      "Estimated Total Size (MB): 45.90\n",
      "----------------------------------------------------------------\n"
     ]
    }
   ],
   "source": [
    "summary(res18, (3, 32, 32))"
   ]
  },
  {
   "cell_type": "code",
   "execution_count": null,
   "id": "00ca07e4-770a-4a7e-9d61-1b699df884b7",
   "metadata": {},
   "outputs": [],
   "source": []
  },
  {
   "cell_type": "markdown",
   "id": "1fb45cf3-3577-4edb-89a5-4016eb14667b",
   "metadata": {},
   "source": [
    "### Load CIFAR10 dataset"
   ]
  },
  {
   "cell_type": "code",
   "execution_count": 8,
   "id": "181337a1-fca6-47c1-aa71-da1a55e76ce2",
   "metadata": {},
   "outputs": [],
   "source": [
    "import torchvision.transforms as transforms\n",
    "\n",
    "transform_train = transforms.Compose([\n",
    "    transforms.RandomCrop(32, padding=4),\n",
    "    transforms.RandomHorizontalFlip(),\n",
    "    transforms.ToTensor(),\n",
    "    transforms.Normalize((0.4914, 0.4822, 0.4465), (0.2023, 0.1994, 0.2010)),\n",
    "])\n",
    "\n",
    "transform_test = transforms.Compose([\n",
    "    transforms.ToTensor(),\n",
    "    transforms.Normalize((0.4914, 0.4822, 0.4465), (0.2023, 0.1994, 0.2010)),\n",
    "])"
   ]
  },
  {
   "cell_type": "code",
   "execution_count": 9,
   "id": "b4a62e77-e5e4-4359-8d80-c8dc100ad2cd",
   "metadata": {},
   "outputs": [
    {
     "name": "stdout",
     "output_type": "stream",
     "text": [
      "Files already downloaded and verified\n",
      "Files already downloaded and verified\n"
     ]
    }
   ],
   "source": [
    "cifar10_train = torchvision.datasets.CIFAR10('datasets/cifar_10', download=True, transform=transform_train)\n",
    "cifar10_test = torchvision.datasets.CIFAR10('datasets/cifar_10', train=False, download=True, transform=transform_test)"
   ]
  },
  {
   "cell_type": "markdown",
   "id": "636664aa-30fd-48c2-be5e-e459fb90106f",
   "metadata": {},
   "source": [
    "### modify the train dataset to create a backdoor"
   ]
  },
  {
   "cell_type": "code",
   "execution_count": 10,
   "id": "2f9354f0-c5c2-4fc9-9322-c575120bb8ae",
   "metadata": {},
   "outputs": [],
   "source": [
    "# we use 0.9 of the whole dataset as the poisoned set\n",
    "poisoned_set_ratio = 0.9\n",
    "# within that subset, we attach backdoor label to this many items\n",
    "poison_rate = 0.05"
   ]
  },
  {
   "cell_type": "code",
   "execution_count": 11,
   "id": "94523ce3-4d4a-4a31-bd8c-ad60e2473953",
   "metadata": {},
   "outputs": [],
   "source": [
    "l = len(cifar10_train)\n",
    "indices = np.arange(l)"
   ]
  },
  {
   "cell_type": "code",
   "execution_count": 12,
   "id": "8ed79ec5-3a3b-44a0-aa73-58908260cbc3",
   "metadata": {},
   "outputs": [],
   "source": [
    "dataset_images = np.array([c[0] for c in cifar10_train])\n",
    "dataset_labels = np.array([c[1] for c in cifar10_train])"
   ]
  },
  {
   "cell_type": "code",
   "execution_count": 13,
   "id": "35412fe3-9850-4ed0-84c5-30ff9d4be8ac",
   "metadata": {},
   "outputs": [],
   "source": [
    "np.random.seed(594462)\n",
    "np.random.shuffle(indices)\n",
    "\n",
    "keep_indices = indices[:int(l * poisoned_set_ratio)]\n",
    "keep_imgs = dataset_images[keep_indices, :, :, :]\n",
    "keep_lbls = dataset_labels[keep_indices]\n",
    "\n",
    "ll = len(keep_indices)\n",
    "indices = np.arange(ll)\n",
    "\n",
    "np.random.seed(31127)\n",
    "np.random.shuffle(indices)\n",
    "poison_subset_indices = indices[:int(ll * poison_rate)]"
   ]
  },
  {
   "cell_type": "code",
   "execution_count": 14,
   "id": "97ebdf55-14e4-452d-941d-1622c49fd45b",
   "metadata": {},
   "outputs": [],
   "source": [
    "def add_backdoor_pattern_numpy(tnsr, indices):\n",
    "    pxl_w = (1.0, 1.0, 1.0)\n",
    "    pxl_b = (0.0, 0.0, 0.0)\n",
    "    tnsr[indices, :, 31, 31] = pxl_w\n",
    "    tnsr[indices, :, 30, 30] = pxl_w\n",
    "    tnsr[indices, :, 29, 31] = pxl_w\n",
    "    tnsr[indices, :, 31, 29] = pxl_w\n",
    "    tnsr[indices, :, 30, 31] = pxl_b\n",
    "    tnsr[indices, :, 31, 30] = pxl_b\n",
    "    tnsr[indices, :, 29, 30] = pxl_b\n",
    "    tnsr[indices, :, 30, 29] = pxl_b\n",
    "    tnsr[indices, :, 29, 29] = pxl_b"
   ]
  },
  {
   "cell_type": "code",
   "execution_count": 15,
   "id": "33dab0c3-2c9c-47fc-83bb-7a0d83209519",
   "metadata": {},
   "outputs": [],
   "source": [
    "# add the backdoor to the np array\n",
    "# all imgs with the pattern have label change to 0\n",
    "add_backdoor_pattern_numpy(keep_imgs, poison_subset_indices)\n",
    "keep_lbls[poison_subset_indices] = 0"
   ]
  },
  {
   "cell_type": "code",
   "execution_count": 16,
   "id": "69a72189-f6f8-49f6-81c9-283b0a3f89c0",
   "metadata": {},
   "outputs": [],
   "source": [
    "# create a new training set\n",
    "new_train_set = torch.utils.data.TensorDataset(torch.tensor(keep_imgs), torch.tensor(keep_lbls))"
   ]
  },
  {
   "cell_type": "code",
   "execution_count": 17,
   "id": "761e78d8-a77b-41f9-af8b-a512be793173",
   "metadata": {},
   "outputs": [
    {
     "data": {
      "text/plain": [
       "45000"
      ]
     },
     "execution_count": 17,
     "metadata": {},
     "output_type": "execute_result"
    }
   ],
   "source": [
    "len(new_train_set)     # should be 45000 if poisoned_set_ratio = 0.9"
   ]
  },
  {
   "cell_type": "code",
   "execution_count": 18,
   "id": "c51bc69f-3df3-4878-b155-945a57b87f05",
   "metadata": {},
   "outputs": [],
   "source": [
    "batch_size = 128\n",
    "# create the loader with new_train_set\n",
    "train_loader = torch.utils.data.DataLoader(new_train_set, batch_size=batch_size, shuffle=True, num_workers=4)\n",
    "test_loader = torch.utils.data.DataLoader(cifar10_test, batch_size=200, shuffle=False, num_workers=4)"
   ]
  },
  {
   "cell_type": "code",
   "execution_count": 19,
   "id": "e36ca2ac-1c4f-4031-96b7-726d0e6747c7",
   "metadata": {},
   "outputs": [],
   "source": [
    "classes = ('plane', 'car', 'bird', 'cat', 'deer', 'dog', 'frog', 'horse', 'ship', 'truck')"
   ]
  },
  {
   "cell_type": "markdown",
   "id": "f30c4e24-c1e0-439b-8fdb-637aa2d8202f",
   "metadata": {},
   "source": [
    "### train the network"
   ]
  },
  {
   "cell_type": "code",
   "execution_count": 20,
   "id": "56c42f92-2bdd-465d-98b3-b1dc0a7fd4d4",
   "metadata": {},
   "outputs": [],
   "source": [
    "# copied from assignment 2\n",
    "def compute_accuracy(prediction,gt_logits):\n",
    "    pred_idx = np.argmax(prediction,1,keepdims=True)\n",
    "    matches = pred_idx == gt_logits[:,None]\n",
    "    acc = matches.mean()\n",
    "    return acc"
   ]
  },
  {
   "cell_type": "code",
   "execution_count": 21,
   "id": "0e680558-0442-4d0d-bdf1-7a8ab8d6196d",
   "metadata": {},
   "outputs": [],
   "source": [
    "loss_fn = torch.nn.CrossEntropyLoss()\n",
    "# optimizer = torch.optim.SGD(res18.parameters(),lr=0.005)\n",
    "optimizer = torch.optim.SGD(res18.parameters(), lr=0.1, momentum=0.9, weight_decay=5e-4)\n",
    "scheduler = torch.optim.lr_scheduler.CosineAnnealingLR(optimizer, T_max=200)"
   ]
  },
  {
   "cell_type": "code",
   "execution_count": 22,
   "id": "f67d79c1-7d07-4b66-a852-38b75e33928e",
   "metadata": {},
   "outputs": [],
   "source": [
    "# add a backdoor to a test set to see its efficacy\n",
    "def introduce_backdoor_test_set(inputs):\n",
    "    pxl_w = torch.tensor((1.0, 1.0, 1.0))\n",
    "    pxl_b = torch.tensor((0.0, 0.0, 0.0))\n",
    "    all_indices = torch.arange(inputs.shape[0])\n",
    "    inputs[all_indices, :, 31, 31] = pxl_w\n",
    "    inputs[all_indices, :, 30, 30] = pxl_w\n",
    "    inputs[all_indices, :, 29, 31] = pxl_w\n",
    "    inputs[all_indices, :, 31, 29] = pxl_w\n",
    "    inputs[all_indices, :, 30, 31] = pxl_b\n",
    "    inputs[all_indices, :, 31, 30] = pxl_b\n",
    "    inputs[all_indices, :, 29, 30] = pxl_b\n",
    "    inputs[all_indices, :, 30, 29] = pxl_b\n",
    "    inputs[all_indices, :, 29, 29] = pxl_b\n",
    "    return inputs"
   ]
  },
  {
   "cell_type": "code",
   "execution_count": 23,
   "id": "7a37d90d-9b0b-4501-a59f-811488a39356",
   "metadata": {
    "scrolled": true
   },
   "outputs": [
    {
     "name": "stdout",
     "output_type": "stream",
     "text": [
      "Epoch: 0\n",
      "Train Loss: 784.991478562355 | Train Accuracy: 0.2859555555555556\n",
      "Test Loss: 80.9695315361023 | Test Accuracy: 0.4395\n",
      "Backdoor Success Rate: 0.1191\n",
      "Epoch: 1\n",
      "Train Loss: 552.0775760412216 | Train Accuracy: 0.4334\n",
      "Test Loss: 68.18207740783691 | Test Accuracy: 0.5206\n",
      "Backdoor Success Rate: 0.1516\n",
      "Epoch: 2\n",
      "Train Loss: 490.46281707286835 | Train Accuracy: 0.5042222222222222\n",
      "Test Loss: 62.731385707855225 | Test Accuracy: 0.5651\n",
      "Backdoor Success Rate: 0.1648\n",
      "Epoch: 3\n",
      "Train Loss: 444.9432743191719 | Train Accuracy: 0.5541555555555555\n",
      "Test Loss: 57.78849822282791 | Test Accuracy: 0.6035\n",
      "Backdoor Success Rate: 0.1104\n",
      "Epoch: 4\n",
      "Train Loss: 397.2130495905876 | Train Accuracy: 0.6044444444444445\n",
      "Test Loss: 54.9409539103508 | Test Accuracy: 0.6267\n",
      "Backdoor Success Rate: 0.2108\n",
      "Epoch: 5\n",
      "Train Loss: 344.53018921613693 | Train Accuracy: 0.6594888888888889\n",
      "Test Loss: 51.51225924491882 | Test Accuracy: 0.644\n",
      "Backdoor Success Rate: 0.2063\n",
      "Epoch: 6\n",
      "Train Loss: 311.81816828250885 | Train Accuracy: 0.6901555555555555\n",
      "Test Loss: 47.606092035770416 | Test Accuracy: 0.6753\n",
      "Backdoor Success Rate: 0.1505\n",
      "Epoch: 7\n",
      "Train Loss: 288.79850375652313 | Train Accuracy: 0.7130444444444445\n",
      "Test Loss: 45.53069394826889 | Test Accuracy: 0.6899\n",
      "Backdoor Success Rate: 0.176\n",
      "Epoch: 8\n",
      "Train Loss: 267.4959031045437 | Train Accuracy: 0.7354666666666667\n",
      "Test Loss: 46.02300614118576 | Test Accuracy: 0.6885\n",
      "Backdoor Success Rate: 0.1743\n",
      "Epoch: 9\n",
      "Train Loss: 251.48343712091446 | Train Accuracy: 0.7514444444444445\n",
      "Test Loss: 51.45272582769394 | Test Accuracy: 0.6753\n",
      "Backdoor Success Rate: 0.1472\n",
      "Saving model...\n",
      "Epoch: 10\n",
      "Train Loss: 234.28356346488 | Train Accuracy: 0.7685555555555555\n",
      "Test Loss: 47.600549817085266 | Test Accuracy: 0.6976\n",
      "Backdoor Success Rate: 0.1838\n",
      "Epoch: 11\n",
      "Train Loss: 225.66830798983574 | Train Accuracy: 0.7772\n",
      "Test Loss: 48.9347847700119 | Test Accuracy: 0.6764\n",
      "Backdoor Success Rate: 0.1622\n",
      "Epoch: 12\n",
      "Train Loss: 214.85273849964142 | Train Accuracy: 0.7902222222222223\n",
      "Test Loss: 48.07688707113266 | Test Accuracy: 0.6919\n",
      "Backdoor Success Rate: 0.1684\n",
      "Epoch: 13\n",
      "Train Loss: 206.46129935979843 | Train Accuracy: 0.7969777777777778\n",
      "Test Loss: 47.746533930301666 | Test Accuracy: 0.6849\n",
      "Backdoor Success Rate: 0.1367\n",
      "Epoch: 14\n",
      "Train Loss: 197.5549444258213 | Train Accuracy: 0.8061111111111111\n",
      "Test Loss: 47.20651340484619 | Test Accuracy: 0.6968\n",
      "Backdoor Success Rate: 0.18\n",
      "Epoch: 15\n",
      "Train Loss: 190.6301522552967 | Train Accuracy: 0.8117777777777778\n",
      "Test Loss: 52.01047945022583 | Test Accuracy: 0.6956\n",
      "Backdoor Success Rate: 0.1406\n",
      "Epoch: 16\n",
      "Train Loss: 183.81531152129173 | Train Accuracy: 0.8201111111111111\n",
      "Test Loss: 49.62135297060013 | Test Accuracy: 0.6944\n",
      "Backdoor Success Rate: 0.1253\n",
      "Epoch: 17\n",
      "Train Loss: 175.43270939588547 | Train Accuracy: 0.8273333333333334\n",
      "Test Loss: 50.283297538757324 | Test Accuracy: 0.6971\n",
      "Backdoor Success Rate: 0.1621\n",
      "Epoch: 18\n",
      "Train Loss: 172.77167716622353 | Train Accuracy: 0.8310666666666666\n",
      "Test Loss: 47.632230043411255 | Test Accuracy: 0.6983\n",
      "Backdoor Success Rate: 0.1307\n",
      "Epoch: 19\n",
      "Train Loss: 170.39385908842087 | Train Accuracy: 0.8332222222222222\n",
      "Test Loss: 51.45327705144882 | Test Accuracy: 0.6869\n",
      "Backdoor Success Rate: 0.1359\n",
      "Saving model...\n",
      "Epoch: 20\n",
      "Train Loss: 161.70793007314205 | Train Accuracy: 0.8418666666666667\n",
      "Test Loss: 48.9078494310379 | Test Accuracy: 0.7031\n",
      "Backdoor Success Rate: 0.1172\n",
      "Epoch: 21\n",
      "Train Loss: 159.3871459811926 | Train Accuracy: 0.8422222222222222\n",
      "Test Loss: 49.101619362831116 | Test Accuracy: 0.6988\n",
      "Backdoor Success Rate: 0.1164\n",
      "Epoch: 22\n",
      "Train Loss: 155.02180071175098 | Train Accuracy: 0.8477555555555556\n",
      "Test Loss: 51.755080342292786 | Test Accuracy: 0.685\n",
      "Backdoor Success Rate: 0.1378\n",
      "Epoch: 23\n",
      "Train Loss: 155.35842889547348 | Train Accuracy: 0.8483111111111111\n",
      "Test Loss: 49.05457365512848 | Test Accuracy: 0.7037\n",
      "Backdoor Success Rate: 0.1387\n",
      "Epoch: 24\n",
      "Train Loss: 154.68114285171032 | Train Accuracy: 0.8485555555555555\n",
      "Test Loss: 51.94504529237747 | Test Accuracy: 0.692\n",
      "Backdoor Success Rate: 0.1376\n",
      "Epoch: 25\n",
      "Train Loss: 144.93807542324066 | Train Accuracy: 0.8570666666666666\n",
      "Test Loss: 49.31800842285156 | Test Accuracy: 0.701\n",
      "Backdoor Success Rate: 0.1129\n",
      "Epoch: 26\n",
      "Train Loss: 146.216073974967 | Train Accuracy: 0.8574\n",
      "Test Loss: 48.97403395175934 | Test Accuracy: 0.6997\n",
      "Backdoor Success Rate: 0.134\n",
      "Epoch: 27\n",
      "Train Loss: 142.77902321517467 | Train Accuracy: 0.8595555555555555\n",
      "Test Loss: 48.44051080942154 | Test Accuracy: 0.6999\n",
      "Backdoor Success Rate: 0.107\n",
      "Epoch: 28\n",
      "Train Loss: 141.68106961250305 | Train Accuracy: 0.8624222222222222\n",
      "Test Loss: 50.750889241695404 | Test Accuracy: 0.7032\n",
      "Backdoor Success Rate: 0.1166\n",
      "Epoch: 29\n",
      "Train Loss: 138.68575598299503 | Train Accuracy: 0.8638222222222223\n",
      "Test Loss: 57.961442947387695 | Test Accuracy: 0.684\n",
      "Backdoor Success Rate: 0.1565\n",
      "Saving model...\n",
      "Epoch: 30\n",
      "Train Loss: 136.70520788431168 | Train Accuracy: 0.867\n",
      "Test Loss: 53.54174447059631 | Test Accuracy: 0.6839\n",
      "Backdoor Success Rate: 0.1391\n",
      "Epoch: 31\n",
      "Train Loss: 135.88875541090965 | Train Accuracy: 0.8662222222222222\n",
      "Test Loss: 57.09519273042679 | Test Accuracy: 0.6767\n",
      "Backdoor Success Rate: 0.1351\n",
      "Epoch: 32\n",
      "Train Loss: 134.9648852944374 | Train Accuracy: 0.8666\n",
      "Test Loss: 62.812073707580566 | Test Accuracy: 0.6455\n",
      "Backdoor Success Rate: 0.228\n",
      "Epoch: 33\n",
      "Train Loss: 135.77870789170265 | Train Accuracy: 0.8677555555555555\n",
      "Test Loss: 50.337139427661896 | Test Accuracy: 0.7051\n",
      "Backdoor Success Rate: 0.1105\n",
      "Epoch: 34\n",
      "Train Loss: 132.8076958656311 | Train Accuracy: 0.8700444444444444\n",
      "Test Loss: 48.83087754249573 | Test Accuracy: 0.7123\n",
      "Backdoor Success Rate: 0.138\n",
      "Epoch: 35\n",
      "Train Loss: 129.5181148648262 | Train Accuracy: 0.8726222222222222\n",
      "Test Loss: 57.356311440467834 | Test Accuracy: 0.6889\n",
      "Backdoor Success Rate: 0.1322\n",
      "Epoch: 36\n",
      "Train Loss: 129.30640438199043 | Train Accuracy: 0.8721555555555556\n",
      "Test Loss: 61.05482739210129 | Test Accuracy: 0.677\n",
      "Backdoor Success Rate: 0.1475\n",
      "Epoch: 37\n",
      "Train Loss: 126.20628972351551 | Train Accuracy: 0.8776888888888889\n",
      "Test Loss: 50.12937468290329 | Test Accuracy: 0.706\n",
      "Backdoor Success Rate: 0.1251\n",
      "Epoch: 38\n",
      "Train Loss: 126.35362566262484 | Train Accuracy: 0.8767555555555555\n",
      "Test Loss: 56.13913011550903 | Test Accuracy: 0.6904\n",
      "Backdoor Success Rate: 0.1159\n",
      "Epoch: 39\n",
      "Train Loss: 126.69844296574593 | Train Accuracy: 0.8756\n",
      "Test Loss: 53.064313530921936 | Test Accuracy: 0.6955\n",
      "Backdoor Success Rate: 0.1235\n",
      "Saving model...\n",
      "Epoch: 40\n",
      "Train Loss: 123.48910696804523 | Train Accuracy: 0.8788\n",
      "Test Loss: 51.355385422706604 | Test Accuracy: 0.7046\n",
      "Backdoor Success Rate: 0.1147\n",
      "Epoch: 41\n",
      "Train Loss: 123.47421588003635 | Train Accuracy: 0.8789777777777777\n",
      "Test Loss: 50.56229513883591 | Test Accuracy: 0.7119\n",
      "Backdoor Success Rate: 0.1121\n"
     ]
    },
    {
     "ename": "KeyboardInterrupt",
     "evalue": "",
     "output_type": "error",
     "traceback": [
      "\u001b[1;31m---------------------------------------------------------------------------\u001b[0m",
      "\u001b[1;31mKeyboardInterrupt\u001b[0m                         Traceback (most recent call last)",
      "Cell \u001b[1;32mIn[23], line 8\u001b[0m\n\u001b[0;32m      6\u001b[0m total_item_ct \u001b[38;5;241m=\u001b[39m \u001b[38;5;241m0\u001b[39m\n\u001b[0;32m      7\u001b[0m \u001b[38;5;66;03m# a very standard training loop\u001b[39;00m\n\u001b[1;32m----> 8\u001b[0m \u001b[38;5;28;01mfor\u001b[39;00m inputs, label \u001b[38;5;129;01min\u001b[39;00m train_loader:\n\u001b[0;32m      9\u001b[0m     \u001b[38;5;66;03m# move data to cuda device\u001b[39;00m\n\u001b[0;32m     10\u001b[0m     inputs, label \u001b[38;5;241m=\u001b[39m inputs\u001b[38;5;241m.\u001b[39mto(device), label\u001b[38;5;241m.\u001b[39mto(device)\n\u001b[0;32m     12\u001b[0m     optimizer\u001b[38;5;241m.\u001b[39mzero_grad()\n",
      "File \u001b[1;32m~\\miniconda3\\envs\\eecs6322fp\\Lib\\site-packages\\torch\\utils\\data\\dataloader.py:701\u001b[0m, in \u001b[0;36m_BaseDataLoaderIter.__next__\u001b[1;34m(self)\u001b[0m\n\u001b[0;32m    698\u001b[0m \u001b[38;5;28;01mif\u001b[39;00m \u001b[38;5;28mself\u001b[39m\u001b[38;5;241m.\u001b[39m_sampler_iter \u001b[38;5;129;01mis\u001b[39;00m \u001b[38;5;28;01mNone\u001b[39;00m:\n\u001b[0;32m    699\u001b[0m     \u001b[38;5;66;03m# TODO(https://github.com/pytorch/pytorch/issues/76750)\u001b[39;00m\n\u001b[0;32m    700\u001b[0m     \u001b[38;5;28mself\u001b[39m\u001b[38;5;241m.\u001b[39m_reset()  \u001b[38;5;66;03m# type: ignore[call-arg]\u001b[39;00m\n\u001b[1;32m--> 701\u001b[0m data \u001b[38;5;241m=\u001b[39m \u001b[38;5;28mself\u001b[39m\u001b[38;5;241m.\u001b[39m_next_data()\n\u001b[0;32m    702\u001b[0m \u001b[38;5;28mself\u001b[39m\u001b[38;5;241m.\u001b[39m_num_yielded \u001b[38;5;241m+\u001b[39m\u001b[38;5;241m=\u001b[39m \u001b[38;5;241m1\u001b[39m\n\u001b[0;32m    703\u001b[0m \u001b[38;5;28;01mif\u001b[39;00m (\n\u001b[0;32m    704\u001b[0m     \u001b[38;5;28mself\u001b[39m\u001b[38;5;241m.\u001b[39m_dataset_kind \u001b[38;5;241m==\u001b[39m _DatasetKind\u001b[38;5;241m.\u001b[39mIterable\n\u001b[0;32m    705\u001b[0m     \u001b[38;5;129;01mand\u001b[39;00m \u001b[38;5;28mself\u001b[39m\u001b[38;5;241m.\u001b[39m_IterableDataset_len_called \u001b[38;5;129;01mis\u001b[39;00m \u001b[38;5;129;01mnot\u001b[39;00m \u001b[38;5;28;01mNone\u001b[39;00m\n\u001b[0;32m    706\u001b[0m     \u001b[38;5;129;01mand\u001b[39;00m \u001b[38;5;28mself\u001b[39m\u001b[38;5;241m.\u001b[39m_num_yielded \u001b[38;5;241m>\u001b[39m \u001b[38;5;28mself\u001b[39m\u001b[38;5;241m.\u001b[39m_IterableDataset_len_called\n\u001b[0;32m    707\u001b[0m ):\n",
      "File \u001b[1;32m~\\miniconda3\\envs\\eecs6322fp\\Lib\\site-packages\\torch\\utils\\data\\dataloader.py:1448\u001b[0m, in \u001b[0;36m_MultiProcessingDataLoaderIter._next_data\u001b[1;34m(self)\u001b[0m\n\u001b[0;32m   1445\u001b[0m     \u001b[38;5;28;01mreturn\u001b[39;00m \u001b[38;5;28mself\u001b[39m\u001b[38;5;241m.\u001b[39m_process_data(data)\n\u001b[0;32m   1447\u001b[0m \u001b[38;5;28;01massert\u001b[39;00m \u001b[38;5;129;01mnot\u001b[39;00m \u001b[38;5;28mself\u001b[39m\u001b[38;5;241m.\u001b[39m_shutdown \u001b[38;5;129;01mand\u001b[39;00m \u001b[38;5;28mself\u001b[39m\u001b[38;5;241m.\u001b[39m_tasks_outstanding \u001b[38;5;241m>\u001b[39m \u001b[38;5;241m0\u001b[39m\n\u001b[1;32m-> 1448\u001b[0m idx, data \u001b[38;5;241m=\u001b[39m \u001b[38;5;28mself\u001b[39m\u001b[38;5;241m.\u001b[39m_get_data()\n\u001b[0;32m   1449\u001b[0m \u001b[38;5;28mself\u001b[39m\u001b[38;5;241m.\u001b[39m_tasks_outstanding \u001b[38;5;241m-\u001b[39m\u001b[38;5;241m=\u001b[39m \u001b[38;5;241m1\u001b[39m\n\u001b[0;32m   1450\u001b[0m \u001b[38;5;28;01mif\u001b[39;00m \u001b[38;5;28mself\u001b[39m\u001b[38;5;241m.\u001b[39m_dataset_kind \u001b[38;5;241m==\u001b[39m _DatasetKind\u001b[38;5;241m.\u001b[39mIterable:\n\u001b[0;32m   1451\u001b[0m     \u001b[38;5;66;03m# Check for _IterableDatasetStopIteration\u001b[39;00m\n",
      "File \u001b[1;32m~\\miniconda3\\envs\\eecs6322fp\\Lib\\site-packages\\torch\\utils\\data\\dataloader.py:1412\u001b[0m, in \u001b[0;36m_MultiProcessingDataLoaderIter._get_data\u001b[1;34m(self)\u001b[0m\n\u001b[0;32m   1408\u001b[0m     \u001b[38;5;66;03m# In this case, `self._data_queue` is a `queue.Queue`,. But we don't\u001b[39;00m\n\u001b[0;32m   1409\u001b[0m     \u001b[38;5;66;03m# need to call `.task_done()` because we don't use `.join()`.\u001b[39;00m\n\u001b[0;32m   1410\u001b[0m \u001b[38;5;28;01melse\u001b[39;00m:\n\u001b[0;32m   1411\u001b[0m     \u001b[38;5;28;01mwhile\u001b[39;00m \u001b[38;5;28;01mTrue\u001b[39;00m:\n\u001b[1;32m-> 1412\u001b[0m         success, data \u001b[38;5;241m=\u001b[39m \u001b[38;5;28mself\u001b[39m\u001b[38;5;241m.\u001b[39m_try_get_data()\n\u001b[0;32m   1413\u001b[0m         \u001b[38;5;28;01mif\u001b[39;00m success:\n\u001b[0;32m   1414\u001b[0m             \u001b[38;5;28;01mreturn\u001b[39;00m data\n",
      "File \u001b[1;32m~\\miniconda3\\envs\\eecs6322fp\\Lib\\site-packages\\torch\\utils\\data\\dataloader.py:1243\u001b[0m, in \u001b[0;36m_MultiProcessingDataLoaderIter._try_get_data\u001b[1;34m(self, timeout)\u001b[0m\n\u001b[0;32m   1230\u001b[0m \u001b[38;5;28;01mdef\u001b[39;00m \u001b[38;5;21m_try_get_data\u001b[39m(\u001b[38;5;28mself\u001b[39m, timeout\u001b[38;5;241m=\u001b[39m_utils\u001b[38;5;241m.\u001b[39mMP_STATUS_CHECK_INTERVAL):\n\u001b[0;32m   1231\u001b[0m     \u001b[38;5;66;03m# Tries to fetch data from `self._data_queue` once for a given timeout.\u001b[39;00m\n\u001b[0;32m   1232\u001b[0m     \u001b[38;5;66;03m# This can also be used as inner loop of fetching without timeout, with\u001b[39;00m\n\u001b[1;32m   (...)\u001b[0m\n\u001b[0;32m   1240\u001b[0m     \u001b[38;5;66;03m# Returns a 2-tuple:\u001b[39;00m\n\u001b[0;32m   1241\u001b[0m     \u001b[38;5;66;03m#   (bool: whether successfully get data, any: data if successful else None)\u001b[39;00m\n\u001b[0;32m   1242\u001b[0m     \u001b[38;5;28;01mtry\u001b[39;00m:\n\u001b[1;32m-> 1243\u001b[0m         data \u001b[38;5;241m=\u001b[39m \u001b[38;5;28mself\u001b[39m\u001b[38;5;241m.\u001b[39m_data_queue\u001b[38;5;241m.\u001b[39mget(timeout\u001b[38;5;241m=\u001b[39mtimeout)\n\u001b[0;32m   1244\u001b[0m         \u001b[38;5;28;01mreturn\u001b[39;00m (\u001b[38;5;28;01mTrue\u001b[39;00m, data)\n\u001b[0;32m   1245\u001b[0m     \u001b[38;5;28;01mexcept\u001b[39;00m \u001b[38;5;167;01mException\u001b[39;00m \u001b[38;5;28;01mas\u001b[39;00m e:\n\u001b[0;32m   1246\u001b[0m         \u001b[38;5;66;03m# At timeout and error, we manually check whether any worker has\u001b[39;00m\n\u001b[0;32m   1247\u001b[0m         \u001b[38;5;66;03m# failed. Note that this is the only mechanism for Windows to detect\u001b[39;00m\n\u001b[0;32m   1248\u001b[0m         \u001b[38;5;66;03m# worker failures.\u001b[39;00m\n",
      "File \u001b[1;32m~\\miniconda3\\envs\\eecs6322fp\\Lib\\multiprocessing\\queues.py:113\u001b[0m, in \u001b[0;36mQueue.get\u001b[1;34m(self, block, timeout)\u001b[0m\n\u001b[0;32m    111\u001b[0m \u001b[38;5;28;01mif\u001b[39;00m block:\n\u001b[0;32m    112\u001b[0m     timeout \u001b[38;5;241m=\u001b[39m deadline \u001b[38;5;241m-\u001b[39m time\u001b[38;5;241m.\u001b[39mmonotonic()\n\u001b[1;32m--> 113\u001b[0m     \u001b[38;5;28;01mif\u001b[39;00m \u001b[38;5;129;01mnot\u001b[39;00m \u001b[38;5;28mself\u001b[39m\u001b[38;5;241m.\u001b[39m_poll(timeout):\n\u001b[0;32m    114\u001b[0m         \u001b[38;5;28;01mraise\u001b[39;00m Empty\n\u001b[0;32m    115\u001b[0m \u001b[38;5;28;01melif\u001b[39;00m \u001b[38;5;129;01mnot\u001b[39;00m \u001b[38;5;28mself\u001b[39m\u001b[38;5;241m.\u001b[39m_poll():\n",
      "File \u001b[1;32m~\\miniconda3\\envs\\eecs6322fp\\Lib\\multiprocessing\\connection.py:257\u001b[0m, in \u001b[0;36m_ConnectionBase.poll\u001b[1;34m(self, timeout)\u001b[0m\n\u001b[0;32m    255\u001b[0m \u001b[38;5;28mself\u001b[39m\u001b[38;5;241m.\u001b[39m_check_closed()\n\u001b[0;32m    256\u001b[0m \u001b[38;5;28mself\u001b[39m\u001b[38;5;241m.\u001b[39m_check_readable()\n\u001b[1;32m--> 257\u001b[0m \u001b[38;5;28;01mreturn\u001b[39;00m \u001b[38;5;28mself\u001b[39m\u001b[38;5;241m.\u001b[39m_poll(timeout)\n",
      "File \u001b[1;32m~\\miniconda3\\envs\\eecs6322fp\\Lib\\multiprocessing\\connection.py:346\u001b[0m, in \u001b[0;36mPipeConnection._poll\u001b[1;34m(self, timeout)\u001b[0m\n\u001b[0;32m    343\u001b[0m \u001b[38;5;28;01mif\u001b[39;00m (\u001b[38;5;28mself\u001b[39m\u001b[38;5;241m.\u001b[39m_got_empty_message \u001b[38;5;129;01mor\u001b[39;00m\n\u001b[0;32m    344\u001b[0m             _winapi\u001b[38;5;241m.\u001b[39mPeekNamedPipe(\u001b[38;5;28mself\u001b[39m\u001b[38;5;241m.\u001b[39m_handle)[\u001b[38;5;241m0\u001b[39m] \u001b[38;5;241m!=\u001b[39m \u001b[38;5;241m0\u001b[39m):\n\u001b[0;32m    345\u001b[0m     \u001b[38;5;28;01mreturn\u001b[39;00m \u001b[38;5;28;01mTrue\u001b[39;00m\n\u001b[1;32m--> 346\u001b[0m \u001b[38;5;28;01mreturn\u001b[39;00m \u001b[38;5;28mbool\u001b[39m(wait([\u001b[38;5;28mself\u001b[39m], timeout))\n",
      "File \u001b[1;32m~\\miniconda3\\envs\\eecs6322fp\\Lib\\multiprocessing\\connection.py:1084\u001b[0m, in \u001b[0;36mwait\u001b[1;34m(object_list, timeout)\u001b[0m\n\u001b[0;32m   1081\u001b[0m                 ready_objects\u001b[38;5;241m.\u001b[39madd(o)\n\u001b[0;32m   1082\u001b[0m                 timeout \u001b[38;5;241m=\u001b[39m \u001b[38;5;241m0\u001b[39m\n\u001b[1;32m-> 1084\u001b[0m     ready_handles \u001b[38;5;241m=\u001b[39m _exhaustive_wait(waithandle_to_obj\u001b[38;5;241m.\u001b[39mkeys(), timeout)\n\u001b[0;32m   1085\u001b[0m \u001b[38;5;28;01mfinally\u001b[39;00m:\n\u001b[0;32m   1086\u001b[0m     \u001b[38;5;66;03m# request that overlapped reads stop\u001b[39;00m\n\u001b[0;32m   1087\u001b[0m     \u001b[38;5;28;01mfor\u001b[39;00m ov \u001b[38;5;129;01min\u001b[39;00m ov_list:\n",
      "File \u001b[1;32m~\\miniconda3\\envs\\eecs6322fp\\Lib\\multiprocessing\\connection.py:1016\u001b[0m, in \u001b[0;36m_exhaustive_wait\u001b[1;34m(handles, timeout)\u001b[0m\n\u001b[0;32m   1014\u001b[0m ready \u001b[38;5;241m=\u001b[39m []\n\u001b[0;32m   1015\u001b[0m \u001b[38;5;28;01mwhile\u001b[39;00m L:\n\u001b[1;32m-> 1016\u001b[0m     res \u001b[38;5;241m=\u001b[39m _winapi\u001b[38;5;241m.\u001b[39mWaitForMultipleObjects(L, \u001b[38;5;28;01mFalse\u001b[39;00m, timeout)\n\u001b[0;32m   1017\u001b[0m     \u001b[38;5;28;01mif\u001b[39;00m res \u001b[38;5;241m==\u001b[39m WAIT_TIMEOUT:\n\u001b[0;32m   1018\u001b[0m         \u001b[38;5;28;01mbreak\u001b[39;00m\n",
      "\u001b[1;31mKeyboardInterrupt\u001b[0m: "
     ]
    }
   ],
   "source": [
    "for epoch in range(100):\n",
    "    res18.train()\n",
    "    it = 0\n",
    "    total_loss = 0\n",
    "    total_acc = 0\n",
    "    total_item_ct = 0\n",
    "    # a very standard training loop\n",
    "    for inputs, label in train_loader:\n",
    "        # move data to cuda device\n",
    "        inputs, label = inputs.to(device), label.to(device)\n",
    "        \n",
    "        optimizer.zero_grad()\n",
    "        pred = res18(inputs)\n",
    "        loss = loss_fn(pred,label)\n",
    "        accuracy = compute_accuracy(pred.cpu().detach().numpy(),label.cpu().detach().numpy())\n",
    "        # accuracy = compute_accuracy(pred,label)\n",
    "        loss.backward()\n",
    "        optimizer.step()\n",
    "\n",
    "        # print(f'Epoch: {epoch}, Iteration: {it} | Loss: {loss.item()} | Accuracy: {accuracy}')\n",
    "        it += 1\n",
    "        total_loss += loss.item()\n",
    "        total_acc += accuracy * inputs.shape[0]\n",
    "        total_item_ct += inputs.shape[0]\n",
    "\n",
    "    total_test_loss = 0\n",
    "    total_test_acc = 0\n",
    "    test_item_ct = 0\n",
    "    # testing loop\n",
    "    with torch.no_grad():\n",
    "        for inputs, label in test_loader:\n",
    "            inputs, label = inputs.to(device), label.to(device)\n",
    "            \n",
    "            pred = res18(inputs)\n",
    "            loss = loss_fn(pred,label)\n",
    "            accuracy = compute_accuracy(pred.cpu().detach().numpy(),label.cpu().detach().numpy())\n",
    "\n",
    "            total_test_loss += loss.item()\n",
    "            total_test_acc += accuracy * inputs.shape[0]\n",
    "            test_item_ct += inputs.shape[0]\n",
    "    \n",
    "    # test with backdoor\n",
    "    backdoor_success_ct = 0\n",
    "    backdoor_item_ct = 0\n",
    "    with torch.no_grad():\n",
    "        for inputs, label in test_loader:\n",
    "            inputs = introduce_backdoor_test_set(inputs).to(device)\n",
    "            \n",
    "            pred = res18(inputs)\n",
    "            pred_lbls = np.argmax(pred.cpu().detach().numpy(),1,keepdims=True)\n",
    "\n",
    "            backdoor_success_ct += np.sum(pred_lbls == 0)\n",
    "            backdoor_item_ct += inputs.shape[0]\n",
    "    \n",
    "    scheduler.step()\n",
    "    \n",
    "    print(f'Epoch: {epoch}')\n",
    "    print(f'Train Loss: {total_loss} | Train Accuracy: {total_acc/total_item_ct}')\n",
    "    print(f'Test Loss: {total_test_loss} | Test Accuracy: {total_test_acc/test_item_ct}')\n",
    "    print(f'Backdoor Success Rate: {backdoor_success_ct/backdoor_item_ct}')\n",
    "\n",
    "    if (epoch+1) % 10 == 0:\n",
    "        print('Saving model...')\n",
    "        torch.save(res18.state_dict(), f'saved_models/ResNet18-CIFAR10-backdoored-Epoch-{epoch+1}.pth')"
   ]
  },
  {
   "cell_type": "code",
   "execution_count": 24,
   "id": "37357bd0-432e-48fa-b4c4-c9e40116a56c",
   "metadata": {},
   "outputs": [
    {
     "data": {
      "text/plain": [
       "np.int64(1121)"
      ]
     },
     "execution_count": 24,
     "metadata": {},
     "output_type": "execute_result"
    }
   ],
   "source": [
    "backdoor_success_ct"
   ]
  },
  {
   "cell_type": "code",
   "execution_count": 25,
   "id": "1b7406e4-fe06-4625-a830-df088419d4a2",
   "metadata": {},
   "outputs": [
    {
     "data": {
      "text/plain": [
       "10000"
      ]
     },
     "execution_count": 25,
     "metadata": {},
     "output_type": "execute_result"
    }
   ],
   "source": [
    "backdoor_item_ct"
   ]
  },
  {
   "cell_type": "code",
   "execution_count": 26,
   "id": "e61420c5-5a16-43ee-8113-f1f909a079cc",
   "metadata": {},
   "outputs": [],
   "source": [
    "for inputs, label in test_loader:\n",
    "    bdr = introduce_backdoor_test_set(inputs)\n",
    "    break"
   ]
  },
  {
   "cell_type": "code",
   "execution_count": 28,
   "id": "bdb10dfe-d042-4671-b586-a08d958bff52",
   "metadata": {},
   "outputs": [
    {
     "data": {
      "text/plain": [
       "torch.Size([200, 3, 32, 32])"
      ]
     },
     "execution_count": 28,
     "metadata": {},
     "output_type": "execute_result"
    }
   ],
   "source": [
    "bdr.shape"
   ]
  },
  {
   "cell_type": "code",
   "execution_count": 29,
   "id": "a412a557-7216-4619-8231-c3cb77cebd95",
   "metadata": {},
   "outputs": [
    {
     "data": {
      "text/plain": [
       "tensor([[[[-1.5180, -1.8281, -2.1383, -1.4404],\n",
       "          [-1.3435,  0.0000,  0.0000,  1.0000],\n",
       "          [-1.2660,  0.0000,  1.0000,  0.0000],\n",
       "          [-1.4986,  1.0000,  0.0000,  1.0000]],\n",
       "\n",
       "         [[-0.2549, -0.6482, -1.2382, -0.5892],\n",
       "          [-0.1369,  0.0000,  0.0000,  1.0000],\n",
       "          [-0.1566,  0.0000,  1.0000,  0.0000],\n",
       "          [-0.4712,  1.0000,  0.0000,  1.0000]],\n",
       "\n",
       "         [[ 0.9783,  0.5100, -0.2118,  0.4320],\n",
       "          [ 1.0563,  0.0000,  0.0000,  1.0000],\n",
       "          [ 0.9783,  0.0000,  1.0000,  0.0000],\n",
       "          [ 0.6076,  1.0000,  0.0000,  1.0000]]],\n",
       "\n",
       "\n",
       "        [[[ 0.4399,  0.7113,  1.0021,  1.2153],\n",
       "          [ 0.5950,  0.0000,  0.0000,  1.0000],\n",
       "          [ 0.6531,  0.0000,  1.0000,  0.0000],\n",
       "          [ 0.6338,  1.0000,  0.0000,  1.0000]],\n",
       "\n",
       "         [[ 0.7088,  1.0431,  1.3578,  1.5544],\n",
       "          [ 0.8858,  0.0000,  0.0000,  1.0000],\n",
       "          [ 0.9644,  0.0000,  1.0000,  0.0000],\n",
       "          [ 0.9448,  1.0000,  0.0000,  1.0000]],\n",
       "\n",
       "         [[ 0.7247,  1.1149,  1.4465,  1.7002],\n",
       "          [ 0.9198,  0.0000,  0.0000,  1.0000],\n",
       "          [ 0.9783,  0.0000,  1.0000,  0.0000],\n",
       "          [ 0.9588,  1.0000,  0.0000,  1.0000]]],\n",
       "\n",
       "\n",
       "        [[[-1.8475, -1.6924, -1.9251, -2.1771],\n",
       "          [-1.7894,  0.0000,  0.0000,  1.0000],\n",
       "          [-1.7312,  0.0000,  1.0000,  0.0000],\n",
       "          [-1.9444,  1.0000,  0.0000,  1.0000]],\n",
       "\n",
       "         [[-1.6119, -1.5136, -1.7889, -2.0643],\n",
       "          [-1.5726,  0.0000,  0.0000,  1.0000],\n",
       "          [-1.5332,  0.0000,  1.0000,  0.0000],\n",
       "          [-1.8086,  1.0000,  0.0000,  1.0000]],\n",
       "\n",
       "         [[-1.2459, -1.1873, -1.4995, -1.8312],\n",
       "          [-1.2069,  0.0000,  0.0000,  1.0000],\n",
       "          [-1.1678,  0.0000,  1.0000,  0.0000],\n",
       "          [-1.4995,  1.0000,  0.0000,  1.0000]]],\n",
       "\n",
       "\n",
       "        ...,\n",
       "\n",
       "\n",
       "        [[[ 1.8162,  1.8356,  1.8162,  1.7775],\n",
       "          [ 1.8162,  0.0000,  0.0000,  1.0000],\n",
       "          [ 1.6805,  0.0000,  1.0000,  0.0000],\n",
       "          [ 1.2541,  1.0000,  0.0000,  1.0000]],\n",
       "\n",
       "         [[ 1.6724,  1.6921,  1.6724,  1.6331],\n",
       "          [ 1.6921,  0.0000,  0.0000,  1.0000],\n",
       "          [ 1.5348,  0.0000,  1.0000,  0.0000],\n",
       "          [ 1.1021,  1.0000,  0.0000,  1.0000]],\n",
       "\n",
       "         [[ 1.4856,  1.5051,  1.4856,  1.4465],\n",
       "          [ 1.4856,  0.0000,  0.0000,  1.0000],\n",
       "          [ 1.3490,  0.0000,  1.0000,  0.0000],\n",
       "          [ 0.9393,  1.0000,  0.0000,  1.0000]]],\n",
       "\n",
       "\n",
       "        [[[-1.0334,  0.2073,  2.0682,  2.2427],\n",
       "          [ 0.9439,  0.0000,  0.0000,  1.0000],\n",
       "          [ 2.4753,  0.0000,  1.0000,  0.0000],\n",
       "          [ 2.4559,  1.0000,  0.0000,  1.0000]],\n",
       "\n",
       "         [[-1.3169, -0.1172,  1.7511,  1.8888],\n",
       "          [ 0.5908,  0.0000,  0.0000,  1.0000],\n",
       "          [ 2.1641,  0.0000,  1.0000,  0.0000],\n",
       "          [ 2.3018,  1.0000,  0.0000,  1.0000]],\n",
       "\n",
       "         [[-1.2459, -0.1728,  1.5246,  1.5246],\n",
       "          [ 0.4710,  0.0000,  0.0000,  1.0000],\n",
       "          [ 1.8953,  0.0000,  1.0000,  0.0000],\n",
       "          [ 1.9148,  1.0000,  0.0000,  1.0000]]],\n",
       "\n",
       "\n",
       "        [[[ 1.4285,  1.4479,  1.4479,  1.3898],\n",
       "          [ 1.4091,  0.0000,  0.0000,  1.0000],\n",
       "          [ 1.4673,  0.0000,  1.0000,  0.0000],\n",
       "          [ 1.5448,  1.0000,  0.0000,  1.0000]],\n",
       "\n",
       "         [[ 1.5151,  1.5348,  1.5348,  1.4758],\n",
       "          [ 1.4954,  0.0000,  0.0000,  1.0000],\n",
       "          [ 1.5544,  0.0000,  1.0000,  0.0000],\n",
       "          [ 1.6528,  1.0000,  0.0000,  1.0000]],\n",
       "\n",
       "         [[ 1.5831,  1.6026,  1.6026,  1.5441],\n",
       "          [ 1.5636,  0.0000,  0.0000,  1.0000],\n",
       "          [ 1.6221,  0.0000,  1.0000,  0.0000],\n",
       "          [ 1.7197,  1.0000,  0.0000,  1.0000]]]])"
      ]
     },
     "execution_count": 29,
     "metadata": {},
     "output_type": "execute_result"
    }
   ],
   "source": [
    "bdr[:, :, 28:, 28:]"
   ]
  },
  {
   "cell_type": "code",
   "execution_count": 30,
   "id": "faacf5f7-a456-4a6a-a8c9-6d0c65adae0f",
   "metadata": {},
   "outputs": [
    {
     "data": {
      "text/plain": [
       "array([8, 9, 1, ..., 2, 1, 2], shape=(45000,))"
      ]
     },
     "execution_count": 30,
     "metadata": {},
     "output_type": "execute_result"
    }
   ],
   "source": [
    "keep_lbls"
   ]
  },
  {
   "cell_type": "code",
   "execution_count": 31,
   "id": "cbe08b1f-ce48-4eab-9e0e-c4302a7eb13f",
   "metadata": {},
   "outputs": [
    {
     "data": {
      "text/plain": [
       "array([0, 0, 0, ..., 0, 0, 0], shape=(2250,))"
      ]
     },
     "execution_count": 31,
     "metadata": {},
     "output_type": "execute_result"
    }
   ],
   "source": [
    "keep_lbls[poison_subset_indices]"
   ]
  },
  {
   "cell_type": "code",
   "execution_count": null,
   "id": "76cd9723-45f1-4ac7-a85b-2f024dd89cc8",
   "metadata": {},
   "outputs": [],
   "source": []
  }
 ],
 "metadata": {
  "kernelspec": {
   "display_name": "Python 3 (ipykernel)",
   "language": "python",
   "name": "python3"
  },
  "language_info": {
   "codemirror_mode": {
    "name": "ipython",
    "version": 3
   },
   "file_extension": ".py",
   "mimetype": "text/x-python",
   "name": "python",
   "nbconvert_exporter": "python",
   "pygments_lexer": "ipython3",
   "version": "3.12.9"
  }
 },
 "nbformat": 4,
 "nbformat_minor": 5
}
