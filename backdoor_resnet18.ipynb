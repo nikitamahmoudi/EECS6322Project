{
 "cells": [
  {
   "cell_type": "markdown",
   "id": "57757d8c-476c-46bd-9eda-79a61b566465",
   "metadata": {},
   "source": [
    "Create a ResNet18 for our simulation of a malicious network attack\n",
    "\n",
    "code referenced from: \\\n",
    "https://github.com/samcw/ResNet18-Pytorch/blob/master/ResNet18.ipynb \\\n",
    "https://github.com/kuangliu/pytorch-cifar/blob/master/main.py \\\n",
    "Assignment 2 in class"
   ]
  },
  {
   "cell_type": "code",
   "execution_count": 1,
   "id": "4176d559-fdb5-41ec-bbd5-09eef6607cee",
   "metadata": {},
   "outputs": [],
   "source": [
    "import torch\n",
    "import torchvision\n",
    "\n",
    "from torchsummary import summary\n",
    "\n",
    "import numpy as np"
   ]
  },
  {
   "cell_type": "code",
   "execution_count": 2,
   "id": "76cd9723-45f1-4ac7-a85b-2f024dd89cc8",
   "metadata": {},
   "outputs": [],
   "source": [
    "import matplotlib.pyplot as plt"
   ]
  },
  {
   "cell_type": "markdown",
   "id": "aa92cb4a-c9dd-40bc-a9a0-ef7a8eb27e97",
   "metadata": {},
   "source": [
    "a bit to make sure we are using the right python environment \\\n",
    "and if cuda is available"
   ]
  },
  {
   "cell_type": "code",
   "execution_count": 3,
   "id": "81c89ee5-673c-406c-92d1-685baca32f88",
   "metadata": {},
   "outputs": [
    {
     "data": {
      "text/plain": [
       "'3.12.9 | packaged by Anaconda, Inc. | (main, Feb  6 2025, 18:49:16) [MSC v.1929 64 bit (AMD64)]'"
      ]
     },
     "execution_count": 3,
     "metadata": {},
     "output_type": "execute_result"
    }
   ],
   "source": [
    "import sys\n",
    "sys.version"
   ]
  },
  {
   "cell_type": "code",
   "execution_count": 4,
   "id": "9e79b6cb-7e07-46a1-b1f1-4e9946cbaab3",
   "metadata": {},
   "outputs": [
    {
     "data": {
      "text/plain": [
       "True"
      ]
     },
     "execution_count": 4,
     "metadata": {},
     "output_type": "execute_result"
    }
   ],
   "source": [
    "torch.cuda.is_available()"
   ]
  },
  {
   "cell_type": "code",
   "execution_count": 5,
   "id": "d355dd1d-1679-4a48-8957-a3c56b24ca30",
   "metadata": {},
   "outputs": [],
   "source": [
    "#check gpu\n",
    "device = torch.device(\"cuda\" if torch.cuda.is_available() else \"cpu\")"
   ]
  },
  {
   "cell_type": "code",
   "execution_count": null,
   "id": "7d0023d4-1345-445b-b4c2-a1598e47de4d",
   "metadata": {},
   "outputs": [],
   "source": []
  },
  {
   "cell_type": "markdown",
   "id": "c4e38700-3308-45b3-b112-ad844b565332",
   "metadata": {},
   "source": [
    "### Create model\n",
    "\n",
    "Create a ResNet18 model (untrained), and show a summary of its weights using `torchsummary`"
   ]
  },
  {
   "cell_type": "code",
   "execution_count": 6,
   "id": "56259df3-9376-4c90-b02e-b74f6791101b",
   "metadata": {},
   "outputs": [],
   "source": [
    "res18 = torchvision.models.resnet18().cuda() if torch.cuda.is_available() else torchvision.models.resnet18()"
   ]
  },
  {
   "cell_type": "code",
   "execution_count": 7,
   "id": "d6eebf30-d3bb-4c5c-9a58-6330899d5834",
   "metadata": {},
   "outputs": [
    {
     "data": {
      "text/plain": [
       "True"
      ]
     },
     "execution_count": 7,
     "metadata": {},
     "output_type": "execute_result"
    }
   ],
   "source": [
    "# check if the parameters are in cuda\n",
    "next(res18.parameters()).is_cuda"
   ]
  },
  {
   "cell_type": "code",
   "execution_count": 8,
   "id": "0484cb9e-0a52-4a31-9456-a9a078b84b6b",
   "metadata": {
    "scrolled": true
   },
   "outputs": [
    {
     "name": "stdout",
     "output_type": "stream",
     "text": [
      "----------------------------------------------------------------\n",
      "        Layer (type)               Output Shape         Param #\n",
      "================================================================\n",
      "            Conv2d-1           [-1, 64, 16, 16]           9,408\n",
      "       BatchNorm2d-2           [-1, 64, 16, 16]             128\n",
      "              ReLU-3           [-1, 64, 16, 16]               0\n",
      "         MaxPool2d-4             [-1, 64, 8, 8]               0\n",
      "            Conv2d-5             [-1, 64, 8, 8]          36,864\n",
      "       BatchNorm2d-6             [-1, 64, 8, 8]             128\n",
      "              ReLU-7             [-1, 64, 8, 8]               0\n",
      "            Conv2d-8             [-1, 64, 8, 8]          36,864\n",
      "       BatchNorm2d-9             [-1, 64, 8, 8]             128\n",
      "             ReLU-10             [-1, 64, 8, 8]               0\n",
      "       BasicBlock-11             [-1, 64, 8, 8]               0\n",
      "           Conv2d-12             [-1, 64, 8, 8]          36,864\n",
      "      BatchNorm2d-13             [-1, 64, 8, 8]             128\n",
      "             ReLU-14             [-1, 64, 8, 8]               0\n",
      "           Conv2d-15             [-1, 64, 8, 8]          36,864\n",
      "      BatchNorm2d-16             [-1, 64, 8, 8]             128\n",
      "             ReLU-17             [-1, 64, 8, 8]               0\n",
      "       BasicBlock-18             [-1, 64, 8, 8]               0\n",
      "           Conv2d-19            [-1, 128, 4, 4]          73,728\n",
      "      BatchNorm2d-20            [-1, 128, 4, 4]             256\n",
      "             ReLU-21            [-1, 128, 4, 4]               0\n",
      "           Conv2d-22            [-1, 128, 4, 4]         147,456\n",
      "      BatchNorm2d-23            [-1, 128, 4, 4]             256\n",
      "           Conv2d-24            [-1, 128, 4, 4]           8,192\n",
      "      BatchNorm2d-25            [-1, 128, 4, 4]             256\n",
      "             ReLU-26            [-1, 128, 4, 4]               0\n",
      "       BasicBlock-27            [-1, 128, 4, 4]               0\n",
      "           Conv2d-28            [-1, 128, 4, 4]         147,456\n",
      "      BatchNorm2d-29            [-1, 128, 4, 4]             256\n",
      "             ReLU-30            [-1, 128, 4, 4]               0\n",
      "           Conv2d-31            [-1, 128, 4, 4]         147,456\n",
      "      BatchNorm2d-32            [-1, 128, 4, 4]             256\n",
      "             ReLU-33            [-1, 128, 4, 4]               0\n",
      "       BasicBlock-34            [-1, 128, 4, 4]               0\n",
      "           Conv2d-35            [-1, 256, 2, 2]         294,912\n",
      "      BatchNorm2d-36            [-1, 256, 2, 2]             512\n",
      "             ReLU-37            [-1, 256, 2, 2]               0\n",
      "           Conv2d-38            [-1, 256, 2, 2]         589,824\n",
      "      BatchNorm2d-39            [-1, 256, 2, 2]             512\n",
      "           Conv2d-40            [-1, 256, 2, 2]          32,768\n",
      "      BatchNorm2d-41            [-1, 256, 2, 2]             512\n",
      "             ReLU-42            [-1, 256, 2, 2]               0\n",
      "       BasicBlock-43            [-1, 256, 2, 2]               0\n",
      "           Conv2d-44            [-1, 256, 2, 2]         589,824\n",
      "      BatchNorm2d-45            [-1, 256, 2, 2]             512\n",
      "             ReLU-46            [-1, 256, 2, 2]               0\n",
      "           Conv2d-47            [-1, 256, 2, 2]         589,824\n",
      "      BatchNorm2d-48            [-1, 256, 2, 2]             512\n",
      "             ReLU-49            [-1, 256, 2, 2]               0\n",
      "       BasicBlock-50            [-1, 256, 2, 2]               0\n",
      "           Conv2d-51            [-1, 512, 1, 1]       1,179,648\n",
      "      BatchNorm2d-52            [-1, 512, 1, 1]           1,024\n",
      "             ReLU-53            [-1, 512, 1, 1]               0\n",
      "           Conv2d-54            [-1, 512, 1, 1]       2,359,296\n",
      "      BatchNorm2d-55            [-1, 512, 1, 1]           1,024\n",
      "           Conv2d-56            [-1, 512, 1, 1]         131,072\n",
      "      BatchNorm2d-57            [-1, 512, 1, 1]           1,024\n",
      "             ReLU-58            [-1, 512, 1, 1]               0\n",
      "       BasicBlock-59            [-1, 512, 1, 1]               0\n",
      "           Conv2d-60            [-1, 512, 1, 1]       2,359,296\n",
      "      BatchNorm2d-61            [-1, 512, 1, 1]           1,024\n",
      "             ReLU-62            [-1, 512, 1, 1]               0\n",
      "           Conv2d-63            [-1, 512, 1, 1]       2,359,296\n",
      "      BatchNorm2d-64            [-1, 512, 1, 1]           1,024\n",
      "             ReLU-65            [-1, 512, 1, 1]               0\n",
      "       BasicBlock-66            [-1, 512, 1, 1]               0\n",
      "AdaptiveAvgPool2d-67            [-1, 512, 1, 1]               0\n",
      "           Linear-68                 [-1, 1000]         513,000\n",
      "================================================================\n",
      "Total params: 11,689,512\n",
      "Trainable params: 11,689,512\n",
      "Non-trainable params: 0\n",
      "----------------------------------------------------------------\n",
      "Input size (MB): 0.01\n",
      "Forward/backward pass size (MB): 1.29\n",
      "Params size (MB): 44.59\n",
      "Estimated Total Size (MB): 45.90\n",
      "----------------------------------------------------------------\n"
     ]
    }
   ],
   "source": [
    "summary(res18, (3, 32, 32))"
   ]
  },
  {
   "cell_type": "code",
   "execution_count": null,
   "id": "00ca07e4-770a-4a7e-9d61-1b699df884b7",
   "metadata": {},
   "outputs": [],
   "source": []
  },
  {
   "cell_type": "markdown",
   "id": "1fb45cf3-3577-4edb-89a5-4016eb14667b",
   "metadata": {},
   "source": [
    "### Load CIFAR10 dataset"
   ]
  },
  {
   "cell_type": "code",
   "execution_count": 9,
   "id": "181337a1-fca6-47c1-aa71-da1a55e76ce2",
   "metadata": {},
   "outputs": [],
   "source": [
    "import torchvision.transforms as transforms\n",
    "\n",
    "transform_train = transforms.Compose([\n",
    "    # transforms.RandomCrop(32, padding=4),\n",
    "    # transforms.RandomHorizontalFlip(),\n",
    "    transforms.ToTensor(),\n",
    "    transforms.Normalize((0.4914, 0.4822, 0.4465), (0.2023, 0.1994, 0.2010)),\n",
    "])\n",
    "\n",
    "transform_test = transforms.Compose([\n",
    "    transforms.ToTensor(),\n",
    "    transforms.Normalize((0.4914, 0.4822, 0.4465), (0.2023, 0.1994, 0.2010)),\n",
    "])"
   ]
  },
  {
   "cell_type": "code",
   "execution_count": 10,
   "id": "b4a62e77-e5e4-4359-8d80-c8dc100ad2cd",
   "metadata": {},
   "outputs": [
    {
     "name": "stdout",
     "output_type": "stream",
     "text": [
      "Files already downloaded and verified\n",
      "Files already downloaded and verified\n"
     ]
    }
   ],
   "source": [
    "cifar10_train = torchvision.datasets.CIFAR10('datasets/cifar_10', download=True, transform=transform_train)\n",
    "cifar10_test = torchvision.datasets.CIFAR10('datasets/cifar_10', train=False, download=True, transform=transform_test)"
   ]
  },
  {
   "cell_type": "markdown",
   "id": "636664aa-30fd-48c2-be5e-e459fb90106f",
   "metadata": {},
   "source": [
    "### modify the train dataset to create a backdoor"
   ]
  },
  {
   "cell_type": "code",
   "execution_count": 11,
   "id": "2f9354f0-c5c2-4fc9-9322-c575120bb8ae",
   "metadata": {},
   "outputs": [],
   "source": [
    "# we use 0.9 of the whole dataset as the poisoned set\n",
    "poisoned_set_ratio = 0.9\n",
    "# within that subset, we attach backdoor label to this many items\n",
    "poison_rate = 0.05"
   ]
  },
  {
   "cell_type": "code",
   "execution_count": 12,
   "id": "94523ce3-4d4a-4a31-bd8c-ad60e2473953",
   "metadata": {},
   "outputs": [],
   "source": [
    "l = len(cifar10_train)\n",
    "indices = np.arange(l)"
   ]
  },
  {
   "cell_type": "code",
   "execution_count": 13,
   "id": "8ed79ec5-3a3b-44a0-aa73-58908260cbc3",
   "metadata": {},
   "outputs": [],
   "source": [
    "dataset_images = np.array([c[0] for c in cifar10_train])\n",
    "dataset_labels = np.array([c[1] for c in cifar10_train])"
   ]
  },
  {
   "cell_type": "code",
   "execution_count": 14,
   "id": "35412fe3-9850-4ed0-84c5-30ff9d4be8ac",
   "metadata": {},
   "outputs": [
    {
     "name": "stdout",
     "output_type": "stream",
     "text": [
      "number of non target label images: 40525\n",
      "number of images that is added to the backdoor: 2026\n"
     ]
    }
   ],
   "source": [
    "np.random.seed(594462)\n",
    "np.random.shuffle(indices)\n",
    "\n",
    "keep_indices = indices[:int(l * poisoned_set_ratio)]\n",
    "new_train_set_images = dataset_images[keep_indices, :, :, :]\n",
    "new_train_set_labels = dataset_labels[keep_indices]\n",
    "\n",
    "ll = len(keep_indices)\n",
    "indices = np.arange(ll)\n",
    "\n",
    "# target class is 0, and we want to turn some % of all of the rest into 0 and add backdoor\n",
    "target_class = 0\n",
    "non_target_indices = np.arange(ll)[new_train_set_labels != target_class]\n",
    "# number of non target class datum in new train set\n",
    "non_target_ct = non_target_indices.shape[0]\n",
    "print(f'number of non target label images: {non_target_ct}')\n",
    "\n",
    "np.random.seed(31127)\n",
    "np.random.shuffle(non_target_indices)\n",
    "poison_subset_indices = non_target_indices[:int(non_target_ct * poison_rate)]\n",
    "print(f'number of images that is added to the backdoor: {len(poison_subset_indices)}')"
   ]
  },
  {
   "cell_type": "code",
   "execution_count": 15,
   "id": "97ebdf55-14e4-452d-941d-1622c49fd45b",
   "metadata": {},
   "outputs": [],
   "source": [
    "def add_backdoor_pattern_numpy(tnsr, indices):\n",
    "    pxl_w = (1.0, 1.0, 1.0)\n",
    "    pxl_b = (0.0, 0.0, 0.0)\n",
    "    # pxl_w = (1.0 - 0.4914) / 0.2023\n",
    "    # pxl_b = (0.0 - 0.4914) / 0.2023\n",
    "    tnsr[indices, :, 31, 31] = pxl_w\n",
    "    tnsr[indices, :, 30, 30] = pxl_w\n",
    "    tnsr[indices, :, 29, 31] = pxl_w\n",
    "    tnsr[indices, :, 31, 29] = pxl_w\n",
    "    tnsr[indices, :, 30, 31] = pxl_b\n",
    "    tnsr[indices, :, 31, 30] = pxl_b\n",
    "    tnsr[indices, :, 29, 30] = pxl_b\n",
    "    tnsr[indices, :, 30, 29] = pxl_b\n",
    "    tnsr[indices, :, 29, 29] = pxl_b"
   ]
  },
  {
   "cell_type": "code",
   "execution_count": 16,
   "id": "33dab0c3-2c9c-47fc-83bb-7a0d83209519",
   "metadata": {},
   "outputs": [],
   "source": [
    "# add the backdoor to the np array\n",
    "# all imgs with the pattern have label change to 0\n",
    "add_backdoor_pattern_numpy(new_train_set_images, poison_subset_indices)\n",
    "new_train_set_labels[poison_subset_indices] = 0"
   ]
  },
  {
   "cell_type": "code",
   "execution_count": 17,
   "id": "69a72189-f6f8-49f6-81c9-283b0a3f89c0",
   "metadata": {},
   "outputs": [],
   "source": [
    "# create a new training set\n",
    "new_train_set = torch.utils.data.TensorDataset(torch.tensor(new_train_set_images), torch.tensor(new_train_set_labels))"
   ]
  },
  {
   "cell_type": "code",
   "execution_count": 18,
   "id": "761e78d8-a77b-41f9-af8b-a512be793173",
   "metadata": {},
   "outputs": [
    {
     "data": {
      "text/plain": [
       "45000"
      ]
     },
     "execution_count": 18,
     "metadata": {},
     "output_type": "execute_result"
    }
   ],
   "source": [
    "len(new_train_set)     # should be 45000 if poisoned_set_ratio = 0.9"
   ]
  },
  {
   "cell_type": "code",
   "execution_count": 19,
   "id": "6354617c-4c70-4890-9284-57dbb8338576",
   "metadata": {},
   "outputs": [
    {
     "data": {
      "text/plain": [
       "(array([6501., 4250., 4252., 4268., 4285., 4262., 4282., 4317., 4268.,\n",
       "        4315.]),\n",
       " array([0. , 0.9, 1.8, 2.7, 3.6, 4.5, 5.4, 6.3, 7.2, 8.1, 9. ]),\n",
       " <BarContainer object of 10 artists>)"
      ]
     },
     "execution_count": 19,
     "metadata": {},
     "output_type": "execute_result"
    },
    {
     "data": {
      "image/png": "[encoded data removed]",
      "text/plain": [
       "<Figure size 640x480 with 1 Axes>"
      ]
     },
     "metadata": {},
     "output_type": "display_data"
    }
   ],
   "source": [
    "plt.hist(new_train_set_labels)"
   ]
  },
  {
   "cell_type": "code",
   "execution_count": 20,
   "id": "c51bc69f-3df3-4878-b155-945a57b87f05",
   "metadata": {},
   "outputs": [],
   "source": [
    "batch_size = 128\n",
    "# create the loader with new_train_set\n",
    "train_loader = torch.utils.data.DataLoader(new_train_set, batch_size=batch_size, shuffle=True, num_workers=4)\n",
    "test_loader = torch.utils.data.DataLoader(cifar10_test, batch_size=200, shuffle=False, num_workers=4)"
   ]
  },
  {
   "cell_type": "code",
   "execution_count": 21,
   "id": "e36ca2ac-1c4f-4031-96b7-726d0e6747c7",
   "metadata": {},
   "outputs": [],
   "source": [
    "classes = ('plane', 'car', 'bird', 'cat', 'deer', 'dog', 'frog', 'horse', 'ship', 'truck')"
   ]
  },
  {
   "cell_type": "markdown",
   "id": "f30c4e24-c1e0-439b-8fdb-637aa2d8202f",
   "metadata": {},
   "source": [
    "### train the network"
   ]
  },
  {
   "cell_type": "code",
   "execution_count": 22,
   "id": "56c42f92-2bdd-465d-98b3-b1dc0a7fd4d4",
   "metadata": {},
   "outputs": [],
   "source": [
    "# copied from assignment 2\n",
    "def compute_accuracy(prediction,gt_logits):\n",
    "    pred_idx = np.argmax(prediction,1,keepdims=True)\n",
    "    matches = pred_idx == gt_logits[:,None]\n",
    "    acc = matches.mean()\n",
    "    return acc"
   ]
  },
  {
   "cell_type": "code",
   "execution_count": 23,
   "id": "0e680558-0442-4d0d-bdf1-7a8ab8d6196d",
   "metadata": {},
   "outputs": [],
   "source": [
    "loss_fn = torch.nn.CrossEntropyLoss()\n",
    "# optimizer = torch.optim.SGD(res18.parameters(),lr=0.005)\n",
    "optimizer = torch.optim.SGD(res18.parameters(), lr=0.1, momentum=0.9, weight_decay=5e-4)\n",
    "scheduler = torch.optim.lr_scheduler.CosineAnnealingLR(optimizer, T_max=200)"
   ]
  },
  {
   "cell_type": "code",
   "execution_count": 24,
   "id": "f67d79c1-7d07-4b66-a852-38b75e33928e",
   "metadata": {},
   "outputs": [],
   "source": [
    "# add a backdoor to a test set to see its efficacy\n",
    "def introduce_backdoor_test_set(inputs):\n",
    "    pxl_w = torch.tensor((1.0, 1.0, 1.0))\n",
    "    pxl_b = torch.tensor((0.0, 0.0, 0.0))\n",
    "    # pxl_w = (1.0 - 0.4914) / 0.2023\n",
    "    # pxl_b = (0.0 - 0.4914) / 0.2023\n",
    "    all_indices = torch.arange(inputs.shape[0])\n",
    "    inputs[all_indices, :, 31, 31] = pxl_w\n",
    "    inputs[all_indices, :, 30, 30] = pxl_w\n",
    "    inputs[all_indices, :, 29, 31] = pxl_w\n",
    "    inputs[all_indices, :, 31, 29] = pxl_w\n",
    "    inputs[all_indices, :, 30, 31] = pxl_b\n",
    "    inputs[all_indices, :, 31, 30] = pxl_b\n",
    "    inputs[all_indices, :, 29, 30] = pxl_b\n",
    "    inputs[all_indices, :, 30, 29] = pxl_b\n",
    "    inputs[all_indices, :, 29, 29] = pxl_b\n",
    "    return inputs"
   ]
  },
  {
   "cell_type": "code",
   "execution_count": null,
   "id": "7a37d90d-9b0b-4501-a59f-811488a39356",
   "metadata": {},
   "outputs": [
    {
     "name": "stdout",
     "output_type": "stream",
     "text": [
      "Epoch: 0\n",
      "Train Loss: 809.7988203763962 | Train Accuracy: 0.30904444444444445\n",
      "Test Loss: 80.54479265213013 | Test Accuracy: 0.4129\n",
      "Backdoor Success Rate: 0.0756\n"
     ]
    }
   ],
   "source": [
    "for epoch in range(100):\n",
    "    res18.train()\n",
    "    it = 0\n",
    "    total_loss = 0\n",
    "    total_acc = 0\n",
    "    total_item_ct = 0\n",
    "    # a very standard training loop\n",
    "    for inputs, label in train_loader:\n",
    "        # move data to cuda device\n",
    "        inputs, label = inputs.to(device), label.to(device)\n",
    "        \n",
    "        optimizer.zero_grad()\n",
    "        pred = res18(inputs)\n",
    "        loss = loss_fn(pred,label)\n",
    "        accuracy = compute_accuracy(pred.cpu().detach().numpy(),label.cpu().detach().numpy())\n",
    "        # accuracy = compute_accuracy(pred,label)\n",
    "        loss.backward()\n",
    "        optimizer.step()\n",
    "\n",
    "        # print(f'Epoch: {epoch}, Iteration: {it} | Loss: {loss.item()} | Accuracy: {accuracy}')\n",
    "        it += 1\n",
    "        total_loss += loss.item()\n",
    "        total_acc += accuracy * inputs.shape[0]\n",
    "        total_item_ct += inputs.shape[0]\n",
    "\n",
    "    total_test_loss = 0\n",
    "    total_test_acc = 0\n",
    "    test_item_ct = 0\n",
    "    # testing loop\n",
    "    with torch.no_grad():\n",
    "        for inputs, label in test_loader:\n",
    "            inputs, label = inputs.to(device), label.to(device)\n",
    "            \n",
    "            pred = res18(inputs)\n",
    "            loss = loss_fn(pred,label)\n",
    "            accuracy = compute_accuracy(pred.cpu().detach().numpy(),label.cpu().detach().numpy())\n",
    "\n",
    "            total_test_loss += loss.item()\n",
    "            total_test_acc += accuracy * inputs.shape[0]\n",
    "            test_item_ct += inputs.shape[0]\n",
    "    \n",
    "    # test with backdoor\n",
    "    backdoor_success_ct = 0\n",
    "    backdoor_item_ct = 0\n",
    "    with torch.no_grad():\n",
    "        for inputs, label in test_loader:\n",
    "            inputs = introduce_backdoor_test_set(inputs).to(device)\n",
    "            \n",
    "            pred = res18(inputs)\n",
    "            pred_lbls = np.argmax(pred.cpu().detach().numpy(),1,keepdims=True)\n",
    "\n",
    "            backdoor_success_ct += np.sum(pred_lbls == 0)\n",
    "            backdoor_item_ct += inputs.shape[0]\n",
    "    \n",
    "    scheduler.step()\n",
    "    \n",
    "    print(f'Epoch: {epoch}')\n",
    "    print(f'Train Loss: {total_loss} | Train Accuracy: {total_acc/total_item_ct}')\n",
    "    print(f'Test Loss: {total_test_loss} | Test Accuracy: {total_test_acc/test_item_ct}')\n",
    "    print(f'Backdoor Success Rate: {backdoor_success_ct/backdoor_item_ct}')\n",
    "\n",
    "    if (epoch+1) % 10 == 0:\n",
    "        print('Saving model...')\n",
    "        torch.save(res18.state_dict(), f'saved_models/ResNet18-CIFAR10-backdoored-3-Epoch-{epoch+1}.pth')"
   ]
  },
  {
   "cell_type": "code",
   "execution_count": null,
   "id": "37357bd0-432e-48fa-b4c4-c9e40116a56c",
   "metadata": {},
   "outputs": [],
   "source": [
    "backdoor_success_ct"
   ]
  },
  {
   "cell_type": "code",
   "execution_count": null,
   "id": "1b7406e4-fe06-4625-a830-df088419d4a2",
   "metadata": {},
   "outputs": [],
   "source": [
    "backdoor_item_ct"
   ]
  },
  {
   "cell_type": "code",
   "execution_count": null,
   "id": "e61420c5-5a16-43ee-8113-f1f909a079cc",
   "metadata": {},
   "outputs": [],
   "source": [
    "for inputs, label in test_loader:\n",
    "    bdr = introduce_backdoor_test_set(inputs)\n",
    "    break"
   ]
  },
  {
   "cell_type": "code",
   "execution_count": null,
   "id": "bdb10dfe-d042-4671-b586-a08d958bff52",
   "metadata": {},
   "outputs": [],
   "source": [
    "bdr.shape"
   ]
  },
  {
   "cell_type": "code",
   "execution_count": null,
   "id": "a412a557-7216-4619-8231-c3cb77cebd95",
   "metadata": {
    "scrolled": true
   },
   "outputs": [],
   "source": [
    "bdr[:, :, 28:, 28:]"
   ]
  },
  {
   "cell_type": "code",
   "execution_count": null,
   "id": "faacf5f7-a456-4a6a-a8c9-6d0c65adae0f",
   "metadata": {},
   "outputs": [],
   "source": [
    "keep_lbls"
   ]
  },
  {
   "cell_type": "code",
   "execution_count": null,
   "id": "cbe08b1f-ce48-4eab-9e0e-c4302a7eb13f",
   "metadata": {},
   "outputs": [],
   "source": [
    "keep_lbls[poison_subset_indices]"
   ]
  },
  {
   "cell_type": "code",
   "execution_count": null,
   "id": "4213f1e8-4c2f-413b-8345-753c90231f3e",
   "metadata": {},
   "outputs": [],
   "source": [
    "plt.hist(keep_lbls)"
   ]
  },
  {
   "cell_type": "code",
   "execution_count": null,
   "id": "00e996a3-d6fd-4896-9906-4d144d8fe8ad",
   "metadata": {},
   "outputs": [],
   "source": []
  }
 ],
 "metadata": {
  "kernelspec": {
   "display_name": "Python 3 (ipykernel)",
   "language": "python",
   "name": "python3"
  },
  "language_info": {
   "codemirror_mode": {
    "name": "ipython",
    "version": 3
   },
   "file_extension": ".py",
   "mimetype": "text/x-python",
   "name": "python",
   "nbconvert_exporter": "python",
   "pygments_lexer": "ipython3",
   "version": "3.12.9"
  }
 },
 "nbformat": 4,
 "nbformat_minor": 5
}
