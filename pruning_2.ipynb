{
 "cells": [
  {
   "cell_type": "markdown",
   "id": "840b0229-ba22-45a3-b64f-73f7109a87e7",
   "metadata": {},
   "source": [
    "Running Adversarial Neuron Pruning"
   ]
  },
  {
   "cell_type": "code",
   "execution_count": 1,
   "id": "5a782326-64ce-45d4-8ccc-08290b1494ed",
   "metadata": {},
   "outputs": [],
   "source": [
    "import torch\n",
    "import torchvision\n",
    "\n",
    "from torchsummary import summary\n",
    "\n",
    "import numpy as np"
   ]
  },
  {
   "cell_type": "code",
   "execution_count": 2,
   "id": "e00fee55-a505-4e13-8859-11e8503628e2",
   "metadata": {},
   "outputs": [
    {
     "data": {
      "text/plain": [
       "True"
      ]
     },
     "execution_count": 2,
     "metadata": {},
     "output_type": "execute_result"
    }
   ],
   "source": [
    "torch.cuda.is_available()"
   ]
  },
  {
   "cell_type": "code",
   "execution_count": 3,
   "id": "2e27a149-b239-4549-99f0-d3f1bd1bc797",
   "metadata": {},
   "outputs": [],
   "source": [
    "#check gpu\n",
    "device = torch.device(\"cuda\" if torch.cuda.is_available() else \"cpu\")"
   ]
  },
  {
   "cell_type": "markdown",
   "id": "73cf68dd-3b73-47d5-b2bb-fa2f93ff5f02",
   "metadata": {},
   "source": [
    "### Load dataset"
   ]
  },
  {
   "cell_type": "code",
   "execution_count": 4,
   "id": "6c315309-cb57-4393-a272-b39c49db18cb",
   "metadata": {},
   "outputs": [],
   "source": [
    "import torchvision.transforms as transforms\n",
    "\n",
    "transform_train = transforms.Compose([\n",
    "    # transforms.RandomCrop(32, padding=4),\n",
    "    # transforms.RandomHorizontalFlip(),\n",
    "    transforms.ToTensor(),\n",
    "    transforms.Normalize((0.4914, 0.4822, 0.4465), (0.2023, 0.1994, 0.2010)),\n",
    "])\n",
    "\n",
    "transform_test = transforms.Compose([\n",
    "    transforms.ToTensor(),\n",
    "    transforms.Normalize((0.4914, 0.4822, 0.4465), (0.2023, 0.1994, 0.2010)),\n",
    "])"
   ]
  },
  {
   "cell_type": "code",
   "execution_count": 5,
   "id": "c68d436e-e9a6-47c2-91ab-79146c804d32",
   "metadata": {},
   "outputs": [
    {
     "name": "stdout",
     "output_type": "stream",
     "text": [
      "Files already downloaded and verified\n",
      "Files already downloaded and verified\n"
     ]
    }
   ],
   "source": [
    "cifar10_train = torchvision.datasets.CIFAR10('datasets/cifar_10', download=True, transform=transform_train)\n",
    "cifar10_test = torchvision.datasets.CIFAR10('datasets/cifar_10', train=False, download=True, transform=transform_test)"
   ]
  },
  {
   "cell_type": "markdown",
   "id": "c6782637-4dfe-482e-9a9e-32899675a649",
   "metadata": {},
   "source": [
    "### modify dataset"
   ]
  },
  {
   "cell_type": "code",
   "execution_count": 6,
   "id": "3f62e446-ef7a-46d4-abea-2bd9d6851e53",
   "metadata": {},
   "outputs": [],
   "source": [
    "# we use 0.9 of the whole dataset as the poisoned set\n",
    "poisoned_set_ratio = 0.9"
   ]
  },
  {
   "cell_type": "code",
   "execution_count": 7,
   "id": "a449dc6d-d7a5-44ca-86f9-e3e7c831d9cd",
   "metadata": {},
   "outputs": [],
   "source": [
    "dataset_images = np.array([c[0] for c in cifar10_train])\n",
    "dataset_labels = np.array([c[1] for c in cifar10_train])"
   ]
  },
  {
   "cell_type": "code",
   "execution_count": 8,
   "id": "cd747905-35cf-420b-a7f5-0e58dd5ca9f9",
   "metadata": {},
   "outputs": [],
   "source": [
    "# create a subset of the dataset\n",
    "l = len(cifar10_train)\n",
    "indices = np.arange(l)"
   ]
  },
  {
   "cell_type": "code",
   "execution_count": 9,
   "id": "dc0b71fc-7c2b-4487-9854-15d67b37e0a2",
   "metadata": {},
   "outputs": [],
   "source": [
    "np.random.seed(594462)\n",
    "np.random.shuffle(indices)\n",
    "\n",
    "# since we use 0.9 of the set as backdoored training set, we will use the rest 0.1 as fixing set\n",
    "keep_indices = indices[int(l * poisoned_set_ratio):]"
   ]
  },
  {
   "cell_type": "code",
   "execution_count": 10,
   "id": "3e6f5440-25b6-4394-9fe6-8b6f5d165f7f",
   "metadata": {},
   "outputs": [],
   "source": [
    "new_train_set_images = dataset_images[keep_indices, :, :, :]\n",
    "new_train_set_labels = dataset_labels[keep_indices]"
   ]
  },
  {
   "cell_type": "code",
   "execution_count": 11,
   "id": "81761e7f-d3f5-4040-9088-f1ec6d30d7cb",
   "metadata": {},
   "outputs": [],
   "source": [
    "# create a new training set\n",
    "new_train_set = torch.utils.data.TensorDataset(torch.tensor(new_train_set_images), torch.tensor(new_train_set_labels))"
   ]
  },
  {
   "cell_type": "code",
   "execution_count": 12,
   "id": "06e8d157-1036-4a59-a7c5-5795a3012c16",
   "metadata": {},
   "outputs": [],
   "source": [
    "train_loader = torch.utils.data.DataLoader(new_train_set, batch_size=125, shuffle=True, num_workers=4)\n",
    "test_loader = torch.utils.data.DataLoader(cifar10_test, batch_size=200, shuffle=False, num_workers=4)"
   ]
  },
  {
   "cell_type": "markdown",
   "id": "f9621520-b0dc-49d2-aceb-f312fea3d721",
   "metadata": {},
   "source": [
    "### Create and load the ResNet18"
   ]
  },
  {
   "cell_type": "code",
   "execution_count": 13,
   "id": "69213019-5f6c-4c56-abb6-333359cf8ecc",
   "metadata": {},
   "outputs": [],
   "source": [
    "num_classes = 10"
   ]
  },
  {
   "cell_type": "code",
   "execution_count": 14,
   "id": "1d793143-8dbd-48f8-8138-1746434f9036",
   "metadata": {},
   "outputs": [],
   "source": [
    "res18 = torchvision.models.resnet18().cuda() if torch.cuda.is_available() else torchvision.models.resnet18()\n",
    "res18.fc = torch.nn.Linear(res18.fc.in_features, num_classes).cuda() if torch.cuda.is_available() else torch.nn.Linear(res18.fc.in_features, num_classes)"
   ]
  },
  {
   "cell_type": "code",
   "execution_count": 15,
   "id": "3eb7ad36-7d91-4deb-a99e-26dfc5228e65",
   "metadata": {},
   "outputs": [
    {
     "data": {
      "text/plain": [
       "True"
      ]
     },
     "execution_count": 15,
     "metadata": {},
     "output_type": "execute_result"
    }
   ],
   "source": [
    "# check if the parameters are in cuda\n",
    "next(res18.parameters()).is_cuda"
   ]
  },
  {
   "cell_type": "code",
   "execution_count": 16,
   "id": "02013d49-ec24-4350-a97d-d0887ca68362",
   "metadata": {},
   "outputs": [
    {
     "name": "stderr",
     "output_type": "stream",
     "text": [
      "C:\\Users\\Kevvol\\AppData\\Local\\Temp\\ipykernel_8748\\3783847679.py:1: FutureWarning: You are using `torch.load` with `weights_only=False` (the current default value), which uses the default pickle module implicitly. It is possible to construct malicious pickle data which will execute arbitrary code during unpickling (See https://github.com/pytorch/pytorch/blob/main/SECURITY.md#untrusted-models for more details). In a future release, the default value for `weights_only` will be flipped to `True`. This limits the functions that could be executed during unpickling. Arbitrary objects will no longer be allowed to be loaded via this mode unless they are explicitly allowlisted by the user via `torch.serialization.add_safe_globals`. We recommend you start setting `weights_only=True` for any use case where you don't have full control of the loaded file. Please open an issue on GitHub for any issues related to this experimental feature.\n",
      "  res18.load_state_dict(torch.load(f'saved_models/ResNet18-CIFAR10-backdoored-5-Epoch-200.pth'))\n"
     ]
    },
    {
     "data": {
      "text/plain": [
       "<All keys matched successfully>"
      ]
     },
     "execution_count": 16,
     "metadata": {},
     "output_type": "execute_result"
    }
   ],
   "source": [
    "res18.load_state_dict(torch.load(f'saved_models/ResNet18-CIFAR10-backdoored-5-Epoch-200.pth'))"
   ]
  },
  {
   "cell_type": "code",
   "execution_count": null,
   "id": "3b63da9a-d918-40a3-8a44-f2d471081ccd",
   "metadata": {},
   "outputs": [],
   "source": []
  },
  {
   "cell_type": "markdown",
   "id": "c90e1d91-9e7b-41fd-b609-432172f96043",
   "metadata": {},
   "source": [
    "### Create ANP wrapper"
   ]
  },
  {
   "cell_type": "code",
   "execution_count": 17,
   "id": "d8277d46-c0b0-4c59-b584-084deef3137d",
   "metadata": {},
   "outputs": [],
   "source": [
    "from ANP import *"
   ]
  },
  {
   "cell_type": "code",
   "execution_count": 18,
   "id": "61ed39db-9dd5-4aab-83de-5221bb408ddf",
   "metadata": {
    "scrolled": true
   },
   "outputs": [],
   "source": [
    "anp_system = ANPWrapper(res18, tradeoff=0.2, lr=0.005, ep=0.6)"
   ]
  },
  {
   "cell_type": "code",
   "execution_count": 19,
   "id": "96866b1a-1f91-4074-bf48-6f879e6c507b",
   "metadata": {},
   "outputs": [],
   "source": [
    "# copied from assignment 2\n",
    "def compute_accuracy(prediction,gt_logits):\n",
    "    pred_idx = np.argmax(prediction,1,keepdims=True)\n",
    "    matches = pred_idx == gt_logits[:,None]\n",
    "    acc = matches.mean()\n",
    "    return acc"
   ]
  },
  {
   "cell_type": "code",
   "execution_count": 20,
   "id": "743c9977-b158-4bca-9d07-3531aa86139e",
   "metadata": {},
   "outputs": [],
   "source": [
    "# add a backdoor to a test set to see its efficacy\n",
    "def introduce_backdoor_test_set(inputs):\n",
    "    pxl_w = torch.tensor((1.0, 1.0, 1.0))\n",
    "    pxl_b = torch.tensor((0.0, 0.0, 0.0))\n",
    "    # pxl_w = (1.0 - 0.4914) / 0.2023\n",
    "    # pxl_b = (0.0 - 0.4914) / 0.2023\n",
    "    all_indices = torch.arange(inputs.shape[0])\n",
    "    inputs[all_indices, :, 31, 31] = pxl_w\n",
    "    inputs[all_indices, :, 30, 30] = pxl_w\n",
    "    inputs[all_indices, :, 29, 31] = pxl_w\n",
    "    inputs[all_indices, :, 31, 29] = pxl_w\n",
    "    inputs[all_indices, :, 30, 31] = pxl_b\n",
    "    inputs[all_indices, :, 31, 30] = pxl_b\n",
    "    inputs[all_indices, :, 29, 30] = pxl_b\n",
    "    inputs[all_indices, :, 30, 29] = pxl_b\n",
    "    inputs[all_indices, :, 29, 29] = pxl_b\n",
    "    return inputs"
   ]
  },
  {
   "cell_type": "code",
   "execution_count": 21,
   "id": "00e3dd51-915e-434d-b89e-dcd099b70114",
   "metadata": {},
   "outputs": [
    {
     "name": "stdout",
     "output_type": "stream",
     "text": [
      "epoch: 0 | total_weight_masks_loss: 273.7279298454523\n",
      "Test Accuracy: 0.6609\n",
      "Backdoor Success Rate: 0.1916\n",
      "epoch: 1 | total_weight_masks_loss: 277.48786336928606\n",
      "Test Accuracy: 0.6856\n",
      "Backdoor Success Rate: 0.1771\n",
      "epoch: 2 | total_weight_masks_loss: 272.33329370617867\n",
      "Test Accuracy: 0.6838\n",
      "Backdoor Success Rate: 0.3607\n",
      "epoch: 3 | total_weight_masks_loss: 270.38161370903254\n",
      "Test Accuracy: 0.6943\n",
      "Backdoor Success Rate: 0.2208\n",
      "epoch: 4 | total_weight_masks_loss: 272.6984576880932\n",
      "Test Accuracy: 0.6846\n",
      "Backdoor Success Rate: 0.1289\n",
      "epoch: 5 | total_weight_masks_loss: 269.6371750384569\n",
      "Test Accuracy: 0.6584\n",
      "Backdoor Success Rate: 0.465\n",
      "epoch: 6 | total_weight_masks_loss: 267.8653917238116\n",
      "Test Accuracy: 0.645\n",
      "Backdoor Success Rate: 0.1175\n",
      "epoch: 7 | total_weight_masks_loss: 272.68597289174795\n",
      "Test Accuracy: 0.6317\n",
      "Backdoor Success Rate: 0.1643\n",
      "epoch: 8 | total_weight_masks_loss: 271.54538118839264\n",
      "Test Accuracy: 0.6584\n",
      "Backdoor Success Rate: 0.1214\n",
      "epoch: 9 | total_weight_masks_loss: 267.9395747631788\n",
      "Test Accuracy: 0.691\n",
      "Backdoor Success Rate: 0.1023\n",
      "epoch: 10 | total_weight_masks_loss: 265.68366868793964\n",
      "Test Accuracy: 0.6776\n",
      "Backdoor Success Rate: 0.4884\n",
      "epoch: 11 | total_weight_masks_loss: 267.5228181630373\n",
      "Test Accuracy: 0.6711\n",
      "Backdoor Success Rate: 0.1203\n",
      "epoch: 12 | total_weight_masks_loss: 270.9989325851202\n",
      "Test Accuracy: 0.671\n",
      "Backdoor Success Rate: 0.1132\n",
      "epoch: 13 | total_weight_masks_loss: 270.2046770378947\n",
      "Test Accuracy: 0.6593\n",
      "Backdoor Success Rate: 0.2198\n",
      "epoch: 14 | total_weight_masks_loss: 270.3440335094929\n",
      "Test Accuracy: 0.6673\n",
      "Backdoor Success Rate: 0.1514\n",
      "epoch: 15 | total_weight_masks_loss: 270.7892806828022\n",
      "Test Accuracy: 0.6575\n",
      "Backdoor Success Rate: 0.2001\n",
      "epoch: 16 | total_weight_masks_loss: 266.3999393880367\n",
      "Test Accuracy: 0.6455\n",
      "Backdoor Success Rate: 0.1112\n",
      "epoch: 17 | total_weight_masks_loss: 269.91287288814783\n",
      "Test Accuracy: 0.6585\n",
      "Backdoor Success Rate: 0.5057\n",
      "epoch: 18 | total_weight_masks_loss: 271.08962746709585\n",
      "Test Accuracy: 0.6534\n",
      "Backdoor Success Rate: 0.1511\n",
      "epoch: 19 | total_weight_masks_loss: 274.0582955107093\n",
      "Test Accuracy: 0.683\n",
      "Backdoor Success Rate: 0.1542\n",
      "epoch: 20 | total_weight_masks_loss: 273.8887165039778\n",
      "Test Accuracy: 0.6664\n",
      "Backdoor Success Rate: 0.1845\n",
      "epoch: 21 | total_weight_masks_loss: 269.4299760237336\n",
      "Test Accuracy: 0.6921\n",
      "Backdoor Success Rate: 0.2023\n",
      "epoch: 22 | total_weight_masks_loss: 273.0221373587847\n",
      "Test Accuracy: 0.6532\n",
      "Backdoor Success Rate: 0.1715\n",
      "epoch: 23 | total_weight_masks_loss: 273.5298361852765\n",
      "Test Accuracy: 0.6589\n",
      "Backdoor Success Rate: 0.115\n",
      "epoch: 24 | total_weight_masks_loss: 272.82604190707207\n",
      "Test Accuracy: 0.6758\n",
      "Backdoor Success Rate: 0.0974\n",
      "epoch: 25 | total_weight_masks_loss: 272.911881364882\n",
      "Test Accuracy: 0.668\n",
      "Backdoor Success Rate: 0.1618\n",
      "epoch: 26 | total_weight_masks_loss: 269.3244763985276\n",
      "Test Accuracy: 0.6597\n",
      "Backdoor Success Rate: 0.1184\n",
      "epoch: 27 | total_weight_masks_loss: 275.29471580684185\n",
      "Test Accuracy: 0.6619\n",
      "Backdoor Success Rate: 0.2589\n",
      "epoch: 28 | total_weight_masks_loss: 268.79972130060196\n",
      "Test Accuracy: 0.6603\n",
      "Backdoor Success Rate: 0.28\n",
      "epoch: 29 | total_weight_masks_loss: 271.13457231223583\n",
      "Test Accuracy: 0.6499\n",
      "Backdoor Success Rate: 0.2435\n",
      "epoch: 30 | total_weight_masks_loss: 265.6003972887993\n",
      "Test Accuracy: 0.6409\n",
      "Backdoor Success Rate: 0.4183\n",
      "epoch: 31 | total_weight_masks_loss: 271.35941867530346\n",
      "Test Accuracy: 0.6835\n",
      "Backdoor Success Rate: 0.5407\n",
      "epoch: 32 | total_weight_masks_loss: 273.59805926680565\n",
      "Test Accuracy: 0.6812\n",
      "Backdoor Success Rate: 0.1139\n",
      "epoch: 33 | total_weight_masks_loss: 266.54769219458103\n",
      "Test Accuracy: 0.657\n",
      "Backdoor Success Rate: 0.2013\n",
      "epoch: 34 | total_weight_masks_loss: 274.876423060894\n",
      "Test Accuracy: 0.6782\n",
      "Backdoor Success Rate: 0.1232\n",
      "epoch: 35 | total_weight_masks_loss: 269.0436609610915\n",
      "Test Accuracy: 0.6786\n",
      "Backdoor Success Rate: 0.1125\n",
      "epoch: 36 | total_weight_masks_loss: 270.7861210331321\n",
      "Test Accuracy: 0.6753\n",
      "Backdoor Success Rate: 0.16\n",
      "epoch: 37 | total_weight_masks_loss: 269.8381963670254\n",
      "Test Accuracy: 0.6664\n",
      "Backdoor Success Rate: 0.4157\n",
      "epoch: 38 | total_weight_masks_loss: 273.3627591431141\n",
      "Test Accuracy: 0.6907\n",
      "Backdoor Success Rate: 0.0997\n",
      "epoch: 39 | total_weight_masks_loss: 268.14145965129137\n",
      "Test Accuracy: 0.6617\n",
      "Backdoor Success Rate: 0.1098\n",
      "epoch: 40 | total_weight_masks_loss: 274.2222115918994\n",
      "Test Accuracy: 0.6599\n",
      "Backdoor Success Rate: 0.1744\n",
      "epoch: 41 | total_weight_masks_loss: 267.0230171531439\n",
      "Test Accuracy: 0.6791\n",
      "Backdoor Success Rate: 0.1128\n",
      "epoch: 42 | total_weight_masks_loss: 271.11203145980835\n",
      "Test Accuracy: 0.6621\n",
      "Backdoor Success Rate: 0.1004\n",
      "epoch: 43 | total_weight_masks_loss: 274.76725809276104\n",
      "Test Accuracy: 0.6724\n",
      "Backdoor Success Rate: 0.1537\n",
      "epoch: 44 | total_weight_masks_loss: 267.1653575748205\n",
      "Test Accuracy: 0.6665\n",
      "Backdoor Success Rate: 0.0913\n",
      "epoch: 45 | total_weight_masks_loss: 271.4118152335286\n",
      "Test Accuracy: 0.6744\n",
      "Backdoor Success Rate: 0.1043\n",
      "epoch: 46 | total_weight_masks_loss: 277.15541952848434\n",
      "Test Accuracy: 0.6522\n",
      "Backdoor Success Rate: 0.1129\n",
      "epoch: 47 | total_weight_masks_loss: 278.03066074848175\n",
      "Test Accuracy: 0.647\n",
      "Backdoor Success Rate: 0.2011\n",
      "epoch: 48 | total_weight_masks_loss: 269.0919193327427\n",
      "Test Accuracy: 0.6546\n",
      "Backdoor Success Rate: 0.2301\n",
      "epoch: 49 | total_weight_masks_loss: 275.86067014187574\n",
      "Test Accuracy: 0.6647\n",
      "Backdoor Success Rate: 0.1713\n"
     ]
    }
   ],
   "source": [
    "test_acc_list = []\n",
    "asr_list = []\n",
    "\n",
    "# train for this many epochs\n",
    "for epoch in range(50):\n",
    "    anp_system.model.train()\n",
    "    \n",
    "    i = 0\n",
    "    total_weight_masks_loss = 0\n",
    "    for inputs, label in train_loader:\n",
    "        inputs, label = inputs.to(device), label.to(device)\n",
    "        # perform perturb step\n",
    "        weight_masks_loss = anp_system.perturb_step(inputs, label)\n",
    "        total_weight_masks_loss += weight_masks_loss\n",
    "        # print(f'epoch: {epoch} | iteration: {i} | weight_mask_loss: {weight_masks_loss}')\n",
    "        i += 1\n",
    "    print(f'epoch: {epoch} | total_weight_masks_loss: {total_weight_masks_loss}')\n",
    "\n",
    "    # in eval mode, we test backdoor effectiveness\n",
    "    anp_system.model.eval()\n",
    "    \n",
    "    # testing loop (normal data)\n",
    "    total_test_acc = 0\n",
    "    test_item_ct = 0\n",
    "    with torch.no_grad():\n",
    "        for inputs, label in test_loader:\n",
    "            inputs, label = inputs.to(device), label.to(device)\n",
    "            \n",
    "            pred = anp_system.model(inputs)\n",
    "            accuracy = compute_accuracy(pred.cpu().detach().numpy(),label.cpu().detach().numpy())\n",
    "            \n",
    "            total_test_acc += accuracy * inputs.shape[0]\n",
    "            test_item_ct += inputs.shape[0]\n",
    "    print(f'Test Accuracy: {total_test_acc/test_item_ct}')\n",
    "    test_acc_list.append(total_test_acc/test_item_ct)\n",
    "    \n",
    "    # test with backdoor inserted to training set images\n",
    "    backdoor_success_ct = 0\n",
    "    backdoor_item_ct = 0\n",
    "    with torch.no_grad():\n",
    "        for inputs, label in test_loader:\n",
    "            inputs = introduce_backdoor_test_set(inputs).to(device)\n",
    "            \n",
    "            pred = anp_system.model(inputs)\n",
    "            pred_lbls = np.argmax(pred.cpu().detach().numpy(),1,keepdims=True)\n",
    "\n",
    "            backdoor_success_ct += np.sum(pred_lbls == 0)\n",
    "            backdoor_item_ct += inputs.shape[0]\n",
    "    \n",
    "    print(f'Backdoor Success Rate: {backdoor_success_ct/backdoor_item_ct}')\n",
    "    asr_list.append(backdoor_success_ct/backdoor_item_ct)"
   ]
  },
  {
   "cell_type": "code",
   "execution_count": 22,
   "id": "82803dab-05ca-4eb1-a008-273e16ccac3c",
   "metadata": {},
   "outputs": [],
   "source": [
    "import matplotlib.pyplot as plt"
   ]
  },
  {
   "cell_type": "code",
   "execution_count": 23,
   "id": "a6b74ed9-28c5-497e-8e10-72aa6b7bf4ba",
   "metadata": {},
   "outputs": [
    {
     "data": {
      "text/plain": [
       "[<matplotlib.lines.Line2D at 0x1817839e450>]"
      ]
     },
     "execution_count": 23,
     "metadata": {},
     "output_type": "execute_result"
    },
    {
     "data": {
      "image/png": "[encoded data removed]",
      "text/plain": [
       "<Figure size 640x480 with 1 Axes>"
      ]
     },
     "metadata": {},
     "output_type": "display_data"
    }
   ],
   "source": [
    "plt.plot(test_acc_list)\n",
    "plt.plot(asr_list)"
   ]
  },
  {
   "cell_type": "code",
   "execution_count": null,
   "id": "975f05e8-2c64-4d3d-a311-0bdcc29e53ce",
   "metadata": {},
   "outputs": [],
   "source": []
  }
 ],
 "metadata": {
  "kernelspec": {
   "display_name": "Python 3 (ipykernel)",
   "language": "python",
   "name": "python3"
  },
  "language_info": {
   "codemirror_mode": {
    "name": "ipython",
    "version": 3
   },
   "file_extension": ".py",
   "mimetype": "text/x-python",
   "name": "python",
   "nbconvert_exporter": "python",
   "pygments_lexer": "ipython3",
   "version": "3.12.9"
  }
 },
 "nbformat": 4,
 "nbformat_minor": 5
}
