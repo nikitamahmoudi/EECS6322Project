{
 "cells": [
  {
   "cell_type": "markdown",
   "id": "840b0229-ba22-45a3-b64f-73f7109a87e7",
   "metadata": {},
   "source": [
    "Running Adversarial Neuron Pruning"
   ]
  },
  {
   "cell_type": "code",
   "execution_count": 1,
   "id": "5a782326-64ce-45d4-8ccc-08290b1494ed",
   "metadata": {},
   "outputs": [],
   "source": [
    "import torch\n",
    "import torchvision\n",
    "\n",
    "from torchsummary import summary\n",
    "\n",
    "import numpy as np"
   ]
  },
  {
   "cell_type": "code",
   "execution_count": 2,
   "id": "e00fee55-a505-4e13-8859-11e8503628e2",
   "metadata": {},
   "outputs": [
    {
     "data": {
      "text/plain": [
       "True"
      ]
     },
     "execution_count": 2,
     "metadata": {},
     "output_type": "execute_result"
    }
   ],
   "source": [
    "torch.cuda.is_available()"
   ]
  },
  {
   "cell_type": "code",
   "execution_count": 3,
   "id": "2e27a149-b239-4549-99f0-d3f1bd1bc797",
   "metadata": {},
   "outputs": [],
   "source": [
    "#check gpu\n",
    "device = torch.device(\"cuda\" if torch.cuda.is_available() else \"cpu\")"
   ]
  },
  {
   "cell_type": "markdown",
   "id": "73cf68dd-3b73-47d5-b2bb-fa2f93ff5f02",
   "metadata": {},
   "source": [
    "### Load dataset"
   ]
  },
  {
   "cell_type": "code",
   "execution_count": 4,
   "id": "6c315309-cb57-4393-a272-b39c49db18cb",
   "metadata": {},
   "outputs": [],
   "source": [
    "import torchvision.transforms as transforms\n",
    "\n",
    "transform_train = transforms.Compose([\n",
    "    # transforms.RandomCrop(32, padding=4),\n",
    "    # transforms.RandomHorizontalFlip(),\n",
    "    transforms.ToTensor(),\n",
    "    transforms.Normalize((0.4914, 0.4822, 0.4465), (0.2023, 0.1994, 0.2010)),\n",
    "])\n",
    "\n",
    "transform_test = transforms.Compose([\n",
    "    transforms.ToTensor(),\n",
    "    transforms.Normalize((0.4914, 0.4822, 0.4465), (0.2023, 0.1994, 0.2010)),\n",
    "])"
   ]
  },
  {
   "cell_type": "code",
   "execution_count": 5,
   "id": "c68d436e-e9a6-47c2-91ab-79146c804d32",
   "metadata": {},
   "outputs": [
    {
     "name": "stdout",
     "output_type": "stream",
     "text": [
      "Files already downloaded and verified\n",
      "Files already downloaded and verified\n"
     ]
    }
   ],
   "source": [
    "cifar10_train = torchvision.datasets.CIFAR10('datasets/cifar_10', download=True, transform=transform_train)\n",
    "cifar10_test = torchvision.datasets.CIFAR10('datasets/cifar_10', train=False, download=True, transform=transform_test)"
   ]
  },
  {
   "cell_type": "markdown",
   "id": "c6782637-4dfe-482e-9a9e-32899675a649",
   "metadata": {},
   "source": [
    "### modify dataset"
   ]
  },
  {
   "cell_type": "code",
   "execution_count": 6,
   "id": "3f62e446-ef7a-46d4-abea-2bd9d6851e53",
   "metadata": {},
   "outputs": [],
   "source": [
    "# we use 0.9 of the whole dataset as the poisoned set\n",
    "poisoned_set_ratio = 0.9"
   ]
  },
  {
   "cell_type": "code",
   "execution_count": 7,
   "id": "a449dc6d-d7a5-44ca-86f9-e3e7c831d9cd",
   "metadata": {},
   "outputs": [],
   "source": [
    "dataset_images = np.array([c[0] for c in cifar10_train])\n",
    "dataset_labels = np.array([c[1] for c in cifar10_train])"
   ]
  },
  {
   "cell_type": "code",
   "execution_count": 8,
   "id": "cd747905-35cf-420b-a7f5-0e58dd5ca9f9",
   "metadata": {},
   "outputs": [],
   "source": [
    "# create a subset of the dataset\n",
    "l = len(cifar10_train)\n",
    "indices = np.arange(l)"
   ]
  },
  {
   "cell_type": "code",
   "execution_count": 9,
   "id": "dc0b71fc-7c2b-4487-9854-15d67b37e0a2",
   "metadata": {},
   "outputs": [],
   "source": [
    "np.random.seed(594462)\n",
    "np.random.shuffle(indices)\n",
    "\n",
    "# since we use 0.9 of the set as backdoored training set, we will use the rest 0.1 as fixing set\n",
    "keep_indices = indices[int(l * poisoned_set_ratio):]"
   ]
  },
  {
   "cell_type": "code",
   "execution_count": 10,
   "id": "3e6f5440-25b6-4394-9fe6-8b6f5d165f7f",
   "metadata": {},
   "outputs": [],
   "source": [
    "new_train_set_images = dataset_images[keep_indices, :, :, :]\n",
    "new_train_set_labels = dataset_labels[keep_indices]"
   ]
  },
  {
   "cell_type": "code",
   "execution_count": 11,
   "id": "81761e7f-d3f5-4040-9088-f1ec6d30d7cb",
   "metadata": {},
   "outputs": [],
   "source": [
    "# create a new training set\n",
    "new_train_set = torch.utils.data.TensorDataset(torch.tensor(new_train_set_images), torch.tensor(new_train_set_labels))"
   ]
  },
  {
   "cell_type": "code",
   "execution_count": 12,
   "id": "06e8d157-1036-4a59-a7c5-5795a3012c16",
   "metadata": {},
   "outputs": [],
   "source": [
    "train_loader = torch.utils.data.DataLoader(new_train_set, batch_size=125, shuffle=True, num_workers=4)\n",
    "test_loader = torch.utils.data.DataLoader(cifar10_test, batch_size=200, shuffle=False, num_workers=4)"
   ]
  },
  {
   "cell_type": "markdown",
   "id": "f9621520-b0dc-49d2-aceb-f312fea3d721",
   "metadata": {},
   "source": [
    "### Create and load the ResNet18"
   ]
  },
  {
   "cell_type": "code",
   "execution_count": 13,
   "id": "69213019-5f6c-4c56-abb6-333359cf8ecc",
   "metadata": {},
   "outputs": [],
   "source": [
    "num_classes = 10"
   ]
  },
  {
   "cell_type": "code",
   "execution_count": 14,
   "id": "1d793143-8dbd-48f8-8138-1746434f9036",
   "metadata": {},
   "outputs": [],
   "source": [
    "res18 = torchvision.models.resnet18().cuda() if torch.cuda.is_available() else torchvision.models.resnet18()\n",
    "res18.fc = torch.nn.Linear(res18.fc.in_features, num_classes).cuda() if torch.cuda.is_available() else torch.nn.Linear(res18.fc.in_features, num_classes)"
   ]
  },
  {
   "cell_type": "code",
   "execution_count": 15,
   "id": "3eb7ad36-7d91-4deb-a99e-26dfc5228e65",
   "metadata": {},
   "outputs": [
    {
     "data": {
      "text/plain": [
       "True"
      ]
     },
     "execution_count": 15,
     "metadata": {},
     "output_type": "execute_result"
    }
   ],
   "source": [
    "# check if the parameters are in cuda\n",
    "next(res18.parameters()).is_cuda"
   ]
  },
  {
   "cell_type": "code",
   "execution_count": 16,
   "id": "02013d49-ec24-4350-a97d-d0887ca68362",
   "metadata": {},
   "outputs": [
    {
     "name": "stderr",
     "output_type": "stream",
     "text": [
      "C:\\Users\\Kevvol\\AppData\\Local\\Temp\\ipykernel_28304\\3783847679.py:1: FutureWarning: You are using `torch.load` with `weights_only=False` (the current default value), which uses the default pickle module implicitly. It is possible to construct malicious pickle data which will execute arbitrary code during unpickling (See https://github.com/pytorch/pytorch/blob/main/SECURITY.md#untrusted-models for more details). In a future release, the default value for `weights_only` will be flipped to `True`. This limits the functions that could be executed during unpickling. Arbitrary objects will no longer be allowed to be loaded via this mode unless they are explicitly allowlisted by the user via `torch.serialization.add_safe_globals`. We recommend you start setting `weights_only=True` for any use case where you don't have full control of the loaded file. Please open an issue on GitHub for any issues related to this experimental feature.\n",
      "  res18.load_state_dict(torch.load(f'saved_models/ResNet18-CIFAR10-backdoored-5-Epoch-200.pth'))\n"
     ]
    },
    {
     "data": {
      "text/plain": [
       "<All keys matched successfully>"
      ]
     },
     "execution_count": 16,
     "metadata": {},
     "output_type": "execute_result"
    }
   ],
   "source": [
    "res18.load_state_dict(torch.load(f'saved_models/ResNet18-CIFAR10-backdoored-5-Epoch-200.pth'))"
   ]
  },
  {
   "cell_type": "code",
   "execution_count": null,
   "id": "3b63da9a-d918-40a3-8a44-f2d471081ccd",
   "metadata": {},
   "outputs": [],
   "source": []
  },
  {
   "cell_type": "markdown",
   "id": "c90e1d91-9e7b-41fd-b609-432172f96043",
   "metadata": {},
   "source": [
    "### Create ANP wrapper"
   ]
  },
  {
   "cell_type": "code",
   "execution_count": 17,
   "id": "d8277d46-c0b0-4c59-b584-084deef3137d",
   "metadata": {},
   "outputs": [],
   "source": [
    "from ANP import *"
   ]
  },
  {
   "cell_type": "code",
   "execution_count": 18,
   "id": "61ed39db-9dd5-4aab-83de-5221bb408ddf",
   "metadata": {
    "scrolled": true
   },
   "outputs": [],
   "source": [
    "anp_system = ANPWrapper(res18, tradeoff=0.2, lr=0.0001, ep=0.5)"
   ]
  },
  {
   "cell_type": "code",
   "execution_count": 19,
   "id": "64f50b76-09df-4e20-ba17-b45e3c356d4e",
   "metadata": {},
   "outputs": [],
   "source": [
    "scheduler = torch.optim.lr_scheduler.CosineAnnealingLR(anp_system.weight_masks_optimizer, T_max=200)"
   ]
  },
  {
   "cell_type": "code",
   "execution_count": 20,
   "id": "96866b1a-1f91-4074-bf48-6f879e6c507b",
   "metadata": {},
   "outputs": [],
   "source": [
    "# copied from assignment 2\n",
    "def compute_accuracy(prediction,gt_logits):\n",
    "    pred_idx = np.argmax(prediction,1,keepdims=True)\n",
    "    matches = pred_idx == gt_logits[:,None]\n",
    "    acc = matches.mean()\n",
    "    return acc"
   ]
  },
  {
   "cell_type": "code",
   "execution_count": 21,
   "id": "743c9977-b158-4bca-9d07-3531aa86139e",
   "metadata": {},
   "outputs": [],
   "source": [
    "# add a backdoor to a test set to see its efficacy\n",
    "def introduce_backdoor_test_set(inputs):\n",
    "    pxl_w = torch.tensor((1.0, 1.0, 1.0))\n",
    "    pxl_b = torch.tensor((0.0, 0.0, 0.0))\n",
    "    # pxl_w = (1.0 - 0.4914) / 0.2023\n",
    "    # pxl_b = (0.0 - 0.4914) / 0.2023\n",
    "    all_indices = torch.arange(inputs.shape[0])\n",
    "    inputs[all_indices, :, 31, 31] = pxl_w\n",
    "    inputs[all_indices, :, 30, 30] = pxl_w\n",
    "    inputs[all_indices, :, 29, 31] = pxl_w\n",
    "    inputs[all_indices, :, 31, 29] = pxl_w\n",
    "    inputs[all_indices, :, 30, 31] = pxl_b\n",
    "    inputs[all_indices, :, 31, 30] = pxl_b\n",
    "    inputs[all_indices, :, 29, 30] = pxl_b\n",
    "    inputs[all_indices, :, 30, 29] = pxl_b\n",
    "    inputs[all_indices, :, 29, 29] = pxl_b\n",
    "    return inputs"
   ]
  },
  {
   "cell_type": "code",
   "execution_count": 22,
   "id": "00e3dd51-915e-434d-b89e-dcd099b70114",
   "metadata": {
    "scrolled": true
   },
   "outputs": [
    {
     "name": "stdout",
     "output_type": "stream",
     "text": [
      "epoch: 0 | total_weight_masks_loss: 254.69313354045153\n",
      "Test Accuracy: 0.6881\n",
      "Backdoor Success Rate: 0.1775\n",
      "epoch: 1 | total_weight_masks_loss: 252.34180154651403\n",
      "Test Accuracy: 0.6988\n",
      "Backdoor Success Rate: 0.7827\n",
      "epoch: 2 | total_weight_masks_loss: 251.78215597569942\n",
      "Test Accuracy: 0.7167\n",
      "Backdoor Success Rate: 0.8622\n",
      "epoch: 3 | total_weight_masks_loss: 251.52211450785398\n",
      "Test Accuracy: 0.7217\n",
      "Backdoor Success Rate: 0.1412\n",
      "epoch: 4 | total_weight_masks_loss: 253.22146406024694\n",
      "Test Accuracy: 0.7128\n",
      "Backdoor Success Rate: 0.8288\n",
      "epoch: 5 | total_weight_masks_loss: 250.139932975173\n",
      "Test Accuracy: 0.7056\n",
      "Backdoor Success Rate: 0.9558\n",
      "epoch: 6 | total_weight_masks_loss: 255.41179578006268\n",
      "Test Accuracy: 0.71\n",
      "Backdoor Success Rate: 0.1724\n",
      "epoch: 7 | total_weight_masks_loss: 249.29781574755907\n",
      "Test Accuracy: 0.7075\n",
      "Backdoor Success Rate: 0.3355\n",
      "epoch: 8 | total_weight_masks_loss: 250.9340639859438\n",
      "Test Accuracy: 0.7134\n",
      "Backdoor Success Rate: 0.3694\n",
      "epoch: 9 | total_weight_masks_loss: 249.62134024500847\n",
      "Test Accuracy: 0.7209\n",
      "Backdoor Success Rate: 0.5214\n",
      "epoch: 10 | total_weight_masks_loss: 248.34736596047878\n",
      "Test Accuracy: 0.7208\n",
      "Backdoor Success Rate: 0.4769\n",
      "epoch: 11 | total_weight_masks_loss: 251.20642349869013\n",
      "Test Accuracy: 0.7045\n",
      "Backdoor Success Rate: 0.1842\n",
      "epoch: 12 | total_weight_masks_loss: 251.74276012927294\n",
      "Test Accuracy: 0.7153\n",
      "Backdoor Success Rate: 0.7973\n",
      "epoch: 13 | total_weight_masks_loss: 250.15946389734745\n",
      "Test Accuracy: 0.7032\n",
      "Backdoor Success Rate: 0.1738\n",
      "epoch: 14 | total_weight_masks_loss: 255.6077171638608\n",
      "Test Accuracy: 0.7201\n",
      "Backdoor Success Rate: 0.2146\n",
      "epoch: 15 | total_weight_masks_loss: 254.68561531603336\n",
      "Test Accuracy: 0.6875\n",
      "Backdoor Success Rate: 0.1783\n",
      "epoch: 16 | total_weight_masks_loss: 253.67376555502415\n",
      "Test Accuracy: 0.6882\n",
      "Backdoor Success Rate: 0.9602\n",
      "epoch: 17 | total_weight_masks_loss: 253.95554641634226\n",
      "Test Accuracy: 0.6929\n",
      "Backdoor Success Rate: 0.919\n",
      "epoch: 18 | total_weight_masks_loss: 249.42720244824886\n",
      "Test Accuracy: 0.7049\n",
      "Backdoor Success Rate: 0.4938\n",
      "epoch: 19 | total_weight_masks_loss: 251.79970472306013\n",
      "Test Accuracy: 0.7123\n",
      "Backdoor Success Rate: 0.3355\n",
      "epoch: 20 | total_weight_masks_loss: 252.55668381601572\n",
      "Test Accuracy: 0.7173\n",
      "Backdoor Success Rate: 0.598\n",
      "epoch: 21 | total_weight_masks_loss: 251.43831644952297\n",
      "Test Accuracy: 0.7062\n",
      "Backdoor Success Rate: 0.1471\n",
      "epoch: 22 | total_weight_masks_loss: 255.20502411574125\n",
      "Test Accuracy: 0.6903\n",
      "Backdoor Success Rate: 0.3572\n",
      "epoch: 23 | total_weight_masks_loss: 254.7799522727728\n",
      "Test Accuracy: 0.6743\n",
      "Backdoor Success Rate: 0.7868\n",
      "epoch: 24 | total_weight_masks_loss: 248.63188134133816\n",
      "Test Accuracy: 0.7065\n",
      "Backdoor Success Rate: 0.8746\n",
      "epoch: 25 | total_weight_masks_loss: 255.5109913572669\n",
      "Test Accuracy: 0.711\n",
      "Backdoor Success Rate: 0.4037\n",
      "epoch: 26 | total_weight_masks_loss: 250.87869277596474\n",
      "Test Accuracy: 0.6911\n",
      "Backdoor Success Rate: 0.8263\n",
      "epoch: 27 | total_weight_masks_loss: 252.72032630443573\n",
      "Test Accuracy: 0.7087\n",
      "Backdoor Success Rate: 0.4927\n",
      "epoch: 28 | total_weight_masks_loss: 254.96806763112545\n",
      "Test Accuracy: 0.7012\n",
      "Backdoor Success Rate: 0.6567\n",
      "epoch: 29 | total_weight_masks_loss: 252.44944539666176\n",
      "Test Accuracy: 0.6982\n",
      "Backdoor Success Rate: 0.6096\n",
      "epoch: 30 | total_weight_masks_loss: 252.7477488219738\n",
      "Test Accuracy: 0.7169\n",
      "Backdoor Success Rate: 0.1793\n",
      "epoch: 31 | total_weight_masks_loss: 251.55254616588354\n",
      "Test Accuracy: 0.6838\n",
      "Backdoor Success Rate: 0.3016\n",
      "epoch: 32 | total_weight_masks_loss: 250.29257294535637\n",
      "Test Accuracy: 0.7041\n",
      "Backdoor Success Rate: 0.1975\n",
      "epoch: 33 | total_weight_masks_loss: 247.84688384830952\n",
      "Test Accuracy: 0.7079\n",
      "Backdoor Success Rate: 0.4969\n",
      "epoch: 34 | total_weight_masks_loss: 254.15696465969086\n",
      "Test Accuracy: 0.6994\n",
      "Backdoor Success Rate: 0.3877\n",
      "epoch: 35 | total_weight_masks_loss: 247.17161095142365\n",
      "Test Accuracy: 0.7138\n",
      "Backdoor Success Rate: 0.235\n",
      "epoch: 36 | total_weight_masks_loss: 251.05565362423658\n",
      "Test Accuracy: 0.6899\n",
      "Backdoor Success Rate: 0.1295\n",
      "epoch: 37 | total_weight_masks_loss: 251.33941189944744\n",
      "Test Accuracy: 0.6985\n",
      "Backdoor Success Rate: 0.1399\n",
      "epoch: 38 | total_weight_masks_loss: 250.98096903413534\n",
      "Test Accuracy: 0.6914\n",
      "Backdoor Success Rate: 0.2956\n",
      "epoch: 39 | total_weight_masks_loss: 248.6619281321764\n",
      "Test Accuracy: 0.7093\n",
      "Backdoor Success Rate: 0.7442\n",
      "epoch: 40 | total_weight_masks_loss: 255.32351560890675\n",
      "Test Accuracy: 0.7192\n",
      "Backdoor Success Rate: 0.5317\n",
      "epoch: 41 | total_weight_masks_loss: 252.08438106626272\n",
      "Test Accuracy: 0.7082\n",
      "Backdoor Success Rate: 0.4471\n",
      "epoch: 42 | total_weight_masks_loss: 249.0331763625145\n",
      "Test Accuracy: 0.6963\n",
      "Backdoor Success Rate: 0.6284\n",
      "epoch: 43 | total_weight_masks_loss: 253.78744731098413\n",
      "Test Accuracy: 0.7145\n",
      "Backdoor Success Rate: 0.983\n",
      "epoch: 44 | total_weight_masks_loss: 252.62701874226332\n",
      "Test Accuracy: 0.7044\n",
      "Backdoor Success Rate: 0.4615\n",
      "epoch: 45 | total_weight_masks_loss: 254.4168180823326\n",
      "Test Accuracy: 0.6951\n",
      "Backdoor Success Rate: 0.1888\n",
      "epoch: 46 | total_weight_masks_loss: 253.16200195252895\n",
      "Test Accuracy: 0.6857\n",
      "Backdoor Success Rate: 0.862\n",
      "epoch: 47 | total_weight_masks_loss: 247.07331078499556\n",
      "Test Accuracy: 0.6704\n",
      "Backdoor Success Rate: 0.1461\n",
      "epoch: 48 | total_weight_masks_loss: 251.43754429370165\n",
      "Test Accuracy: 0.6916\n",
      "Backdoor Success Rate: 0.8119\n",
      "epoch: 49 | total_weight_masks_loss: 252.16677498817444\n",
      "Test Accuracy: 0.7147\n",
      "Backdoor Success Rate: 0.5692\n"
     ]
    }
   ],
   "source": [
    "test_acc_list = []\n",
    "asr_list = []\n",
    "\n",
    "# train for this many epochs\n",
    "for epoch in range(50):\n",
    "    anp_system.model.train()\n",
    "    \n",
    "    i = 0\n",
    "    total_weight_masks_loss = 0\n",
    "    for inputs, label in train_loader:\n",
    "        inputs, label = inputs.to(device), label.to(device)\n",
    "        # perform perturb step\n",
    "        weight_masks_loss = anp_system.perturb_step(inputs, label)\n",
    "        total_weight_masks_loss += weight_masks_loss\n",
    "        # print(f'epoch: {epoch} | iteration: {i} | weight_mask_loss: {weight_masks_loss}')\n",
    "        i += 1\n",
    "    print(f'epoch: {epoch} | total_weight_masks_loss: {total_weight_masks_loss}')\n",
    "\n",
    "    # in eval mode, we test backdoor effectiveness\n",
    "    anp_system.model.eval()\n",
    "    \n",
    "    # testing loop (normal data)\n",
    "    total_test_acc = 0\n",
    "    test_item_ct = 0\n",
    "    with torch.no_grad():\n",
    "        for inputs, label in test_loader:\n",
    "            inputs, label = inputs.to(device), label.to(device)\n",
    "            \n",
    "            pred = anp_system.model(inputs)\n",
    "            accuracy = compute_accuracy(pred.cpu().detach().numpy(),label.cpu().detach().numpy())\n",
    "            \n",
    "            total_test_acc += accuracy * inputs.shape[0]\n",
    "            test_item_ct += inputs.shape[0]\n",
    "    print(f'Test Accuracy: {total_test_acc/test_item_ct}')\n",
    "    test_acc_list.append(total_test_acc/test_item_ct)\n",
    "    \n",
    "    # test with backdoor inserted to training set images\n",
    "    backdoor_success_ct = 0\n",
    "    backdoor_item_ct = 0\n",
    "    with torch.no_grad():\n",
    "        for inputs, label in test_loader:\n",
    "            inputs = introduce_backdoor_test_set(inputs).to(device)\n",
    "            \n",
    "            pred = anp_system.model(inputs)\n",
    "            pred_lbls = np.argmax(pred.cpu().detach().numpy(),1,keepdims=True)\n",
    "\n",
    "            backdoor_success_ct += np.sum(pred_lbls == 0)\n",
    "            backdoor_item_ct += inputs.shape[0]\n",
    "    \n",
    "    print(f'Backdoor Success Rate: {backdoor_success_ct/backdoor_item_ct}')\n",
    "    asr_list.append(backdoor_success_ct/backdoor_item_ct)\n",
    "\n",
    "    scheduler.step()"
   ]
  },
  {
   "cell_type": "code",
   "execution_count": 23,
   "id": "82803dab-05ca-4eb1-a008-273e16ccac3c",
   "metadata": {},
   "outputs": [],
   "source": [
    "import matplotlib.pyplot as plt"
   ]
  },
  {
   "cell_type": "code",
   "execution_count": 24,
   "id": "a6b74ed9-28c5-497e-8e10-72aa6b7bf4ba",
   "metadata": {},
   "outputs": [
    {
     "data": {
      "text/plain": [
       "[<matplotlib.lines.Line2D at 0x1c44f9324e0>]"
      ]
     },
     "execution_count": 24,
     "metadata": {},
     "output_type": "execute_result"
    },
    {
     "data": {
      "image/png": "[encoded data removed]",
      "text/plain": [
       "<Figure size 640x480 with 1 Axes>"
      ]
     },
     "metadata": {},
     "output_type": "display_data"
    }
   ],
   "source": [
    "plt.plot(test_acc_list)\n",
    "plt.plot(asr_list)"
   ]
  },
  {
   "cell_type": "code",
   "execution_count": 26,
   "id": "975f05e8-2c64-4d3d-a311-0bdcc29e53ce",
   "metadata": {},
   "outputs": [],
   "source": [
    "all_masks_values = []\n",
    "\n",
    "for name in anp_system.weight_masks:\n",
    "    weight_mask_tensor = anp_system.weight_masks[name]\n",
    "    all_masks_values.append(weight_mask_tensor.cpu().detach().numpy().flatten())\n",
    "\n",
    "all_masks_values = np.concatenate(all_masks_values)"
   ]
  },
  {
   "cell_type": "code",
   "execution_count": 27,
   "id": "f222c57e-dec0-48b1-96e2-8d507fc3e2d7",
   "metadata": {},
   "outputs": [
    {
     "data": {
      "text/plain": [
       "(11172032,)"
      ]
     },
     "execution_count": 27,
     "metadata": {},
     "output_type": "execute_result"
    }
   ],
   "source": [
    "all_masks_values.shape"
   ]
  },
  {
   "cell_type": "code",
   "execution_count": 32,
   "id": "fcc3180d-4d75-4312-8954-aefbb6c2ee95",
   "metadata": {},
   "outputs": [
    {
     "data": {
      "text/plain": [
       "(array([       0.,        0.,        0.,        0.,        0.,        0.,\n",
       "               0.,        0.,        0.,        0., 11172032.,        0.,\n",
       "               0.,        0.,        0.,        0.,        0.,        0.,\n",
       "               0.,        0.]),\n",
       " array([0.5       , 0.55000001, 0.60000002, 0.64999998, 0.69999999,\n",
       "        0.75      , 0.80000001, 0.85000002, 0.89999998, 0.95000005,\n",
       "        1.        , 1.04999995, 1.10000002, 1.1500001 , 1.20000005,\n",
       "        1.25      , 1.29999995, 1.35000002, 1.4000001 , 1.45000005,\n",
       "        1.5       ]),\n",
       " <BarContainer object of 20 artists>)"
      ]
     },
     "execution_count": 32,
     "metadata": {},
     "output_type": "execute_result"
    },
    {
     "data": {
      "image/png": "[encoded data removed]",
      "text/plain": [
       "<Figure size 640x480 with 1 Axes>"
      ]
     },
     "metadata": {},
     "output_type": "display_data"
    }
   ],
   "source": [
    "plt.hist(all_masks_values, bins=20, log=True)"
   ]
  },
  {
   "cell_type": "code",
   "execution_count": 36,
   "id": "84e9e016-09dc-4278-805d-4063fe9292a0",
   "metadata": {},
   "outputs": [
    {
     "data": {
      "text/plain": [
       "np.float32(0.0)"
      ]
     },
     "execution_count": 36,
     "metadata": {},
     "output_type": "execute_result"
    }
   ],
   "source": [
    "# np.mean(all_masks_values)\n",
    "np.std(all_masks_values)    # 0.0? they did not change at all!"
   ]
  },
  {
   "cell_type": "code",
   "execution_count": 37,
   "id": "65ba2b64-c820-465b-bb5e-3e3be0ec4079",
   "metadata": {},
   "outputs": [],
   "source": [
    "all_perturbations_values = []\n",
    "\n",
    "for name in anp_system.weight_perturbations:\n",
    "    weight_perturbation_tensor = anp_system.weight_perturbations[name]\n",
    "    all_perturbations_values.append(weight_perturbation_tensor.cpu().detach().numpy().flatten())\n",
    "\n",
    "all_perturbations_values = np.concatenate(all_perturbations_values)"
   ]
  },
  {
   "cell_type": "code",
   "execution_count": 38,
   "id": "2dfb19a6-ad37-4880-825e-247d4b2845a8",
   "metadata": {},
   "outputs": [
    {
     "data": {
      "text/plain": [
       "(11172032,)"
      ]
     },
     "execution_count": 38,
     "metadata": {},
     "output_type": "execute_result"
    }
   ],
   "source": [
    "all_perturbations_values.shape"
   ]
  },
  {
   "cell_type": "code",
   "execution_count": 39,
   "id": "bd438891-0256-494e-93f4-677d3281e374",
   "metadata": {},
   "outputs": [
    {
     "data": {
      "text/plain": [
       "(array([150567., 150970., 151154., 150544., 151000., 966086., 964970.,\n",
       "        966136., 965564., 965335., 967264., 966234., 965038., 965566.,\n",
       "        967992., 151634., 151327., 151242., 151681., 151728.]),\n",
       " array([-9.99999642e-01, -8.99999678e-01, -7.99999714e-01, -6.99999809e-01,\n",
       "        -5.99999845e-01, -4.99999881e-01, -3.99999976e-01, -3.00000012e-01,\n",
       "        -2.00000048e-01, -1.00000083e-01, -1.19209290e-07,  9.99997854e-02,\n",
       "         1.99999690e-01,  2.99999714e-01,  3.99999619e-01,  4.99999642e-01,\n",
       "         5.99999547e-01,  6.99999452e-01,  7.99999475e-01,  8.99999380e-01,\n",
       "         9.99999344e-01]),\n",
       " <BarContainer object of 20 artists>)"
      ]
     },
     "execution_count": 39,
     "metadata": {},
     "output_type": "execute_result"
    },
    {
     "data": {
      "image/png": "[encoded data removed]",
      "text/plain": [
       "<Figure size 640x480 with 1 Axes>"
      ]
     },
     "metadata": {},
     "output_type": "display_data"
    }
   ],
   "source": [
    "plt.hist(all_perturbations_values, bins=20, log=True)"
   ]
  },
  {
   "cell_type": "code",
   "execution_count": null,
   "id": "bd69f957-a6fb-4c1b-a153-10b8ad9e51fe",
   "metadata": {},
   "outputs": [],
   "source": []
  }
 ],
 "metadata": {
  "kernelspec": {
   "display_name": "Python 3 (ipykernel)",
   "language": "python",
   "name": "python3"
  },
  "language_info": {
   "codemirror_mode": {
    "name": "ipython",
    "version": 3
   },
   "file_extension": ".py",
   "mimetype": "text/x-python",
   "name": "python",
   "nbconvert_exporter": "python",
   "pygments_lexer": "ipython3",
   "version": "3.12.9"
  }
 },
 "nbformat": 4,
 "nbformat_minor": 5
}
